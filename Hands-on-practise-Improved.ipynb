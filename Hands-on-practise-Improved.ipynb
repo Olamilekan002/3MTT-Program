{
 "cells": [
  {
   "cell_type": "markdown",
   "id": "9d2c6b6b",
   "metadata": {},
   "source": [
    "In the real estate market, accurately predicting the price of a house is crucial for both buyers and sellers to make informed decisions. However, the process is often complex due to the multitude of factors that can influence a house's price, such as its size, location, age, and amenities. Traditional methods of price estimation can be time-consuming and may not always capture the nuanced interactions between these factors.\n",
    "\n",
    "Using machine learning methods develop a model to predict the price of houses given a data with 5000 records including the area, number of bedrooms, bathrooms, garage, age, etc"
   ]
  },
  {
   "cell_type": "code",
   "execution_count": 1,
   "id": "b14a4b1d",
   "metadata": {},
   "outputs": [],
   "source": [
    "#importing necessary libaries\n",
    "import numpy as np\n",
    "import pandas as pd\n",
    "import seaborn as sns\n",
    "import matplotlib.pyplot as plt"
   ]
  },
  {
   "cell_type": "code",
   "execution_count": 2,
   "id": "d1d15bd2",
   "metadata": {},
   "outputs": [],
   "source": [
    "#import data\n",
    "df = pd.read_csv('house_prices_dirty.csv')"
   ]
  },
  {
   "cell_type": "code",
   "execution_count": 3,
   "id": "e6780f9e",
   "metadata": {},
   "outputs": [],
   "source": [
    "# price is the target"
   ]
  },
  {
   "cell_type": "code",
   "execution_count": 4,
   "id": "3f62e5e0",
   "metadata": {},
   "outputs": [
    {
     "data": {
      "text/html": [
       "<div>\n",
       "<style scoped>\n",
       "    .dataframe tbody tr th:only-of-type {\n",
       "        vertical-align: middle;\n",
       "    }\n",
       "\n",
       "    .dataframe tbody tr th {\n",
       "        vertical-align: top;\n",
       "    }\n",
       "\n",
       "    .dataframe thead th {\n",
       "        text-align: right;\n",
       "    }\n",
       "</style>\n",
       "<table border=\"1\" class=\"dataframe\">\n",
       "  <thead>\n",
       "    <tr style=\"text-align: right;\">\n",
       "      <th></th>\n",
       "      <th>Area</th>\n",
       "      <th>Bedrooms</th>\n",
       "      <th>Bathrooms</th>\n",
       "      <th>Location</th>\n",
       "      <th>Age</th>\n",
       "      <th>Garage</th>\n",
       "      <th>Price</th>\n",
       "    </tr>\n",
       "  </thead>\n",
       "  <tbody>\n",
       "    <tr>\n",
       "      <th>0</th>\n",
       "      <td>3774</td>\n",
       "      <td>4</td>\n",
       "      <td>2</td>\n",
       "      <td>Location3</td>\n",
       "      <td>23.0</td>\n",
       "      <td>0</td>\n",
       "      <td>814142.617200</td>\n",
       "    </tr>\n",
       "    <tr>\n",
       "      <th>1</th>\n",
       "      <td>4107</td>\n",
       "      <td>2</td>\n",
       "      <td>2</td>\n",
       "      <td>Location3</td>\n",
       "      <td>46.0</td>\n",
       "      <td>0</td>\n",
       "      <td>836259.082065</td>\n",
       "    </tr>\n",
       "    <tr>\n",
       "      <th>2</th>\n",
       "      <td>1460</td>\n",
       "      <td>3</td>\n",
       "      <td>3</td>\n",
       "      <td>Location2</td>\n",
       "      <td>113.0</td>\n",
       "      <td>1</td>\n",
       "      <td>296721.573960</td>\n",
       "    </tr>\n",
       "    <tr>\n",
       "      <th>3</th>\n",
       "      <td>1894</td>\n",
       "      <td>5</td>\n",
       "      <td>2</td>\n",
       "      <td>NaN</td>\n",
       "      <td>30.0</td>\n",
       "      <td>0</td>\n",
       "      <td>399099.591046</td>\n",
       "    </tr>\n",
       "    <tr>\n",
       "      <th>4</th>\n",
       "      <td>1730</td>\n",
       "      <td>3</td>\n",
       "      <td>2</td>\n",
       "      <td>Location5</td>\n",
       "      <td>67.0</td>\n",
       "      <td>0</td>\n",
       "      <td>441862.941002</td>\n",
       "    </tr>\n",
       "  </tbody>\n",
       "</table>\n",
       "</div>"
      ],
      "text/plain": [
       "   Area  Bedrooms  Bathrooms   Location    Age  Garage          Price\n",
       "0  3774         4          2  Location3   23.0       0  814142.617200\n",
       "1  4107         2          2  Location3   46.0       0  836259.082065\n",
       "2  1460         3          3  Location2  113.0       1  296721.573960\n",
       "3  1894         5          2        NaN   30.0       0  399099.591046\n",
       "4  1730         3          2  Location5   67.0       0  441862.941002"
      ]
     },
     "execution_count": 4,
     "metadata": {},
     "output_type": "execute_result"
    }
   ],
   "source": [
    "#first 5 rows\n",
    "df.head()"
   ]
  },
  {
   "cell_type": "markdown",
   "id": "e93339f5",
   "metadata": {},
   "source": [
    "### EDA"
   ]
  },
  {
   "cell_type": "code",
   "execution_count": 5,
   "id": "87d4540e",
   "metadata": {},
   "outputs": [
    {
     "data": {
      "text/plain": [
       "Index(['Area', 'Bedrooms', 'Bathrooms', 'Location', 'Age', 'Garage', 'Price'], dtype='object')"
      ]
     },
     "execution_count": 5,
     "metadata": {},
     "output_type": "execute_result"
    }
   ],
   "source": [
    "#columns in the dataframe\n",
    "df.columns"
   ]
  },
  {
   "cell_type": "code",
   "execution_count": 6,
   "id": "8c124d66",
   "metadata": {},
   "outputs": [],
   "source": [
    "# new_name = []\n",
    "# for x in df.columns:\n",
    "#     new_name.append(x.lower())"
   ]
  },
  {
   "cell_type": "code",
   "execution_count": 7,
   "id": "9e8d8849",
   "metadata": {},
   "outputs": [],
   "source": [
    "# new_name"
   ]
  },
  {
   "cell_type": "code",
   "execution_count": 8,
   "id": "16cf744a",
   "metadata": {},
   "outputs": [
    {
     "data": {
      "text/plain": [
       "['area', 'bedrooms', 'bathrooms', 'location', 'age', 'garage', 'price']"
      ]
     },
     "execution_count": 8,
     "metadata": {},
     "output_type": "execute_result"
    }
   ],
   "source": [
    "# list comprehension\n",
    "[x.lower() for x in df.columns]"
   ]
  },
  {
   "cell_type": "code",
   "execution_count": 9,
   "id": "9dc559f5",
   "metadata": {},
   "outputs": [],
   "source": [
    "# changing column names to small letters\n",
    "df.columns = [x.lower() for x in df.columns]"
   ]
  },
  {
   "cell_type": "code",
   "execution_count": 10,
   "id": "eb4bf761",
   "metadata": {},
   "outputs": [
    {
     "data": {
      "text/plain": [
       "Index(['area', 'bedrooms', 'bathrooms', 'location', 'age', 'garage', 'price'], dtype='object')"
      ]
     },
     "execution_count": 10,
     "metadata": {},
     "output_type": "execute_result"
    }
   ],
   "source": [
    "df.columns"
   ]
  },
  {
   "cell_type": "code",
   "execution_count": 11,
   "id": "39e75816",
   "metadata": {},
   "outputs": [
    {
     "data": {
      "text/html": [
       "<div>\n",
       "<style scoped>\n",
       "    .dataframe tbody tr th:only-of-type {\n",
       "        vertical-align: middle;\n",
       "    }\n",
       "\n",
       "    .dataframe tbody tr th {\n",
       "        vertical-align: top;\n",
       "    }\n",
       "\n",
       "    .dataframe thead th {\n",
       "        text-align: right;\n",
       "    }\n",
       "</style>\n",
       "<table border=\"1\" class=\"dataframe\">\n",
       "  <thead>\n",
       "    <tr style=\"text-align: right;\">\n",
       "      <th></th>\n",
       "      <th>area</th>\n",
       "      <th>bedrooms</th>\n",
       "      <th>bathrooms</th>\n",
       "      <th>location</th>\n",
       "      <th>age</th>\n",
       "      <th>garage</th>\n",
       "      <th>price</th>\n",
       "    </tr>\n",
       "  </thead>\n",
       "  <tbody>\n",
       "    <tr>\n",
       "      <th>0</th>\n",
       "      <td>3774</td>\n",
       "      <td>4</td>\n",
       "      <td>2</td>\n",
       "      <td>Location3</td>\n",
       "      <td>23.0</td>\n",
       "      <td>0</td>\n",
       "      <td>814142.617200</td>\n",
       "    </tr>\n",
       "    <tr>\n",
       "      <th>1</th>\n",
       "      <td>4107</td>\n",
       "      <td>2</td>\n",
       "      <td>2</td>\n",
       "      <td>Location3</td>\n",
       "      <td>46.0</td>\n",
       "      <td>0</td>\n",
       "      <td>836259.082065</td>\n",
       "    </tr>\n",
       "    <tr>\n",
       "      <th>2</th>\n",
       "      <td>1460</td>\n",
       "      <td>3</td>\n",
       "      <td>3</td>\n",
       "      <td>Location2</td>\n",
       "      <td>113.0</td>\n",
       "      <td>1</td>\n",
       "      <td>296721.573960</td>\n",
       "    </tr>\n",
       "    <tr>\n",
       "      <th>3</th>\n",
       "      <td>1894</td>\n",
       "      <td>5</td>\n",
       "      <td>2</td>\n",
       "      <td>NaN</td>\n",
       "      <td>30.0</td>\n",
       "      <td>0</td>\n",
       "      <td>399099.591046</td>\n",
       "    </tr>\n",
       "    <tr>\n",
       "      <th>4</th>\n",
       "      <td>1730</td>\n",
       "      <td>3</td>\n",
       "      <td>2</td>\n",
       "      <td>Location5</td>\n",
       "      <td>67.0</td>\n",
       "      <td>0</td>\n",
       "      <td>441862.941002</td>\n",
       "    </tr>\n",
       "  </tbody>\n",
       "</table>\n",
       "</div>"
      ],
      "text/plain": [
       "   area  bedrooms  bathrooms   location    age  garage          price\n",
       "0  3774         4          2  Location3   23.0       0  814142.617200\n",
       "1  4107         2          2  Location3   46.0       0  836259.082065\n",
       "2  1460         3          3  Location2  113.0       1  296721.573960\n",
       "3  1894         5          2        NaN   30.0       0  399099.591046\n",
       "4  1730         3          2  Location5   67.0       0  441862.941002"
      ]
     },
     "execution_count": 11,
     "metadata": {},
     "output_type": "execute_result"
    }
   ],
   "source": [
    "#top 5 rows\n",
    "df.head()"
   ]
  },
  {
   "cell_type": "code",
   "execution_count": 12,
   "id": "491bb8af",
   "metadata": {},
   "outputs": [
    {
     "name": "stdout",
     "output_type": "stream",
     "text": [
      "<class 'pandas.core.frame.DataFrame'>\n",
      "RangeIndex: 5000 entries, 0 to 4999\n",
      "Data columns (total 7 columns):\n",
      " #   Column     Non-Null Count  Dtype  \n",
      "---  ------     --------------  -----  \n",
      " 0   area       5000 non-null   int64  \n",
      " 1   bedrooms   5000 non-null   int64  \n",
      " 2   bathrooms  5000 non-null   int64  \n",
      " 3   location   4969 non-null   object \n",
      " 4   age        4907 non-null   float64\n",
      " 5   garage     5000 non-null   int64  \n",
      " 6   price      5000 non-null   float64\n",
      "dtypes: float64(2), int64(4), object(1)\n",
      "memory usage: 273.6+ KB\n"
     ]
    }
   ],
   "source": [
    "#short description\n",
    "df.info()"
   ]
  },
  {
   "cell_type": "code",
   "execution_count": 13,
   "id": "886ff26c",
   "metadata": {},
   "outputs": [
    {
     "data": {
      "text/html": [
       "<div>\n",
       "<style scoped>\n",
       "    .dataframe tbody tr th:only-of-type {\n",
       "        vertical-align: middle;\n",
       "    }\n",
       "\n",
       "    .dataframe tbody tr th {\n",
       "        vertical-align: top;\n",
       "    }\n",
       "\n",
       "    .dataframe thead th {\n",
       "        text-align: right;\n",
       "    }\n",
       "</style>\n",
       "<table border=\"1\" class=\"dataframe\">\n",
       "  <thead>\n",
       "    <tr style=\"text-align: right;\">\n",
       "      <th></th>\n",
       "      <th>area</th>\n",
       "      <th>bedrooms</th>\n",
       "      <th>bathrooms</th>\n",
       "      <th>age</th>\n",
       "      <th>garage</th>\n",
       "      <th>price</th>\n",
       "    </tr>\n",
       "  </thead>\n",
       "  <tbody>\n",
       "    <tr>\n",
       "      <th>count</th>\n",
       "      <td>5000.000000</td>\n",
       "      <td>5000.0000</td>\n",
       "      <td>5000.000000</td>\n",
       "      <td>4907.000000</td>\n",
       "      <td>5000.000000</td>\n",
       "      <td>5.000000e+03</td>\n",
       "    </tr>\n",
       "    <tr>\n",
       "      <th>mean</th>\n",
       "      <td>2567.655200</td>\n",
       "      <td>2.9982</td>\n",
       "      <td>1.976600</td>\n",
       "      <td>60.129407</td>\n",
       "      <td>1.008800</td>\n",
       "      <td>5.573903e+05</td>\n",
       "    </tr>\n",
       "    <tr>\n",
       "      <th>std</th>\n",
       "      <td>1120.887667</td>\n",
       "      <td>1.4140</td>\n",
       "      <td>0.819382</td>\n",
       "      <td>34.313983</td>\n",
       "      <td>0.819547</td>\n",
       "      <td>2.211179e+05</td>\n",
       "    </tr>\n",
       "    <tr>\n",
       "      <th>min</th>\n",
       "      <td>600.000000</td>\n",
       "      <td>1.0000</td>\n",
       "      <td>1.000000</td>\n",
       "      <td>1.000000</td>\n",
       "      <td>0.000000</td>\n",
       "      <td>4.047702e+04</td>\n",
       "    </tr>\n",
       "    <tr>\n",
       "      <th>25%</th>\n",
       "      <td>1592.750000</td>\n",
       "      <td>2.0000</td>\n",
       "      <td>1.000000</td>\n",
       "      <td>30.000000</td>\n",
       "      <td>0.000000</td>\n",
       "      <td>3.783680e+05</td>\n",
       "    </tr>\n",
       "    <tr>\n",
       "      <th>50%</th>\n",
       "      <td>2561.500000</td>\n",
       "      <td>3.0000</td>\n",
       "      <td>2.000000</td>\n",
       "      <td>60.000000</td>\n",
       "      <td>1.000000</td>\n",
       "      <td>5.477114e+05</td>\n",
       "    </tr>\n",
       "    <tr>\n",
       "      <th>75%</th>\n",
       "      <td>3550.250000</td>\n",
       "      <td>4.0000</td>\n",
       "      <td>3.000000</td>\n",
       "      <td>89.000000</td>\n",
       "      <td>2.000000</td>\n",
       "      <td>7.254004e+05</td>\n",
       "    </tr>\n",
       "    <tr>\n",
       "      <th>max</th>\n",
       "      <td>4499.000000</td>\n",
       "      <td>5.0000</td>\n",
       "      <td>3.000000</td>\n",
       "      <td>119.000000</td>\n",
       "      <td>2.000000</td>\n",
       "      <td>1.192210e+06</td>\n",
       "    </tr>\n",
       "  </tbody>\n",
       "</table>\n",
       "</div>"
      ],
      "text/plain": [
       "              area   bedrooms    bathrooms          age       garage  \\\n",
       "count  5000.000000  5000.0000  5000.000000  4907.000000  5000.000000   \n",
       "mean   2567.655200     2.9982     1.976600    60.129407     1.008800   \n",
       "std    1120.887667     1.4140     0.819382    34.313983     0.819547   \n",
       "min     600.000000     1.0000     1.000000     1.000000     0.000000   \n",
       "25%    1592.750000     2.0000     1.000000    30.000000     0.000000   \n",
       "50%    2561.500000     3.0000     2.000000    60.000000     1.000000   \n",
       "75%    3550.250000     4.0000     3.000000    89.000000     2.000000   \n",
       "max    4499.000000     5.0000     3.000000   119.000000     2.000000   \n",
       "\n",
       "              price  \n",
       "count  5.000000e+03  \n",
       "mean   5.573903e+05  \n",
       "std    2.211179e+05  \n",
       "min    4.047702e+04  \n",
       "25%    3.783680e+05  \n",
       "50%    5.477114e+05  \n",
       "75%    7.254004e+05  \n",
       "max    1.192210e+06  "
      ]
     },
     "execution_count": 13,
     "metadata": {},
     "output_type": "execute_result"
    }
   ],
   "source": [
    "#a simple statistical description\n",
    "df.describe()"
   ]
  },
  {
   "cell_type": "code",
   "execution_count": 14,
   "id": "3209d59a",
   "metadata": {},
   "outputs": [
    {
     "data": {
      "text/html": [
       "<div>\n",
       "<style scoped>\n",
       "    .dataframe tbody tr th:only-of-type {\n",
       "        vertical-align: middle;\n",
       "    }\n",
       "\n",
       "    .dataframe tbody tr th {\n",
       "        vertical-align: top;\n",
       "    }\n",
       "\n",
       "    .dataframe thead th {\n",
       "        text-align: right;\n",
       "    }\n",
       "</style>\n",
       "<table border=\"1\" class=\"dataframe\">\n",
       "  <thead>\n",
       "    <tr style=\"text-align: right;\">\n",
       "      <th></th>\n",
       "      <th>location</th>\n",
       "    </tr>\n",
       "  </thead>\n",
       "  <tbody>\n",
       "    <tr>\n",
       "      <th>count</th>\n",
       "      <td>4969</td>\n",
       "    </tr>\n",
       "    <tr>\n",
       "      <th>unique</th>\n",
       "      <td>5</td>\n",
       "    </tr>\n",
       "    <tr>\n",
       "      <th>top</th>\n",
       "      <td>Location2</td>\n",
       "    </tr>\n",
       "    <tr>\n",
       "      <th>freq</th>\n",
       "      <td>1051</td>\n",
       "    </tr>\n",
       "  </tbody>\n",
       "</table>\n",
       "</div>"
      ],
      "text/plain": [
       "         location\n",
       "count        4969\n",
       "unique          5\n",
       "top     Location2\n",
       "freq         1051"
      ]
     },
     "execution_count": 14,
     "metadata": {},
     "output_type": "execute_result"
    }
   ],
   "source": [
    "#a simple statistical description for the Categorical column\n",
    "# 'O' - letter represents object\n",
    "df.describe(include='O')"
   ]
  },
  {
   "cell_type": "code",
   "execution_count": 15,
   "id": "dfe56114",
   "metadata": {},
   "outputs": [
    {
     "data": {
      "text/html": [
       "<div>\n",
       "<style scoped>\n",
       "    .dataframe tbody tr th:only-of-type {\n",
       "        vertical-align: middle;\n",
       "    }\n",
       "\n",
       "    .dataframe tbody tr th {\n",
       "        vertical-align: top;\n",
       "    }\n",
       "\n",
       "    .dataframe thead th {\n",
       "        text-align: right;\n",
       "    }\n",
       "</style>\n",
       "<table border=\"1\" class=\"dataframe\">\n",
       "  <thead>\n",
       "    <tr style=\"text-align: right;\">\n",
       "      <th></th>\n",
       "      <th>area</th>\n",
       "      <th>bedrooms</th>\n",
       "      <th>bathrooms</th>\n",
       "      <th>location</th>\n",
       "      <th>age</th>\n",
       "      <th>garage</th>\n",
       "      <th>price</th>\n",
       "    </tr>\n",
       "  </thead>\n",
       "  <tbody>\n",
       "    <tr>\n",
       "      <th>0</th>\n",
       "      <td>False</td>\n",
       "      <td>False</td>\n",
       "      <td>False</td>\n",
       "      <td>False</td>\n",
       "      <td>False</td>\n",
       "      <td>False</td>\n",
       "      <td>False</td>\n",
       "    </tr>\n",
       "    <tr>\n",
       "      <th>1</th>\n",
       "      <td>False</td>\n",
       "      <td>False</td>\n",
       "      <td>False</td>\n",
       "      <td>False</td>\n",
       "      <td>False</td>\n",
       "      <td>False</td>\n",
       "      <td>False</td>\n",
       "    </tr>\n",
       "    <tr>\n",
       "      <th>2</th>\n",
       "      <td>False</td>\n",
       "      <td>False</td>\n",
       "      <td>False</td>\n",
       "      <td>False</td>\n",
       "      <td>False</td>\n",
       "      <td>False</td>\n",
       "      <td>False</td>\n",
       "    </tr>\n",
       "    <tr>\n",
       "      <th>3</th>\n",
       "      <td>False</td>\n",
       "      <td>False</td>\n",
       "      <td>False</td>\n",
       "      <td>True</td>\n",
       "      <td>False</td>\n",
       "      <td>False</td>\n",
       "      <td>False</td>\n",
       "    </tr>\n",
       "    <tr>\n",
       "      <th>4</th>\n",
       "      <td>False</td>\n",
       "      <td>False</td>\n",
       "      <td>False</td>\n",
       "      <td>False</td>\n",
       "      <td>False</td>\n",
       "      <td>False</td>\n",
       "      <td>False</td>\n",
       "    </tr>\n",
       "    <tr>\n",
       "      <th>...</th>\n",
       "      <td>...</td>\n",
       "      <td>...</td>\n",
       "      <td>...</td>\n",
       "      <td>...</td>\n",
       "      <td>...</td>\n",
       "      <td>...</td>\n",
       "      <td>...</td>\n",
       "    </tr>\n",
       "    <tr>\n",
       "      <th>4995</th>\n",
       "      <td>False</td>\n",
       "      <td>False</td>\n",
       "      <td>False</td>\n",
       "      <td>False</td>\n",
       "      <td>False</td>\n",
       "      <td>False</td>\n",
       "      <td>False</td>\n",
       "    </tr>\n",
       "    <tr>\n",
       "      <th>4996</th>\n",
       "      <td>False</td>\n",
       "      <td>False</td>\n",
       "      <td>False</td>\n",
       "      <td>False</td>\n",
       "      <td>False</td>\n",
       "      <td>False</td>\n",
       "      <td>False</td>\n",
       "    </tr>\n",
       "    <tr>\n",
       "      <th>4997</th>\n",
       "      <td>False</td>\n",
       "      <td>False</td>\n",
       "      <td>False</td>\n",
       "      <td>False</td>\n",
       "      <td>False</td>\n",
       "      <td>False</td>\n",
       "      <td>False</td>\n",
       "    </tr>\n",
       "    <tr>\n",
       "      <th>4998</th>\n",
       "      <td>False</td>\n",
       "      <td>False</td>\n",
       "      <td>False</td>\n",
       "      <td>False</td>\n",
       "      <td>False</td>\n",
       "      <td>False</td>\n",
       "      <td>False</td>\n",
       "    </tr>\n",
       "    <tr>\n",
       "      <th>4999</th>\n",
       "      <td>False</td>\n",
       "      <td>False</td>\n",
       "      <td>False</td>\n",
       "      <td>False</td>\n",
       "      <td>False</td>\n",
       "      <td>False</td>\n",
       "      <td>False</td>\n",
       "    </tr>\n",
       "  </tbody>\n",
       "</table>\n",
       "<p>5000 rows × 7 columns</p>\n",
       "</div>"
      ],
      "text/plain": [
       "       area  bedrooms  bathrooms  location    age  garage  price\n",
       "0     False     False      False     False  False   False  False\n",
       "1     False     False      False     False  False   False  False\n",
       "2     False     False      False     False  False   False  False\n",
       "3     False     False      False      True  False   False  False\n",
       "4     False     False      False     False  False   False  False\n",
       "...     ...       ...        ...       ...    ...     ...    ...\n",
       "4995  False     False      False     False  False   False  False\n",
       "4996  False     False      False     False  False   False  False\n",
       "4997  False     False      False     False  False   False  False\n",
       "4998  False     False      False     False  False   False  False\n",
       "4999  False     False      False     False  False   False  False\n",
       "\n",
       "[5000 rows x 7 columns]"
      ]
     },
     "execution_count": 15,
     "metadata": {},
     "output_type": "execute_result"
    }
   ],
   "source": [
    "#checking for missing values\n",
    "df.isnull()"
   ]
  },
  {
   "cell_type": "code",
   "execution_count": 16,
   "id": "38ab5a3d",
   "metadata": {},
   "outputs": [
    {
     "data": {
      "text/plain": [
       "True"
      ]
     },
     "execution_count": 16,
     "metadata": {},
     "output_type": "execute_result"
    }
   ],
   "source": [
    "#showing that False represents 0 in Python\n",
    "False ==  0"
   ]
  },
  {
   "cell_type": "code",
   "execution_count": 17,
   "id": "14f502b8",
   "metadata": {
    "scrolled": true
   },
   "outputs": [
    {
     "data": {
      "text/plain": [
       "area          0\n",
       "bedrooms      0\n",
       "bathrooms     0\n",
       "location     31\n",
       "age          93\n",
       "garage        0\n",
       "price         0\n",
       "dtype: int64"
      ]
     },
     "execution_count": 17,
     "metadata": {},
     "output_type": "execute_result"
    }
   ],
   "source": [
    "# checking if there is missing value\n",
    "df.isnull().sum()"
   ]
  },
  {
   "cell_type": "markdown",
   "id": "91bacfb0",
   "metadata": {},
   "source": [
    "There are missing values in the data specifically for Location and Age"
   ]
  },
  {
   "cell_type": "markdown",
   "id": "8e6b004d",
   "metadata": {},
   "source": [
    "### Dealing with missing values"
   ]
  },
  {
   "cell_type": "code",
   "execution_count": 18,
   "id": "7457d11c",
   "metadata": {},
   "outputs": [],
   "source": [
    "#either of these are the same\n",
    "\n",
    "# df['location']\n",
    "# df.location"
   ]
  },
  {
   "cell_type": "code",
   "execution_count": 19,
   "id": "2b72d81b",
   "metadata": {},
   "outputs": [
    {
     "data": {
      "text/plain": [
       "Location2    1051\n",
       "Location4     985\n",
       "Location1     985\n",
       "Location5     984\n",
       "Location3     964\n",
       "Name: location, dtype: int64"
      ]
     },
     "execution_count": 19,
     "metadata": {},
     "output_type": "execute_result"
    }
   ],
   "source": [
    "#showing counts of location categories\n",
    "df.location.value_counts()"
   ]
  },
  {
   "cell_type": "code",
   "execution_count": 20,
   "id": "55d2e564",
   "metadata": {
    "scrolled": true
   },
   "outputs": [
    {
     "data": {
      "image/png": "[encoded data removed]",
      "text/plain": [
       "<Figure size 432x288 with 1 Axes>"
      ]
     },
     "metadata": {
      "needs_background": "light"
     },
     "output_type": "display_data"
    }
   ],
   "source": [
    "#count of all the location where the data was gotten from\n",
    "sns.countplot(y=df.location, color='blue', order = df.location.value_counts().keys());"
   ]
  },
  {
   "cell_type": "markdown",
   "id": "9476b2e4",
   "metadata": {},
   "source": [
    "We will fill Location with the mode which is location2"
   ]
  },
  {
   "cell_type": "code",
   "execution_count": 21,
   "id": "a53e21e1",
   "metadata": {},
   "outputs": [
    {
     "data": {
      "text/plain": [
       "'Location2'"
      ]
     },
     "execution_count": 21,
     "metadata": {},
     "output_type": "execute_result"
    }
   ],
   "source": [
    "#getting the most occuring location\n",
    "df.location.mode()[0]"
   ]
  },
  {
   "cell_type": "code",
   "execution_count": 22,
   "id": "0e8bb808",
   "metadata": {},
   "outputs": [
    {
     "data": {
      "text/plain": [
       "pandas.core.series.Series"
      ]
     },
     "execution_count": 22,
     "metadata": {},
     "output_type": "execute_result"
    }
   ],
   "source": [
    "type(df.location.mode())"
   ]
  },
  {
   "cell_type": "code",
   "execution_count": 23,
   "id": "5caf9fd1",
   "metadata": {},
   "outputs": [],
   "source": [
    "#getting the mode\n",
    "most_location = df.location.mode()[0]"
   ]
  },
  {
   "cell_type": "code",
   "execution_count": 24,
   "id": "6ed0ca7e",
   "metadata": {},
   "outputs": [],
   "source": [
    "#either of the code works\n",
    "\n",
    "# df.location.fillna(most_location, inplace=True)\n",
    "df.location = df.location.fillna(most_location)"
   ]
  },
  {
   "cell_type": "code",
   "execution_count": 25,
   "id": "4d9e3452",
   "metadata": {},
   "outputs": [
    {
     "data": {
      "text/plain": [
       "area          0\n",
       "bedrooms      0\n",
       "bathrooms     0\n",
       "location      0\n",
       "age          93\n",
       "garage        0\n",
       "price         0\n",
       "dtype: int64"
      ]
     },
     "execution_count": 25,
     "metadata": {},
     "output_type": "execute_result"
    }
   ],
   "source": [
    "df.isnull().sum()"
   ]
  },
  {
   "cell_type": "markdown",
   "id": "22944b90",
   "metadata": {},
   "source": [
    "#### for age"
   ]
  },
  {
   "cell_type": "code",
   "execution_count": 26,
   "id": "9f02c1a0",
   "metadata": {},
   "outputs": [
    {
     "data": {
      "text/plain": [
       "111.0    59\n",
       "54.0     55\n",
       "112.0    54\n",
       "36.0     52\n",
       "81.0     52\n",
       "         ..\n",
       "82.0     32\n",
       "117.0    32\n",
       "113.0    31\n",
       "93.0     30\n",
       "27.0     27\n",
       "Name: age, Length: 119, dtype: int64"
      ]
     },
     "execution_count": 26,
     "metadata": {},
     "output_type": "execute_result"
    }
   ],
   "source": [
    "df.age.value_counts()"
   ]
  },
  {
   "cell_type": "code",
   "execution_count": 27,
   "id": "0a2553d3",
   "metadata": {},
   "outputs": [
    {
     "data": {
      "text/plain": [
       "60"
      ]
     },
     "execution_count": 27,
     "metadata": {},
     "output_type": "execute_result"
    }
   ],
   "source": [
    "# getting mean values and converting it to integer\n",
    "int(df.age.mean())"
   ]
  },
  {
   "cell_type": "code",
   "execution_count": 28,
   "id": "1a9ed1ea",
   "metadata": {},
   "outputs": [],
   "source": [
    "age_mean = int(df.age.mean())"
   ]
  },
  {
   "cell_type": "code",
   "execution_count": 29,
   "id": "ebbbf9ef",
   "metadata": {},
   "outputs": [],
   "source": [
    "#filling the missing values with mean\n",
    "df.age = df.age.fillna(age_mean)"
   ]
  },
  {
   "cell_type": "code",
   "execution_count": 30,
   "id": "08c1e0fc",
   "metadata": {},
   "outputs": [
    {
     "data": {
      "text/plain": [
       "area         0\n",
       "bedrooms     0\n",
       "bathrooms    0\n",
       "location     0\n",
       "age          0\n",
       "garage       0\n",
       "price        0\n",
       "dtype: int64"
      ]
     },
     "execution_count": 30,
     "metadata": {},
     "output_type": "execute_result"
    }
   ],
   "source": [
    "df.isna().sum()"
   ]
  },
  {
   "cell_type": "markdown",
   "id": "0f819420",
   "metadata": {},
   "source": [
    "#### Univariate Analysis"
   ]
  },
  {
   "cell_type": "code",
   "execution_count": 31,
   "id": "4664309e",
   "metadata": {},
   "outputs": [
    {
     "data": {
      "text/plain": [
       "2    1039\n",
       "5    1008\n",
       "1     985\n",
       "4     984\n",
       "3     984\n",
       "Name: bedrooms, dtype: int64"
      ]
     },
     "execution_count": 31,
     "metadata": {},
     "output_type": "execute_result"
    }
   ],
   "source": [
    "df.bedrooms.value_counts()"
   ]
  },
  {
   "cell_type": "code",
   "execution_count": 32,
   "id": "11c48a51",
   "metadata": {},
   "outputs": [
    {
     "data": {
      "image/png": "[encoded data removed]",
      "text/plain": [
       "<Figure size 432x288 with 1 Axes>"
      ]
     },
     "metadata": {
      "needs_background": "light"
     },
     "output_type": "display_data"
    }
   ],
   "source": [
    "#count of all the number of bedrooms in descending order\n",
    "sns.countplot(x=df.bedrooms, color='blue', order = df.bedrooms.value_counts().keys() );"
   ]
  },
  {
   "cell_type": "code",
   "execution_count": 33,
   "id": "4d528cb0",
   "metadata": {},
   "outputs": [
    {
     "data": {
      "text/html": [
       "<div>\n",
       "<style scoped>\n",
       "    .dataframe tbody tr th:only-of-type {\n",
       "        vertical-align: middle;\n",
       "    }\n",
       "\n",
       "    .dataframe tbody tr th {\n",
       "        vertical-align: top;\n",
       "    }\n",
       "\n",
       "    .dataframe thead th {\n",
       "        text-align: right;\n",
       "    }\n",
       "</style>\n",
       "<table border=\"1\" class=\"dataframe\">\n",
       "  <thead>\n",
       "    <tr style=\"text-align: right;\">\n",
       "      <th></th>\n",
       "      <th>area</th>\n",
       "      <th>bedrooms</th>\n",
       "      <th>bathrooms</th>\n",
       "      <th>location</th>\n",
       "      <th>age</th>\n",
       "      <th>garage</th>\n",
       "      <th>price</th>\n",
       "    </tr>\n",
       "  </thead>\n",
       "  <tbody>\n",
       "    <tr>\n",
       "      <th>0</th>\n",
       "      <td>3774</td>\n",
       "      <td>4</td>\n",
       "      <td>2</td>\n",
       "      <td>Location3</td>\n",
       "      <td>23.0</td>\n",
       "      <td>0</td>\n",
       "      <td>814142.617200</td>\n",
       "    </tr>\n",
       "    <tr>\n",
       "      <th>1</th>\n",
       "      <td>4107</td>\n",
       "      <td>2</td>\n",
       "      <td>2</td>\n",
       "      <td>Location3</td>\n",
       "      <td>46.0</td>\n",
       "      <td>0</td>\n",
       "      <td>836259.082065</td>\n",
       "    </tr>\n",
       "    <tr>\n",
       "      <th>2</th>\n",
       "      <td>1460</td>\n",
       "      <td>3</td>\n",
       "      <td>3</td>\n",
       "      <td>Location2</td>\n",
       "      <td>113.0</td>\n",
       "      <td>1</td>\n",
       "      <td>296721.573960</td>\n",
       "    </tr>\n",
       "    <tr>\n",
       "      <th>3</th>\n",
       "      <td>1894</td>\n",
       "      <td>5</td>\n",
       "      <td>2</td>\n",
       "      <td>Location2</td>\n",
       "      <td>30.0</td>\n",
       "      <td>0</td>\n",
       "      <td>399099.591046</td>\n",
       "    </tr>\n",
       "    <tr>\n",
       "      <th>4</th>\n",
       "      <td>1730</td>\n",
       "      <td>3</td>\n",
       "      <td>2</td>\n",
       "      <td>Location5</td>\n",
       "      <td>67.0</td>\n",
       "      <td>0</td>\n",
       "      <td>441862.941002</td>\n",
       "    </tr>\n",
       "  </tbody>\n",
       "</table>\n",
       "</div>"
      ],
      "text/plain": [
       "   area  bedrooms  bathrooms   location    age  garage          price\n",
       "0  3774         4          2  Location3   23.0       0  814142.617200\n",
       "1  4107         2          2  Location3   46.0       0  836259.082065\n",
       "2  1460         3          3  Location2  113.0       1  296721.573960\n",
       "3  1894         5          2  Location2   30.0       0  399099.591046\n",
       "4  1730         3          2  Location5   67.0       0  441862.941002"
      ]
     },
     "execution_count": 33,
     "metadata": {},
     "output_type": "execute_result"
    }
   ],
   "source": [
    "df.head()"
   ]
  },
  {
   "cell_type": "code",
   "execution_count": 34,
   "id": "19a13572",
   "metadata": {},
   "outputs": [
    {
     "data": {
      "image/png": "[encoded data removed]",
      "text/plain": [
       "<Figure size 1080x1080 with 42 Axes>"
      ]
     },
     "metadata": {
      "needs_background": "light"
     },
     "output_type": "display_data"
    }
   ],
   "source": [
    "# a quick plot comparing columns\n",
    "sns.pairplot(df, kind='scatter')\n",
    "plt.show()"
   ]
  },
  {
   "cell_type": "code",
   "execution_count": 35,
   "id": "4d6ecd18",
   "metadata": {},
   "outputs": [],
   "source": [
    "# check for all houses that are more than 119 years"
   ]
  },
  {
   "cell_type": "code",
   "execution_count": 36,
   "id": "8a43bf32",
   "metadata": {},
   "outputs": [
    {
     "data": {
      "text/html": [
       "<div>\n",
       "<style scoped>\n",
       "    .dataframe tbody tr th:only-of-type {\n",
       "        vertical-align: middle;\n",
       "    }\n",
       "\n",
       "    .dataframe tbody tr th {\n",
       "        vertical-align: top;\n",
       "    }\n",
       "\n",
       "    .dataframe thead th {\n",
       "        text-align: right;\n",
       "    }\n",
       "</style>\n",
       "<table border=\"1\" class=\"dataframe\">\n",
       "  <thead>\n",
       "    <tr style=\"text-align: right;\">\n",
       "      <th></th>\n",
       "      <th>area</th>\n",
       "      <th>bedrooms</th>\n",
       "      <th>bathrooms</th>\n",
       "      <th>age</th>\n",
       "      <th>garage</th>\n",
       "      <th>price</th>\n",
       "    </tr>\n",
       "  </thead>\n",
       "  <tbody>\n",
       "    <tr>\n",
       "      <th>area</th>\n",
       "      <td>1.000000</td>\n",
       "      <td>-0.002732</td>\n",
       "      <td>-0.009464</td>\n",
       "      <td>0.017319</td>\n",
       "      <td>-0.013903</td>\n",
       "      <td>0.919300</td>\n",
       "    </tr>\n",
       "    <tr>\n",
       "      <th>bedrooms</th>\n",
       "      <td>-0.002732</td>\n",
       "      <td>1.000000</td>\n",
       "      <td>-0.007115</td>\n",
       "      <td>0.005864</td>\n",
       "      <td>-0.006719</td>\n",
       "      <td>0.035857</td>\n",
       "    </tr>\n",
       "    <tr>\n",
       "      <th>bathrooms</th>\n",
       "      <td>-0.009464</td>\n",
       "      <td>-0.007115</td>\n",
       "      <td>1.000000</td>\n",
       "      <td>0.014557</td>\n",
       "      <td>-0.000587</td>\n",
       "      <td>0.024903</td>\n",
       "    </tr>\n",
       "    <tr>\n",
       "      <th>age</th>\n",
       "      <td>0.017319</td>\n",
       "      <td>0.005864</td>\n",
       "      <td>0.014557</td>\n",
       "      <td>1.000000</td>\n",
       "      <td>-0.007465</td>\n",
       "      <td>-0.001968</td>\n",
       "    </tr>\n",
       "    <tr>\n",
       "      <th>garage</th>\n",
       "      <td>-0.013903</td>\n",
       "      <td>-0.006719</td>\n",
       "      <td>-0.000587</td>\n",
       "      <td>-0.007465</td>\n",
       "      <td>1.000000</td>\n",
       "      <td>0.027198</td>\n",
       "    </tr>\n",
       "    <tr>\n",
       "      <th>price</th>\n",
       "      <td>0.919300</td>\n",
       "      <td>0.035857</td>\n",
       "      <td>0.024903</td>\n",
       "      <td>-0.001968</td>\n",
       "      <td>0.027198</td>\n",
       "      <td>1.000000</td>\n",
       "    </tr>\n",
       "  </tbody>\n",
       "</table>\n",
       "</div>"
      ],
      "text/plain": [
       "               area  bedrooms  bathrooms       age    garage     price\n",
       "area       1.000000 -0.002732  -0.009464  0.017319 -0.013903  0.919300\n",
       "bedrooms  -0.002732  1.000000  -0.007115  0.005864 -0.006719  0.035857\n",
       "bathrooms -0.009464 -0.007115   1.000000  0.014557 -0.000587  0.024903\n",
       "age        0.017319  0.005864   0.014557  1.000000 -0.007465 -0.001968\n",
       "garage    -0.013903 -0.006719  -0.000587 -0.007465  1.000000  0.027198\n",
       "price      0.919300  0.035857   0.024903 -0.001968  0.027198  1.000000"
      ]
     },
     "execution_count": 36,
     "metadata": {},
     "output_type": "execute_result"
    }
   ],
   "source": [
    "# checking the correlations between features\n",
    "df.drop('location', axis=1).corr()"
   ]
  },
  {
   "cell_type": "code",
   "execution_count": 37,
   "id": "1c5afa39",
   "metadata": {},
   "outputs": [
    {
     "data": {
      "image/png": "[encoded data removed]",
      "text/plain": [
       "<Figure size 432x288 with 2 Axes>"
      ]
     },
     "metadata": {
      "needs_background": "light"
     },
     "output_type": "display_data"
    }
   ],
   "source": [
    "#you can also try this\n",
    "sns.heatmap(df.drop('location', axis=1).corr());"
   ]
  },
  {
   "cell_type": "markdown",
   "id": "544fccac",
   "metadata": {},
   "source": [
    "### Feature Engineering"
   ]
  },
  {
   "cell_type": "code",
   "execution_count": 38,
   "id": "3341f30f",
   "metadata": {
    "scrolled": true
   },
   "outputs": [
    {
     "data": {
      "text/html": [
       "<div>\n",
       "<style scoped>\n",
       "    .dataframe tbody tr th:only-of-type {\n",
       "        vertical-align: middle;\n",
       "    }\n",
       "\n",
       "    .dataframe tbody tr th {\n",
       "        vertical-align: top;\n",
       "    }\n",
       "\n",
       "    .dataframe thead th {\n",
       "        text-align: right;\n",
       "    }\n",
       "</style>\n",
       "<table border=\"1\" class=\"dataframe\">\n",
       "  <thead>\n",
       "    <tr style=\"text-align: right;\">\n",
       "      <th></th>\n",
       "      <th>area</th>\n",
       "      <th>bedrooms</th>\n",
       "      <th>bathrooms</th>\n",
       "      <th>location</th>\n",
       "      <th>age</th>\n",
       "      <th>garage</th>\n",
       "      <th>price</th>\n",
       "    </tr>\n",
       "  </thead>\n",
       "  <tbody>\n",
       "    <tr>\n",
       "      <th>0</th>\n",
       "      <td>3774</td>\n",
       "      <td>4</td>\n",
       "      <td>2</td>\n",
       "      <td>Location3</td>\n",
       "      <td>23.0</td>\n",
       "      <td>0</td>\n",
       "      <td>814142.617200</td>\n",
       "    </tr>\n",
       "    <tr>\n",
       "      <th>1</th>\n",
       "      <td>4107</td>\n",
       "      <td>2</td>\n",
       "      <td>2</td>\n",
       "      <td>Location3</td>\n",
       "      <td>46.0</td>\n",
       "      <td>0</td>\n",
       "      <td>836259.082065</td>\n",
       "    </tr>\n",
       "    <tr>\n",
       "      <th>2</th>\n",
       "      <td>1460</td>\n",
       "      <td>3</td>\n",
       "      <td>3</td>\n",
       "      <td>Location2</td>\n",
       "      <td>113.0</td>\n",
       "      <td>1</td>\n",
       "      <td>296721.573960</td>\n",
       "    </tr>\n",
       "    <tr>\n",
       "      <th>3</th>\n",
       "      <td>1894</td>\n",
       "      <td>5</td>\n",
       "      <td>2</td>\n",
       "      <td>Location2</td>\n",
       "      <td>30.0</td>\n",
       "      <td>0</td>\n",
       "      <td>399099.591046</td>\n",
       "    </tr>\n",
       "    <tr>\n",
       "      <th>4</th>\n",
       "      <td>1730</td>\n",
       "      <td>3</td>\n",
       "      <td>2</td>\n",
       "      <td>Location5</td>\n",
       "      <td>67.0</td>\n",
       "      <td>0</td>\n",
       "      <td>441862.941002</td>\n",
       "    </tr>\n",
       "  </tbody>\n",
       "</table>\n",
       "</div>"
      ],
      "text/plain": [
       "   area  bedrooms  bathrooms   location    age  garage          price\n",
       "0  3774         4          2  Location3   23.0       0  814142.617200\n",
       "1  4107         2          2  Location3   46.0       0  836259.082065\n",
       "2  1460         3          3  Location2  113.0       1  296721.573960\n",
       "3  1894         5          2  Location2   30.0       0  399099.591046\n",
       "4  1730         3          2  Location5   67.0       0  441862.941002"
      ]
     },
     "execution_count": 38,
     "metadata": {},
     "output_type": "execute_result"
    }
   ],
   "source": [
    "df.head()"
   ]
  },
  {
   "cell_type": "code",
   "execution_count": 39,
   "id": "af778f7c",
   "metadata": {},
   "outputs": [],
   "source": [
    "# adding the rooms\n",
    "df['rooms'] = df['bedrooms'] + df['bathrooms']"
   ]
  },
  {
   "cell_type": "code",
   "execution_count": 40,
   "id": "e2a21108",
   "metadata": {},
   "outputs": [
    {
     "data": {
      "text/html": [
       "<div>\n",
       "<style scoped>\n",
       "    .dataframe tbody tr th:only-of-type {\n",
       "        vertical-align: middle;\n",
       "    }\n",
       "\n",
       "    .dataframe tbody tr th {\n",
       "        vertical-align: top;\n",
       "    }\n",
       "\n",
       "    .dataframe thead th {\n",
       "        text-align: right;\n",
       "    }\n",
       "</style>\n",
       "<table border=\"1\" class=\"dataframe\">\n",
       "  <thead>\n",
       "    <tr style=\"text-align: right;\">\n",
       "      <th></th>\n",
       "      <th>area</th>\n",
       "      <th>bedrooms</th>\n",
       "      <th>bathrooms</th>\n",
       "      <th>location</th>\n",
       "      <th>age</th>\n",
       "      <th>garage</th>\n",
       "      <th>price</th>\n",
       "      <th>rooms</th>\n",
       "    </tr>\n",
       "  </thead>\n",
       "  <tbody>\n",
       "    <tr>\n",
       "      <th>0</th>\n",
       "      <td>3774</td>\n",
       "      <td>4</td>\n",
       "      <td>2</td>\n",
       "      <td>Location3</td>\n",
       "      <td>23.0</td>\n",
       "      <td>0</td>\n",
       "      <td>814142.617200</td>\n",
       "      <td>6</td>\n",
       "    </tr>\n",
       "    <tr>\n",
       "      <th>1</th>\n",
       "      <td>4107</td>\n",
       "      <td>2</td>\n",
       "      <td>2</td>\n",
       "      <td>Location3</td>\n",
       "      <td>46.0</td>\n",
       "      <td>0</td>\n",
       "      <td>836259.082065</td>\n",
       "      <td>4</td>\n",
       "    </tr>\n",
       "    <tr>\n",
       "      <th>2</th>\n",
       "      <td>1460</td>\n",
       "      <td>3</td>\n",
       "      <td>3</td>\n",
       "      <td>Location2</td>\n",
       "      <td>113.0</td>\n",
       "      <td>1</td>\n",
       "      <td>296721.573960</td>\n",
       "      <td>6</td>\n",
       "    </tr>\n",
       "    <tr>\n",
       "      <th>3</th>\n",
       "      <td>1894</td>\n",
       "      <td>5</td>\n",
       "      <td>2</td>\n",
       "      <td>Location2</td>\n",
       "      <td>30.0</td>\n",
       "      <td>0</td>\n",
       "      <td>399099.591046</td>\n",
       "      <td>7</td>\n",
       "    </tr>\n",
       "    <tr>\n",
       "      <th>4</th>\n",
       "      <td>1730</td>\n",
       "      <td>3</td>\n",
       "      <td>2</td>\n",
       "      <td>Location5</td>\n",
       "      <td>67.0</td>\n",
       "      <td>0</td>\n",
       "      <td>441862.941002</td>\n",
       "      <td>5</td>\n",
       "    </tr>\n",
       "  </tbody>\n",
       "</table>\n",
       "</div>"
      ],
      "text/plain": [
       "   area  bedrooms  bathrooms   location    age  garage          price  rooms\n",
       "0  3774         4          2  Location3   23.0       0  814142.617200      6\n",
       "1  4107         2          2  Location3   46.0       0  836259.082065      4\n",
       "2  1460         3          3  Location2  113.0       1  296721.573960      6\n",
       "3  1894         5          2  Location2   30.0       0  399099.591046      7\n",
       "4  1730         3          2  Location5   67.0       0  441862.941002      5"
      ]
     },
     "execution_count": 40,
     "metadata": {},
     "output_type": "execute_result"
    }
   ],
   "source": [
    "df.head()"
   ]
  },
  {
   "cell_type": "code",
   "execution_count": 41,
   "id": "f776c7b7",
   "metadata": {},
   "outputs": [],
   "source": [
    "#generating new features\n",
    "#average room per area\n",
    "df['average_room_area'] = df['area'] / df['bedrooms']"
   ]
  },
  {
   "cell_type": "code",
   "execution_count": 42,
   "id": "7dc50541",
   "metadata": {},
   "outputs": [],
   "source": [
    "df['area_age'] = df['area'] / df['age']\n",
    "df['age_bed'] = df['age'] / df['bedrooms']\n",
    "# df['age_bed_x'] = df['age'] * df['bedrooms']\n",
    "# df['average_room'] = df['area'] / df['rooms']"
   ]
  },
  {
   "cell_type": "code",
   "execution_count": 43,
   "id": "71413996",
   "metadata": {},
   "outputs": [
    {
     "data": {
      "text/html": [
       "<div>\n",
       "<style scoped>\n",
       "    .dataframe tbody tr th:only-of-type {\n",
       "        vertical-align: middle;\n",
       "    }\n",
       "\n",
       "    .dataframe tbody tr th {\n",
       "        vertical-align: top;\n",
       "    }\n",
       "\n",
       "    .dataframe thead th {\n",
       "        text-align: right;\n",
       "    }\n",
       "</style>\n",
       "<table border=\"1\" class=\"dataframe\">\n",
       "  <thead>\n",
       "    <tr style=\"text-align: right;\">\n",
       "      <th></th>\n",
       "      <th>area</th>\n",
       "      <th>bedrooms</th>\n",
       "      <th>bathrooms</th>\n",
       "      <th>location</th>\n",
       "      <th>age</th>\n",
       "      <th>garage</th>\n",
       "      <th>price</th>\n",
       "      <th>rooms</th>\n",
       "      <th>average_room_area</th>\n",
       "      <th>area_age</th>\n",
       "      <th>age_bed</th>\n",
       "    </tr>\n",
       "  </thead>\n",
       "  <tbody>\n",
       "    <tr>\n",
       "      <th>0</th>\n",
       "      <td>3774</td>\n",
       "      <td>4</td>\n",
       "      <td>2</td>\n",
       "      <td>Location3</td>\n",
       "      <td>23.0</td>\n",
       "      <td>0</td>\n",
       "      <td>814142.617200</td>\n",
       "      <td>6</td>\n",
       "      <td>943.500000</td>\n",
       "      <td>164.086957</td>\n",
       "      <td>5.750000</td>\n",
       "    </tr>\n",
       "    <tr>\n",
       "      <th>1</th>\n",
       "      <td>4107</td>\n",
       "      <td>2</td>\n",
       "      <td>2</td>\n",
       "      <td>Location3</td>\n",
       "      <td>46.0</td>\n",
       "      <td>0</td>\n",
       "      <td>836259.082065</td>\n",
       "      <td>4</td>\n",
       "      <td>2053.500000</td>\n",
       "      <td>89.282609</td>\n",
       "      <td>23.000000</td>\n",
       "    </tr>\n",
       "    <tr>\n",
       "      <th>2</th>\n",
       "      <td>1460</td>\n",
       "      <td>3</td>\n",
       "      <td>3</td>\n",
       "      <td>Location2</td>\n",
       "      <td>113.0</td>\n",
       "      <td>1</td>\n",
       "      <td>296721.573960</td>\n",
       "      <td>6</td>\n",
       "      <td>486.666667</td>\n",
       "      <td>12.920354</td>\n",
       "      <td>37.666667</td>\n",
       "    </tr>\n",
       "    <tr>\n",
       "      <th>3</th>\n",
       "      <td>1894</td>\n",
       "      <td>5</td>\n",
       "      <td>2</td>\n",
       "      <td>Location2</td>\n",
       "      <td>30.0</td>\n",
       "      <td>0</td>\n",
       "      <td>399099.591046</td>\n",
       "      <td>7</td>\n",
       "      <td>378.800000</td>\n",
       "      <td>63.133333</td>\n",
       "      <td>6.000000</td>\n",
       "    </tr>\n",
       "    <tr>\n",
       "      <th>4</th>\n",
       "      <td>1730</td>\n",
       "      <td>3</td>\n",
       "      <td>2</td>\n",
       "      <td>Location5</td>\n",
       "      <td>67.0</td>\n",
       "      <td>0</td>\n",
       "      <td>441862.941002</td>\n",
       "      <td>5</td>\n",
       "      <td>576.666667</td>\n",
       "      <td>25.820896</td>\n",
       "      <td>22.333333</td>\n",
       "    </tr>\n",
       "  </tbody>\n",
       "</table>\n",
       "</div>"
      ],
      "text/plain": [
       "   area  bedrooms  bathrooms   location    age  garage          price  rooms  \\\n",
       "0  3774         4          2  Location3   23.0       0  814142.617200      6   \n",
       "1  4107         2          2  Location3   46.0       0  836259.082065      4   \n",
       "2  1460         3          3  Location2  113.0       1  296721.573960      6   \n",
       "3  1894         5          2  Location2   30.0       0  399099.591046      7   \n",
       "4  1730         3          2  Location5   67.0       0  441862.941002      5   \n",
       "\n",
       "   average_room_area    area_age    age_bed  \n",
       "0         943.500000  164.086957   5.750000  \n",
       "1        2053.500000   89.282609  23.000000  \n",
       "2         486.666667   12.920354  37.666667  \n",
       "3         378.800000   63.133333   6.000000  \n",
       "4         576.666667   25.820896  22.333333  "
      ]
     },
     "execution_count": 43,
     "metadata": {},
     "output_type": "execute_result"
    }
   ],
   "source": [
    "df.head()"
   ]
  },
  {
   "cell_type": "code",
   "execution_count": 44,
   "id": "feca00ee",
   "metadata": {},
   "outputs": [
    {
     "data": {
      "text/plain": [
       "array(['Location3', 'Location2', 'Location5', 'Location4', 'Location1'],\n",
       "      dtype=object)"
      ]
     },
     "execution_count": 44,
     "metadata": {},
     "output_type": "execute_result"
    }
   ],
   "source": [
    "#this returns only the unique values in location\n",
    "df.location.unique()"
   ]
  },
  {
   "cell_type": "code",
   "execution_count": 45,
   "id": "8be35582",
   "metadata": {},
   "outputs": [],
   "source": [
    "location_dic = {'Location3':1, 'Location2':2, 'Location5':3, 'Location4':4, 'Location1':5}"
   ]
  },
  {
   "cell_type": "code",
   "execution_count": 46,
   "id": "c82a5029",
   "metadata": {},
   "outputs": [],
   "source": [
    "#encoding\n",
    "df['location_new'] = df.location.replace(location_dic)"
   ]
  },
  {
   "cell_type": "code",
   "execution_count": 47,
   "id": "82cc2afb",
   "metadata": {},
   "outputs": [
    {
     "data": {
      "text/html": [
       "<div>\n",
       "<style scoped>\n",
       "    .dataframe tbody tr th:only-of-type {\n",
       "        vertical-align: middle;\n",
       "    }\n",
       "\n",
       "    .dataframe tbody tr th {\n",
       "        vertical-align: top;\n",
       "    }\n",
       "\n",
       "    .dataframe thead th {\n",
       "        text-align: right;\n",
       "    }\n",
       "</style>\n",
       "<table border=\"1\" class=\"dataframe\">\n",
       "  <thead>\n",
       "    <tr style=\"text-align: right;\">\n",
       "      <th></th>\n",
       "      <th>area</th>\n",
       "      <th>bedrooms</th>\n",
       "      <th>bathrooms</th>\n",
       "      <th>location</th>\n",
       "      <th>age</th>\n",
       "      <th>garage</th>\n",
       "      <th>price</th>\n",
       "      <th>rooms</th>\n",
       "      <th>average_room_area</th>\n",
       "      <th>area_age</th>\n",
       "      <th>age_bed</th>\n",
       "      <th>location_new</th>\n",
       "    </tr>\n",
       "  </thead>\n",
       "  <tbody>\n",
       "    <tr>\n",
       "      <th>0</th>\n",
       "      <td>3774</td>\n",
       "      <td>4</td>\n",
       "      <td>2</td>\n",
       "      <td>Location3</td>\n",
       "      <td>23.0</td>\n",
       "      <td>0</td>\n",
       "      <td>814142.617200</td>\n",
       "      <td>6</td>\n",
       "      <td>943.500000</td>\n",
       "      <td>164.086957</td>\n",
       "      <td>5.750000</td>\n",
       "      <td>1</td>\n",
       "    </tr>\n",
       "    <tr>\n",
       "      <th>1</th>\n",
       "      <td>4107</td>\n",
       "      <td>2</td>\n",
       "      <td>2</td>\n",
       "      <td>Location3</td>\n",
       "      <td>46.0</td>\n",
       "      <td>0</td>\n",
       "      <td>836259.082065</td>\n",
       "      <td>4</td>\n",
       "      <td>2053.500000</td>\n",
       "      <td>89.282609</td>\n",
       "      <td>23.000000</td>\n",
       "      <td>1</td>\n",
       "    </tr>\n",
       "    <tr>\n",
       "      <th>2</th>\n",
       "      <td>1460</td>\n",
       "      <td>3</td>\n",
       "      <td>3</td>\n",
       "      <td>Location2</td>\n",
       "      <td>113.0</td>\n",
       "      <td>1</td>\n",
       "      <td>296721.573960</td>\n",
       "      <td>6</td>\n",
       "      <td>486.666667</td>\n",
       "      <td>12.920354</td>\n",
       "      <td>37.666667</td>\n",
       "      <td>2</td>\n",
       "    </tr>\n",
       "    <tr>\n",
       "      <th>3</th>\n",
       "      <td>1894</td>\n",
       "      <td>5</td>\n",
       "      <td>2</td>\n",
       "      <td>Location2</td>\n",
       "      <td>30.0</td>\n",
       "      <td>0</td>\n",
       "      <td>399099.591046</td>\n",
       "      <td>7</td>\n",
       "      <td>378.800000</td>\n",
       "      <td>63.133333</td>\n",
       "      <td>6.000000</td>\n",
       "      <td>2</td>\n",
       "    </tr>\n",
       "    <tr>\n",
       "      <th>4</th>\n",
       "      <td>1730</td>\n",
       "      <td>3</td>\n",
       "      <td>2</td>\n",
       "      <td>Location5</td>\n",
       "      <td>67.0</td>\n",
       "      <td>0</td>\n",
       "      <td>441862.941002</td>\n",
       "      <td>5</td>\n",
       "      <td>576.666667</td>\n",
       "      <td>25.820896</td>\n",
       "      <td>22.333333</td>\n",
       "      <td>3</td>\n",
       "    </tr>\n",
       "  </tbody>\n",
       "</table>\n",
       "</div>"
      ],
      "text/plain": [
       "   area  bedrooms  bathrooms   location    age  garage          price  rooms  \\\n",
       "0  3774         4          2  Location3   23.0       0  814142.617200      6   \n",
       "1  4107         2          2  Location3   46.0       0  836259.082065      4   \n",
       "2  1460         3          3  Location2  113.0       1  296721.573960      6   \n",
       "3  1894         5          2  Location2   30.0       0  399099.591046      7   \n",
       "4  1730         3          2  Location5   67.0       0  441862.941002      5   \n",
       "\n",
       "   average_room_area    area_age    age_bed  location_new  \n",
       "0         943.500000  164.086957   5.750000             1  \n",
       "1        2053.500000   89.282609  23.000000             1  \n",
       "2         486.666667   12.920354  37.666667             2  \n",
       "3         378.800000   63.133333   6.000000             2  \n",
       "4         576.666667   25.820896  22.333333             3  "
      ]
     },
     "execution_count": 47,
     "metadata": {},
     "output_type": "execute_result"
    }
   ],
   "source": [
    "df.head()"
   ]
  },
  {
   "cell_type": "code",
   "execution_count": 48,
   "id": "cd5edef3",
   "metadata": {},
   "outputs": [],
   "source": [
    "#another way to encode"
   ]
  },
  {
   "cell_type": "code",
   "execution_count": 49,
   "id": "43365b71",
   "metadata": {},
   "outputs": [],
   "source": [
    "#this is to reverse location\n",
    "location_dic_rev = {1:'Location3', 2:'Location2', 3:'Location5', 4:'Location4', 5:'Location1'}\n",
    "df.location = df.location.replace(location_dic_rev)"
   ]
  },
  {
   "cell_type": "code",
   "execution_count": 50,
   "id": "0f4de5b8",
   "metadata": {},
   "outputs": [
    {
     "data": {
      "text/html": [
       "<div>\n",
       "<style scoped>\n",
       "    .dataframe tbody tr th:only-of-type {\n",
       "        vertical-align: middle;\n",
       "    }\n",
       "\n",
       "    .dataframe tbody tr th {\n",
       "        vertical-align: top;\n",
       "    }\n",
       "\n",
       "    .dataframe thead th {\n",
       "        text-align: right;\n",
       "    }\n",
       "</style>\n",
       "<table border=\"1\" class=\"dataframe\">\n",
       "  <thead>\n",
       "    <tr style=\"text-align: right;\">\n",
       "      <th></th>\n",
       "      <th>area</th>\n",
       "      <th>bedrooms</th>\n",
       "      <th>bathrooms</th>\n",
       "      <th>location</th>\n",
       "      <th>age</th>\n",
       "      <th>garage</th>\n",
       "      <th>price</th>\n",
       "      <th>rooms</th>\n",
       "      <th>average_room_area</th>\n",
       "      <th>area_age</th>\n",
       "      <th>age_bed</th>\n",
       "      <th>location_new</th>\n",
       "    </tr>\n",
       "  </thead>\n",
       "  <tbody>\n",
       "    <tr>\n",
       "      <th>0</th>\n",
       "      <td>3774</td>\n",
       "      <td>4</td>\n",
       "      <td>2</td>\n",
       "      <td>Location3</td>\n",
       "      <td>23.0</td>\n",
       "      <td>0</td>\n",
       "      <td>814142.617200</td>\n",
       "      <td>6</td>\n",
       "      <td>943.500000</td>\n",
       "      <td>164.086957</td>\n",
       "      <td>5.750000</td>\n",
       "      <td>1</td>\n",
       "    </tr>\n",
       "    <tr>\n",
       "      <th>1</th>\n",
       "      <td>4107</td>\n",
       "      <td>2</td>\n",
       "      <td>2</td>\n",
       "      <td>Location3</td>\n",
       "      <td>46.0</td>\n",
       "      <td>0</td>\n",
       "      <td>836259.082065</td>\n",
       "      <td>4</td>\n",
       "      <td>2053.500000</td>\n",
       "      <td>89.282609</td>\n",
       "      <td>23.000000</td>\n",
       "      <td>1</td>\n",
       "    </tr>\n",
       "    <tr>\n",
       "      <th>2</th>\n",
       "      <td>1460</td>\n",
       "      <td>3</td>\n",
       "      <td>3</td>\n",
       "      <td>Location2</td>\n",
       "      <td>113.0</td>\n",
       "      <td>1</td>\n",
       "      <td>296721.573960</td>\n",
       "      <td>6</td>\n",
       "      <td>486.666667</td>\n",
       "      <td>12.920354</td>\n",
       "      <td>37.666667</td>\n",
       "      <td>2</td>\n",
       "    </tr>\n",
       "    <tr>\n",
       "      <th>3</th>\n",
       "      <td>1894</td>\n",
       "      <td>5</td>\n",
       "      <td>2</td>\n",
       "      <td>Location2</td>\n",
       "      <td>30.0</td>\n",
       "      <td>0</td>\n",
       "      <td>399099.591046</td>\n",
       "      <td>7</td>\n",
       "      <td>378.800000</td>\n",
       "      <td>63.133333</td>\n",
       "      <td>6.000000</td>\n",
       "      <td>2</td>\n",
       "    </tr>\n",
       "    <tr>\n",
       "      <th>4</th>\n",
       "      <td>1730</td>\n",
       "      <td>3</td>\n",
       "      <td>2</td>\n",
       "      <td>Location5</td>\n",
       "      <td>67.0</td>\n",
       "      <td>0</td>\n",
       "      <td>441862.941002</td>\n",
       "      <td>5</td>\n",
       "      <td>576.666667</td>\n",
       "      <td>25.820896</td>\n",
       "      <td>22.333333</td>\n",
       "      <td>3</td>\n",
       "    </tr>\n",
       "  </tbody>\n",
       "</table>\n",
       "</div>"
      ],
      "text/plain": [
       "   area  bedrooms  bathrooms   location    age  garage          price  rooms  \\\n",
       "0  3774         4          2  Location3   23.0       0  814142.617200      6   \n",
       "1  4107         2          2  Location3   46.0       0  836259.082065      4   \n",
       "2  1460         3          3  Location2  113.0       1  296721.573960      6   \n",
       "3  1894         5          2  Location2   30.0       0  399099.591046      7   \n",
       "4  1730         3          2  Location5   67.0       0  441862.941002      5   \n",
       "\n",
       "   average_room_area    area_age    age_bed  location_new  \n",
       "0         943.500000  164.086957   5.750000             1  \n",
       "1        2053.500000   89.282609  23.000000             1  \n",
       "2         486.666667   12.920354  37.666667             2  \n",
       "3         378.800000   63.133333   6.000000             2  \n",
       "4         576.666667   25.820896  22.333333             3  "
      ]
     },
     "execution_count": 50,
     "metadata": {},
     "output_type": "execute_result"
    }
   ],
   "source": [
    "df.head()"
   ]
  },
  {
   "cell_type": "code",
   "execution_count": 51,
   "id": "d02da524",
   "metadata": {
    "scrolled": true
   },
   "outputs": [],
   "source": [
    "#one-hot-encoding\n",
    "# so you might be getting a True and False so just use the second line\n",
    "\n",
    "# pd.get_dummies(df.location)\n",
    "# pd.get_dummies(df.location, dtype=int)"
   ]
  },
  {
   "cell_type": "code",
   "execution_count": 52,
   "id": "66c3e0c2",
   "metadata": {},
   "outputs": [],
   "source": [
    "#Function for Frequency encoding\n",
    "def freq_encoding(data, cols):\n",
    "    for i in cols:\n",
    "        encoding = data.groupby(i).size()\n",
    "        encoding = encoding/len(data)\n",
    "        data[str(i) + 'enc'] = data[i].map(encoding)\n",
    "    return data"
   ]
  },
  {
   "cell_type": "code",
   "execution_count": 53,
   "id": "b2e0ff23",
   "metadata": {},
   "outputs": [
    {
     "data": {
      "text/html": [
       "<div>\n",
       "<style scoped>\n",
       "    .dataframe tbody tr th:only-of-type {\n",
       "        vertical-align: middle;\n",
       "    }\n",
       "\n",
       "    .dataframe tbody tr th {\n",
       "        vertical-align: top;\n",
       "    }\n",
       "\n",
       "    .dataframe thead th {\n",
       "        text-align: right;\n",
       "    }\n",
       "</style>\n",
       "<table border=\"1\" class=\"dataframe\">\n",
       "  <thead>\n",
       "    <tr style=\"text-align: right;\">\n",
       "      <th></th>\n",
       "      <th>area</th>\n",
       "      <th>bedrooms</th>\n",
       "      <th>bathrooms</th>\n",
       "      <th>location</th>\n",
       "      <th>age</th>\n",
       "      <th>garage</th>\n",
       "      <th>price</th>\n",
       "      <th>rooms</th>\n",
       "      <th>average_room_area</th>\n",
       "      <th>area_age</th>\n",
       "      <th>age_bed</th>\n",
       "      <th>location_new</th>\n",
       "      <th>locationenc</th>\n",
       "      <th>bedroomsenc</th>\n",
       "    </tr>\n",
       "  </thead>\n",
       "  <tbody>\n",
       "    <tr>\n",
       "      <th>0</th>\n",
       "      <td>3774</td>\n",
       "      <td>4</td>\n",
       "      <td>2</td>\n",
       "      <td>Location3</td>\n",
       "      <td>23.0</td>\n",
       "      <td>0</td>\n",
       "      <td>814142.617200</td>\n",
       "      <td>6</td>\n",
       "      <td>943.500000</td>\n",
       "      <td>164.086957</td>\n",
       "      <td>5.750000</td>\n",
       "      <td>1</td>\n",
       "      <td>0.1928</td>\n",
       "      <td>0.1968</td>\n",
       "    </tr>\n",
       "    <tr>\n",
       "      <th>1</th>\n",
       "      <td>4107</td>\n",
       "      <td>2</td>\n",
       "      <td>2</td>\n",
       "      <td>Location3</td>\n",
       "      <td>46.0</td>\n",
       "      <td>0</td>\n",
       "      <td>836259.082065</td>\n",
       "      <td>4</td>\n",
       "      <td>2053.500000</td>\n",
       "      <td>89.282609</td>\n",
       "      <td>23.000000</td>\n",
       "      <td>1</td>\n",
       "      <td>0.1928</td>\n",
       "      <td>0.2078</td>\n",
       "    </tr>\n",
       "    <tr>\n",
       "      <th>2</th>\n",
       "      <td>1460</td>\n",
       "      <td>3</td>\n",
       "      <td>3</td>\n",
       "      <td>Location2</td>\n",
       "      <td>113.0</td>\n",
       "      <td>1</td>\n",
       "      <td>296721.573960</td>\n",
       "      <td>6</td>\n",
       "      <td>486.666667</td>\n",
       "      <td>12.920354</td>\n",
       "      <td>37.666667</td>\n",
       "      <td>2</td>\n",
       "      <td>0.2164</td>\n",
       "      <td>0.1968</td>\n",
       "    </tr>\n",
       "    <tr>\n",
       "      <th>3</th>\n",
       "      <td>1894</td>\n",
       "      <td>5</td>\n",
       "      <td>2</td>\n",
       "      <td>Location2</td>\n",
       "      <td>30.0</td>\n",
       "      <td>0</td>\n",
       "      <td>399099.591046</td>\n",
       "      <td>7</td>\n",
       "      <td>378.800000</td>\n",
       "      <td>63.133333</td>\n",
       "      <td>6.000000</td>\n",
       "      <td>2</td>\n",
       "      <td>0.2164</td>\n",
       "      <td>0.2016</td>\n",
       "    </tr>\n",
       "    <tr>\n",
       "      <th>4</th>\n",
       "      <td>1730</td>\n",
       "      <td>3</td>\n",
       "      <td>2</td>\n",
       "      <td>Location5</td>\n",
       "      <td>67.0</td>\n",
       "      <td>0</td>\n",
       "      <td>441862.941002</td>\n",
       "      <td>5</td>\n",
       "      <td>576.666667</td>\n",
       "      <td>25.820896</td>\n",
       "      <td>22.333333</td>\n",
       "      <td>3</td>\n",
       "      <td>0.1968</td>\n",
       "      <td>0.1968</td>\n",
       "    </tr>\n",
       "    <tr>\n",
       "      <th>...</th>\n",
       "      <td>...</td>\n",
       "      <td>...</td>\n",
       "      <td>...</td>\n",
       "      <td>...</td>\n",
       "      <td>...</td>\n",
       "      <td>...</td>\n",
       "      <td>...</td>\n",
       "      <td>...</td>\n",
       "      <td>...</td>\n",
       "      <td>...</td>\n",
       "      <td>...</td>\n",
       "      <td>...</td>\n",
       "      <td>...</td>\n",
       "      <td>...</td>\n",
       "    </tr>\n",
       "    <tr>\n",
       "      <th>4995</th>\n",
       "      <td>736</td>\n",
       "      <td>3</td>\n",
       "      <td>2</td>\n",
       "      <td>Location3</td>\n",
       "      <td>118.0</td>\n",
       "      <td>2</td>\n",
       "      <td>174089.796256</td>\n",
       "      <td>5</td>\n",
       "      <td>245.333333</td>\n",
       "      <td>6.237288</td>\n",
       "      <td>39.333333</td>\n",
       "      <td>1</td>\n",
       "      <td>0.1928</td>\n",
       "      <td>0.1968</td>\n",
       "    </tr>\n",
       "    <tr>\n",
       "      <th>4996</th>\n",
       "      <td>2546</td>\n",
       "      <td>2</td>\n",
       "      <td>1</td>\n",
       "      <td>Location4</td>\n",
       "      <td>24.0</td>\n",
       "      <td>2</td>\n",
       "      <td>633153.590770</td>\n",
       "      <td>3</td>\n",
       "      <td>1273.000000</td>\n",
       "      <td>106.083333</td>\n",
       "      <td>12.000000</td>\n",
       "      <td>4</td>\n",
       "      <td>0.1970</td>\n",
       "      <td>0.2078</td>\n",
       "    </tr>\n",
       "    <tr>\n",
       "      <th>4997</th>\n",
       "      <td>2297</td>\n",
       "      <td>1</td>\n",
       "      <td>2</td>\n",
       "      <td>Location2</td>\n",
       "      <td>66.0</td>\n",
       "      <td>0</td>\n",
       "      <td>456620.765104</td>\n",
       "      <td>3</td>\n",
       "      <td>2297.000000</td>\n",
       "      <td>34.803030</td>\n",
       "      <td>66.000000</td>\n",
       "      <td>2</td>\n",
       "      <td>0.2164</td>\n",
       "      <td>0.1970</td>\n",
       "    </tr>\n",
       "    <tr>\n",
       "      <th>4998</th>\n",
       "      <td>1027</td>\n",
       "      <td>4</td>\n",
       "      <td>3</td>\n",
       "      <td>Location5</td>\n",
       "      <td>95.0</td>\n",
       "      <td>2</td>\n",
       "      <td>286274.647796</td>\n",
       "      <td>7</td>\n",
       "      <td>256.750000</td>\n",
       "      <td>10.810526</td>\n",
       "      <td>23.750000</td>\n",
       "      <td>3</td>\n",
       "      <td>0.1968</td>\n",
       "      <td>0.1968</td>\n",
       "    </tr>\n",
       "    <tr>\n",
       "      <th>4999</th>\n",
       "      <td>2075</td>\n",
       "      <td>4</td>\n",
       "      <td>2</td>\n",
       "      <td>Location2</td>\n",
       "      <td>86.0</td>\n",
       "      <td>1</td>\n",
       "      <td>519528.994072</td>\n",
       "      <td>6</td>\n",
       "      <td>518.750000</td>\n",
       "      <td>24.127907</td>\n",
       "      <td>21.500000</td>\n",
       "      <td>2</td>\n",
       "      <td>0.2164</td>\n",
       "      <td>0.1968</td>\n",
       "    </tr>\n",
       "  </tbody>\n",
       "</table>\n",
       "<p>5000 rows × 14 columns</p>\n",
       "</div>"
      ],
      "text/plain": [
       "      area  bedrooms  bathrooms   location    age  garage          price  \\\n",
       "0     3774         4          2  Location3   23.0       0  814142.617200   \n",
       "1     4107         2          2  Location3   46.0       0  836259.082065   \n",
       "2     1460         3          3  Location2  113.0       1  296721.573960   \n",
       "3     1894         5          2  Location2   30.0       0  399099.591046   \n",
       "4     1730         3          2  Location5   67.0       0  441862.941002   \n",
       "...    ...       ...        ...        ...    ...     ...            ...   \n",
       "4995   736         3          2  Location3  118.0       2  174089.796256   \n",
       "4996  2546         2          1  Location4   24.0       2  633153.590770   \n",
       "4997  2297         1          2  Location2   66.0       0  456620.765104   \n",
       "4998  1027         4          3  Location5   95.0       2  286274.647796   \n",
       "4999  2075         4          2  Location2   86.0       1  519528.994072   \n",
       "\n",
       "      rooms  average_room_area    area_age    age_bed  location_new  \\\n",
       "0         6         943.500000  164.086957   5.750000             1   \n",
       "1         4        2053.500000   89.282609  23.000000             1   \n",
       "2         6         486.666667   12.920354  37.666667             2   \n",
       "3         7         378.800000   63.133333   6.000000             2   \n",
       "4         5         576.666667   25.820896  22.333333             3   \n",
       "...     ...                ...         ...        ...           ...   \n",
       "4995      5         245.333333    6.237288  39.333333             1   \n",
       "4996      3        1273.000000  106.083333  12.000000             4   \n",
       "4997      3        2297.000000   34.803030  66.000000             2   \n",
       "4998      7         256.750000   10.810526  23.750000             3   \n",
       "4999      6         518.750000   24.127907  21.500000             2   \n",
       "\n",
       "      locationenc  bedroomsenc  \n",
       "0          0.1928       0.1968  \n",
       "1          0.1928       0.2078  \n",
       "2          0.2164       0.1968  \n",
       "3          0.2164       0.2016  \n",
       "4          0.1968       0.1968  \n",
       "...           ...          ...  \n",
       "4995       0.1928       0.1968  \n",
       "4996       0.1970       0.2078  \n",
       "4997       0.2164       0.1970  \n",
       "4998       0.1968       0.1968  \n",
       "4999       0.2164       0.1968  \n",
       "\n",
       "[5000 rows x 14 columns]"
      ]
     },
     "execution_count": 53,
     "metadata": {},
     "output_type": "execute_result"
    }
   ],
   "source": [
    "freq_encoding(df, df[['location', 'bedrooms']])"
   ]
  },
  {
   "cell_type": "code",
   "execution_count": 54,
   "id": "bd6d7032",
   "metadata": {},
   "outputs": [],
   "source": [
    "#just storing the dummies to a variable\n",
    "location_dummies = pd.get_dummies(df.location)"
   ]
  },
  {
   "cell_type": "code",
   "execution_count": 55,
   "id": "c1c036d7",
   "metadata": {},
   "outputs": [],
   "source": [
    "new_df = pd.concat([df, location_dummies], axis=1)"
   ]
  },
  {
   "cell_type": "code",
   "execution_count": 56,
   "id": "9f6ee91d",
   "metadata": {
    "scrolled": true
   },
   "outputs": [
    {
     "data": {
      "text/html": [
       "<div>\n",
       "<style scoped>\n",
       "    .dataframe tbody tr th:only-of-type {\n",
       "        vertical-align: middle;\n",
       "    }\n",
       "\n",
       "    .dataframe tbody tr th {\n",
       "        vertical-align: top;\n",
       "    }\n",
       "\n",
       "    .dataframe thead th {\n",
       "        text-align: right;\n",
       "    }\n",
       "</style>\n",
       "<table border=\"1\" class=\"dataframe\">\n",
       "  <thead>\n",
       "    <tr style=\"text-align: right;\">\n",
       "      <th></th>\n",
       "      <th>area</th>\n",
       "      <th>bedrooms</th>\n",
       "      <th>bathrooms</th>\n",
       "      <th>location</th>\n",
       "      <th>age</th>\n",
       "      <th>garage</th>\n",
       "      <th>price</th>\n",
       "      <th>rooms</th>\n",
       "      <th>average_room_area</th>\n",
       "      <th>area_age</th>\n",
       "      <th>age_bed</th>\n",
       "      <th>location_new</th>\n",
       "      <th>locationenc</th>\n",
       "      <th>bedroomsenc</th>\n",
       "      <th>Location1</th>\n",
       "      <th>Location2</th>\n",
       "      <th>Location3</th>\n",
       "      <th>Location4</th>\n",
       "      <th>Location5</th>\n",
       "    </tr>\n",
       "  </thead>\n",
       "  <tbody>\n",
       "    <tr>\n",
       "      <th>0</th>\n",
       "      <td>3774</td>\n",
       "      <td>4</td>\n",
       "      <td>2</td>\n",
       "      <td>Location3</td>\n",
       "      <td>23.0</td>\n",
       "      <td>0</td>\n",
       "      <td>814142.617200</td>\n",
       "      <td>6</td>\n",
       "      <td>943.500000</td>\n",
       "      <td>164.086957</td>\n",
       "      <td>5.750000</td>\n",
       "      <td>1</td>\n",
       "      <td>0.1928</td>\n",
       "      <td>0.1968</td>\n",
       "      <td>0</td>\n",
       "      <td>0</td>\n",
       "      <td>1</td>\n",
       "      <td>0</td>\n",
       "      <td>0</td>\n",
       "    </tr>\n",
       "    <tr>\n",
       "      <th>1</th>\n",
       "      <td>4107</td>\n",
       "      <td>2</td>\n",
       "      <td>2</td>\n",
       "      <td>Location3</td>\n",
       "      <td>46.0</td>\n",
       "      <td>0</td>\n",
       "      <td>836259.082065</td>\n",
       "      <td>4</td>\n",
       "      <td>2053.500000</td>\n",
       "      <td>89.282609</td>\n",
       "      <td>23.000000</td>\n",
       "      <td>1</td>\n",
       "      <td>0.1928</td>\n",
       "      <td>0.2078</td>\n",
       "      <td>0</td>\n",
       "      <td>0</td>\n",
       "      <td>1</td>\n",
       "      <td>0</td>\n",
       "      <td>0</td>\n",
       "    </tr>\n",
       "    <tr>\n",
       "      <th>2</th>\n",
       "      <td>1460</td>\n",
       "      <td>3</td>\n",
       "      <td>3</td>\n",
       "      <td>Location2</td>\n",
       "      <td>113.0</td>\n",
       "      <td>1</td>\n",
       "      <td>296721.573960</td>\n",
       "      <td>6</td>\n",
       "      <td>486.666667</td>\n",
       "      <td>12.920354</td>\n",
       "      <td>37.666667</td>\n",
       "      <td>2</td>\n",
       "      <td>0.2164</td>\n",
       "      <td>0.1968</td>\n",
       "      <td>0</td>\n",
       "      <td>1</td>\n",
       "      <td>0</td>\n",
       "      <td>0</td>\n",
       "      <td>0</td>\n",
       "    </tr>\n",
       "    <tr>\n",
       "      <th>3</th>\n",
       "      <td>1894</td>\n",
       "      <td>5</td>\n",
       "      <td>2</td>\n",
       "      <td>Location2</td>\n",
       "      <td>30.0</td>\n",
       "      <td>0</td>\n",
       "      <td>399099.591046</td>\n",
       "      <td>7</td>\n",
       "      <td>378.800000</td>\n",
       "      <td>63.133333</td>\n",
       "      <td>6.000000</td>\n",
       "      <td>2</td>\n",
       "      <td>0.2164</td>\n",
       "      <td>0.2016</td>\n",
       "      <td>0</td>\n",
       "      <td>1</td>\n",
       "      <td>0</td>\n",
       "      <td>0</td>\n",
       "      <td>0</td>\n",
       "    </tr>\n",
       "    <tr>\n",
       "      <th>4</th>\n",
       "      <td>1730</td>\n",
       "      <td>3</td>\n",
       "      <td>2</td>\n",
       "      <td>Location5</td>\n",
       "      <td>67.0</td>\n",
       "      <td>0</td>\n",
       "      <td>441862.941002</td>\n",
       "      <td>5</td>\n",
       "      <td>576.666667</td>\n",
       "      <td>25.820896</td>\n",
       "      <td>22.333333</td>\n",
       "      <td>3</td>\n",
       "      <td>0.1968</td>\n",
       "      <td>0.1968</td>\n",
       "      <td>0</td>\n",
       "      <td>0</td>\n",
       "      <td>0</td>\n",
       "      <td>0</td>\n",
       "      <td>1</td>\n",
       "    </tr>\n",
       "  </tbody>\n",
       "</table>\n",
       "</div>"
      ],
      "text/plain": [
       "   area  bedrooms  bathrooms   location    age  garage          price  rooms  \\\n",
       "0  3774         4          2  Location3   23.0       0  814142.617200      6   \n",
       "1  4107         2          2  Location3   46.0       0  836259.082065      4   \n",
       "2  1460         3          3  Location2  113.0       1  296721.573960      6   \n",
       "3  1894         5          2  Location2   30.0       0  399099.591046      7   \n",
       "4  1730         3          2  Location5   67.0       0  441862.941002      5   \n",
       "\n",
       "   average_room_area    area_age    age_bed  location_new  locationenc  \\\n",
       "0         943.500000  164.086957   5.750000             1       0.1928   \n",
       "1        2053.500000   89.282609  23.000000             1       0.1928   \n",
       "2         486.666667   12.920354  37.666667             2       0.2164   \n",
       "3         378.800000   63.133333   6.000000             2       0.2164   \n",
       "4         576.666667   25.820896  22.333333             3       0.1968   \n",
       "\n",
       "   bedroomsenc  Location1  Location2  Location3  Location4  Location5  \n",
       "0       0.1968          0          0          1          0          0  \n",
       "1       0.2078          0          0          1          0          0  \n",
       "2       0.1968          0          1          0          0          0  \n",
       "3       0.2016          0          1          0          0          0  \n",
       "4       0.1968          0          0          0          0          1  "
      ]
     },
     "execution_count": 56,
     "metadata": {},
     "output_type": "execute_result"
    }
   ],
   "source": [
    "new_df.head()"
   ]
  },
  {
   "cell_type": "code",
   "execution_count": 57,
   "id": "63f678e6",
   "metadata": {},
   "outputs": [
    {
     "data": {
      "text/plain": [
       "Index(['area', 'bedrooms', 'bathrooms', 'location', 'age', 'garage', 'price',\n",
       "       'rooms', 'average_room_area', 'area_age', 'age_bed', 'location_new',\n",
       "       'locationenc', 'bedroomsenc', 'Location1', 'Location2', 'Location3',\n",
       "       'Location4', 'Location5'],\n",
       "      dtype='object')"
      ]
     },
     "execution_count": 57,
     "metadata": {},
     "output_type": "execute_result"
    }
   ],
   "source": [
    "new_df.columns"
   ]
  },
  {
   "cell_type": "code",
   "execution_count": 58,
   "id": "00e39f38",
   "metadata": {},
   "outputs": [],
   "source": [
    "# we have to choose just one type of the encoding\n",
    "# so we have to drop some columns\n",
    "\n",
    "# to_drop = ['location', 'Location1', 'Location2', 'Location3', 'Location4', 'Location5']\n",
    "\n",
    "to_drop = [ 'location','location_new']\n",
    "\n",
    "new_df = new_df.drop(to_drop, axis=1)"
   ]
  },
  {
   "cell_type": "code",
   "execution_count": 59,
   "id": "cffb4981",
   "metadata": {},
   "outputs": [
    {
     "data": {
      "text/html": [
       "<div>\n",
       "<style scoped>\n",
       "    .dataframe tbody tr th:only-of-type {\n",
       "        vertical-align: middle;\n",
       "    }\n",
       "\n",
       "    .dataframe tbody tr th {\n",
       "        vertical-align: top;\n",
       "    }\n",
       "\n",
       "    .dataframe thead th {\n",
       "        text-align: right;\n",
       "    }\n",
       "</style>\n",
       "<table border=\"1\" class=\"dataframe\">\n",
       "  <thead>\n",
       "    <tr style=\"text-align: right;\">\n",
       "      <th></th>\n",
       "      <th>area</th>\n",
       "      <th>bedrooms</th>\n",
       "      <th>bathrooms</th>\n",
       "      <th>age</th>\n",
       "      <th>garage</th>\n",
       "      <th>price</th>\n",
       "      <th>rooms</th>\n",
       "      <th>average_room_area</th>\n",
       "      <th>area_age</th>\n",
       "      <th>age_bed</th>\n",
       "      <th>locationenc</th>\n",
       "      <th>bedroomsenc</th>\n",
       "      <th>Location1</th>\n",
       "      <th>Location2</th>\n",
       "      <th>Location3</th>\n",
       "      <th>Location4</th>\n",
       "      <th>Location5</th>\n",
       "    </tr>\n",
       "  </thead>\n",
       "  <tbody>\n",
       "    <tr>\n",
       "      <th>0</th>\n",
       "      <td>3774</td>\n",
       "      <td>4</td>\n",
       "      <td>2</td>\n",
       "      <td>23.0</td>\n",
       "      <td>0</td>\n",
       "      <td>814142.617200</td>\n",
       "      <td>6</td>\n",
       "      <td>943.500000</td>\n",
       "      <td>164.086957</td>\n",
       "      <td>5.750000</td>\n",
       "      <td>0.1928</td>\n",
       "      <td>0.1968</td>\n",
       "      <td>0</td>\n",
       "      <td>0</td>\n",
       "      <td>1</td>\n",
       "      <td>0</td>\n",
       "      <td>0</td>\n",
       "    </tr>\n",
       "    <tr>\n",
       "      <th>1</th>\n",
       "      <td>4107</td>\n",
       "      <td>2</td>\n",
       "      <td>2</td>\n",
       "      <td>46.0</td>\n",
       "      <td>0</td>\n",
       "      <td>836259.082065</td>\n",
       "      <td>4</td>\n",
       "      <td>2053.500000</td>\n",
       "      <td>89.282609</td>\n",
       "      <td>23.000000</td>\n",
       "      <td>0.1928</td>\n",
       "      <td>0.2078</td>\n",
       "      <td>0</td>\n",
       "      <td>0</td>\n",
       "      <td>1</td>\n",
       "      <td>0</td>\n",
       "      <td>0</td>\n",
       "    </tr>\n",
       "    <tr>\n",
       "      <th>2</th>\n",
       "      <td>1460</td>\n",
       "      <td>3</td>\n",
       "      <td>3</td>\n",
       "      <td>113.0</td>\n",
       "      <td>1</td>\n",
       "      <td>296721.573960</td>\n",
       "      <td>6</td>\n",
       "      <td>486.666667</td>\n",
       "      <td>12.920354</td>\n",
       "      <td>37.666667</td>\n",
       "      <td>0.2164</td>\n",
       "      <td>0.1968</td>\n",
       "      <td>0</td>\n",
       "      <td>1</td>\n",
       "      <td>0</td>\n",
       "      <td>0</td>\n",
       "      <td>0</td>\n",
       "    </tr>\n",
       "    <tr>\n",
       "      <th>3</th>\n",
       "      <td>1894</td>\n",
       "      <td>5</td>\n",
       "      <td>2</td>\n",
       "      <td>30.0</td>\n",
       "      <td>0</td>\n",
       "      <td>399099.591046</td>\n",
       "      <td>7</td>\n",
       "      <td>378.800000</td>\n",
       "      <td>63.133333</td>\n",
       "      <td>6.000000</td>\n",
       "      <td>0.2164</td>\n",
       "      <td>0.2016</td>\n",
       "      <td>0</td>\n",
       "      <td>1</td>\n",
       "      <td>0</td>\n",
       "      <td>0</td>\n",
       "      <td>0</td>\n",
       "    </tr>\n",
       "    <tr>\n",
       "      <th>4</th>\n",
       "      <td>1730</td>\n",
       "      <td>3</td>\n",
       "      <td>2</td>\n",
       "      <td>67.0</td>\n",
       "      <td>0</td>\n",
       "      <td>441862.941002</td>\n",
       "      <td>5</td>\n",
       "      <td>576.666667</td>\n",
       "      <td>25.820896</td>\n",
       "      <td>22.333333</td>\n",
       "      <td>0.1968</td>\n",
       "      <td>0.1968</td>\n",
       "      <td>0</td>\n",
       "      <td>0</td>\n",
       "      <td>0</td>\n",
       "      <td>0</td>\n",
       "      <td>1</td>\n",
       "    </tr>\n",
       "    <tr>\n",
       "      <th>...</th>\n",
       "      <td>...</td>\n",
       "      <td>...</td>\n",
       "      <td>...</td>\n",
       "      <td>...</td>\n",
       "      <td>...</td>\n",
       "      <td>...</td>\n",
       "      <td>...</td>\n",
       "      <td>...</td>\n",
       "      <td>...</td>\n",
       "      <td>...</td>\n",
       "      <td>...</td>\n",
       "      <td>...</td>\n",
       "      <td>...</td>\n",
       "      <td>...</td>\n",
       "      <td>...</td>\n",
       "      <td>...</td>\n",
       "      <td>...</td>\n",
       "    </tr>\n",
       "    <tr>\n",
       "      <th>4995</th>\n",
       "      <td>736</td>\n",
       "      <td>3</td>\n",
       "      <td>2</td>\n",
       "      <td>118.0</td>\n",
       "      <td>2</td>\n",
       "      <td>174089.796256</td>\n",
       "      <td>5</td>\n",
       "      <td>245.333333</td>\n",
       "      <td>6.237288</td>\n",
       "      <td>39.333333</td>\n",
       "      <td>0.1928</td>\n",
       "      <td>0.1968</td>\n",
       "      <td>0</td>\n",
       "      <td>0</td>\n",
       "      <td>1</td>\n",
       "      <td>0</td>\n",
       "      <td>0</td>\n",
       "    </tr>\n",
       "    <tr>\n",
       "      <th>4996</th>\n",
       "      <td>2546</td>\n",
       "      <td>2</td>\n",
       "      <td>1</td>\n",
       "      <td>24.0</td>\n",
       "      <td>2</td>\n",
       "      <td>633153.590770</td>\n",
       "      <td>3</td>\n",
       "      <td>1273.000000</td>\n",
       "      <td>106.083333</td>\n",
       "      <td>12.000000</td>\n",
       "      <td>0.1970</td>\n",
       "      <td>0.2078</td>\n",
       "      <td>0</td>\n",
       "      <td>0</td>\n",
       "      <td>0</td>\n",
       "      <td>1</td>\n",
       "      <td>0</td>\n",
       "    </tr>\n",
       "    <tr>\n",
       "      <th>4997</th>\n",
       "      <td>2297</td>\n",
       "      <td>1</td>\n",
       "      <td>2</td>\n",
       "      <td>66.0</td>\n",
       "      <td>0</td>\n",
       "      <td>456620.765104</td>\n",
       "      <td>3</td>\n",
       "      <td>2297.000000</td>\n",
       "      <td>34.803030</td>\n",
       "      <td>66.000000</td>\n",
       "      <td>0.2164</td>\n",
       "      <td>0.1970</td>\n",
       "      <td>0</td>\n",
       "      <td>1</td>\n",
       "      <td>0</td>\n",
       "      <td>0</td>\n",
       "      <td>0</td>\n",
       "    </tr>\n",
       "    <tr>\n",
       "      <th>4998</th>\n",
       "      <td>1027</td>\n",
       "      <td>4</td>\n",
       "      <td>3</td>\n",
       "      <td>95.0</td>\n",
       "      <td>2</td>\n",
       "      <td>286274.647796</td>\n",
       "      <td>7</td>\n",
       "      <td>256.750000</td>\n",
       "      <td>10.810526</td>\n",
       "      <td>23.750000</td>\n",
       "      <td>0.1968</td>\n",
       "      <td>0.1968</td>\n",
       "      <td>0</td>\n",
       "      <td>0</td>\n",
       "      <td>0</td>\n",
       "      <td>0</td>\n",
       "      <td>1</td>\n",
       "    </tr>\n",
       "    <tr>\n",
       "      <th>4999</th>\n",
       "      <td>2075</td>\n",
       "      <td>4</td>\n",
       "      <td>2</td>\n",
       "      <td>86.0</td>\n",
       "      <td>1</td>\n",
       "      <td>519528.994072</td>\n",
       "      <td>6</td>\n",
       "      <td>518.750000</td>\n",
       "      <td>24.127907</td>\n",
       "      <td>21.500000</td>\n",
       "      <td>0.2164</td>\n",
       "      <td>0.1968</td>\n",
       "      <td>0</td>\n",
       "      <td>1</td>\n",
       "      <td>0</td>\n",
       "      <td>0</td>\n",
       "      <td>0</td>\n",
       "    </tr>\n",
       "  </tbody>\n",
       "</table>\n",
       "<p>5000 rows × 17 columns</p>\n",
       "</div>"
      ],
      "text/plain": [
       "      area  bedrooms  bathrooms    age  garage          price  rooms  \\\n",
       "0     3774         4          2   23.0       0  814142.617200      6   \n",
       "1     4107         2          2   46.0       0  836259.082065      4   \n",
       "2     1460         3          3  113.0       1  296721.573960      6   \n",
       "3     1894         5          2   30.0       0  399099.591046      7   \n",
       "4     1730         3          2   67.0       0  441862.941002      5   \n",
       "...    ...       ...        ...    ...     ...            ...    ...   \n",
       "4995   736         3          2  118.0       2  174089.796256      5   \n",
       "4996  2546         2          1   24.0       2  633153.590770      3   \n",
       "4997  2297         1          2   66.0       0  456620.765104      3   \n",
       "4998  1027         4          3   95.0       2  286274.647796      7   \n",
       "4999  2075         4          2   86.0       1  519528.994072      6   \n",
       "\n",
       "      average_room_area    area_age    age_bed  locationenc  bedroomsenc  \\\n",
       "0            943.500000  164.086957   5.750000       0.1928       0.1968   \n",
       "1           2053.500000   89.282609  23.000000       0.1928       0.2078   \n",
       "2            486.666667   12.920354  37.666667       0.2164       0.1968   \n",
       "3            378.800000   63.133333   6.000000       0.2164       0.2016   \n",
       "4            576.666667   25.820896  22.333333       0.1968       0.1968   \n",
       "...                 ...         ...        ...          ...          ...   \n",
       "4995         245.333333    6.237288  39.333333       0.1928       0.1968   \n",
       "4996        1273.000000  106.083333  12.000000       0.1970       0.2078   \n",
       "4997        2297.000000   34.803030  66.000000       0.2164       0.1970   \n",
       "4998         256.750000   10.810526  23.750000       0.1968       0.1968   \n",
       "4999         518.750000   24.127907  21.500000       0.2164       0.1968   \n",
       "\n",
       "      Location1  Location2  Location3  Location4  Location5  \n",
       "0             0          0          1          0          0  \n",
       "1             0          0          1          0          0  \n",
       "2             0          1          0          0          0  \n",
       "3             0          1          0          0          0  \n",
       "4             0          0          0          0          1  \n",
       "...         ...        ...        ...        ...        ...  \n",
       "4995          0          0          1          0          0  \n",
       "4996          0          0          0          1          0  \n",
       "4997          0          1          0          0          0  \n",
       "4998          0          0          0          0          1  \n",
       "4999          0          1          0          0          0  \n",
       "\n",
       "[5000 rows x 17 columns]"
      ]
     },
     "execution_count": 59,
     "metadata": {},
     "output_type": "execute_result"
    }
   ],
   "source": [
    "new_df"
   ]
  },
  {
   "cell_type": "code",
   "execution_count": 60,
   "id": "8087fbe6",
   "metadata": {},
   "outputs": [],
   "source": [
    "#this is how likely our linear regression formular will look like\n",
    "#weights and bias\n",
    "# y = mx + m2x2 + m3x3 + m4x4 + m5x5 + m6x6....m8x8 + c"
   ]
  },
  {
   "cell_type": "markdown",
   "id": "b3d44d1b",
   "metadata": {},
   "source": [
    "## Model Selection\n",
    "\n",
    "We select the Decision Tree Regressor and Linear Regression as our model."
   ]
  },
  {
   "cell_type": "code",
   "execution_count": 61,
   "id": "eded6742",
   "metadata": {},
   "outputs": [],
   "source": [
    "#scikit-learn package"
   ]
  },
  {
   "cell_type": "code",
   "execution_count": 62,
   "id": "685e4483",
   "metadata": {},
   "outputs": [],
   "source": [
    "from sklearn.linear_model import LinearRegression\n",
    "from sklearn.tree import DecisionTreeRegressor"
   ]
  },
  {
   "cell_type": "markdown",
   "id": "26c57a54",
   "metadata": {},
   "source": [
    "## Training and Evaluation\n",
    "\n",
    "Let's split our data into training and testing sets, train our model, and evaluate its performance."
   ]
  },
  {
   "cell_type": "code",
   "execution_count": 63,
   "id": "10cd4ef4",
   "metadata": {},
   "outputs": [],
   "source": [
    "#importing the needed function from Sklearn\n",
    "from sklearn.model_selection import train_test_split"
   ]
  },
  {
   "cell_type": "code",
   "execution_count": 64,
   "id": "23ad9f7c",
   "metadata": {},
   "outputs": [],
   "source": [
    "#X is features and y is target\n",
    "X = new_df.drop('price', axis=1)\n",
    "y= new_df.price"
   ]
  },
  {
   "cell_type": "code",
   "execution_count": 65,
   "id": "595c903f",
   "metadata": {},
   "outputs": [
    {
     "data": {
      "text/html": [
       "<div>\n",
       "<style scoped>\n",
       "    .dataframe tbody tr th:only-of-type {\n",
       "        vertical-align: middle;\n",
       "    }\n",
       "\n",
       "    .dataframe tbody tr th {\n",
       "        vertical-align: top;\n",
       "    }\n",
       "\n",
       "    .dataframe thead th {\n",
       "        text-align: right;\n",
       "    }\n",
       "</style>\n",
       "<table border=\"1\" class=\"dataframe\">\n",
       "  <thead>\n",
       "    <tr style=\"text-align: right;\">\n",
       "      <th></th>\n",
       "      <th>area</th>\n",
       "      <th>bedrooms</th>\n",
       "      <th>bathrooms</th>\n",
       "      <th>age</th>\n",
       "      <th>garage</th>\n",
       "      <th>rooms</th>\n",
       "      <th>average_room_area</th>\n",
       "      <th>area_age</th>\n",
       "      <th>age_bed</th>\n",
       "      <th>locationenc</th>\n",
       "      <th>bedroomsenc</th>\n",
       "      <th>Location1</th>\n",
       "      <th>Location2</th>\n",
       "      <th>Location3</th>\n",
       "      <th>Location4</th>\n",
       "      <th>Location5</th>\n",
       "    </tr>\n",
       "  </thead>\n",
       "  <tbody>\n",
       "    <tr>\n",
       "      <th>0</th>\n",
       "      <td>3774</td>\n",
       "      <td>4</td>\n",
       "      <td>2</td>\n",
       "      <td>23.0</td>\n",
       "      <td>0</td>\n",
       "      <td>6</td>\n",
       "      <td>943.500000</td>\n",
       "      <td>164.086957</td>\n",
       "      <td>5.750000</td>\n",
       "      <td>0.1928</td>\n",
       "      <td>0.1968</td>\n",
       "      <td>0</td>\n",
       "      <td>0</td>\n",
       "      <td>1</td>\n",
       "      <td>0</td>\n",
       "      <td>0</td>\n",
       "    </tr>\n",
       "    <tr>\n",
       "      <th>1</th>\n",
       "      <td>4107</td>\n",
       "      <td>2</td>\n",
       "      <td>2</td>\n",
       "      <td>46.0</td>\n",
       "      <td>0</td>\n",
       "      <td>4</td>\n",
       "      <td>2053.500000</td>\n",
       "      <td>89.282609</td>\n",
       "      <td>23.000000</td>\n",
       "      <td>0.1928</td>\n",
       "      <td>0.2078</td>\n",
       "      <td>0</td>\n",
       "      <td>0</td>\n",
       "      <td>1</td>\n",
       "      <td>0</td>\n",
       "      <td>0</td>\n",
       "    </tr>\n",
       "    <tr>\n",
       "      <th>2</th>\n",
       "      <td>1460</td>\n",
       "      <td>3</td>\n",
       "      <td>3</td>\n",
       "      <td>113.0</td>\n",
       "      <td>1</td>\n",
       "      <td>6</td>\n",
       "      <td>486.666667</td>\n",
       "      <td>12.920354</td>\n",
       "      <td>37.666667</td>\n",
       "      <td>0.2164</td>\n",
       "      <td>0.1968</td>\n",
       "      <td>0</td>\n",
       "      <td>1</td>\n",
       "      <td>0</td>\n",
       "      <td>0</td>\n",
       "      <td>0</td>\n",
       "    </tr>\n",
       "    <tr>\n",
       "      <th>3</th>\n",
       "      <td>1894</td>\n",
       "      <td>5</td>\n",
       "      <td>2</td>\n",
       "      <td>30.0</td>\n",
       "      <td>0</td>\n",
       "      <td>7</td>\n",
       "      <td>378.800000</td>\n",
       "      <td>63.133333</td>\n",
       "      <td>6.000000</td>\n",
       "      <td>0.2164</td>\n",
       "      <td>0.2016</td>\n",
       "      <td>0</td>\n",
       "      <td>1</td>\n",
       "      <td>0</td>\n",
       "      <td>0</td>\n",
       "      <td>0</td>\n",
       "    </tr>\n",
       "    <tr>\n",
       "      <th>4</th>\n",
       "      <td>1730</td>\n",
       "      <td>3</td>\n",
       "      <td>2</td>\n",
       "      <td>67.0</td>\n",
       "      <td>0</td>\n",
       "      <td>5</td>\n",
       "      <td>576.666667</td>\n",
       "      <td>25.820896</td>\n",
       "      <td>22.333333</td>\n",
       "      <td>0.1968</td>\n",
       "      <td>0.1968</td>\n",
       "      <td>0</td>\n",
       "      <td>0</td>\n",
       "      <td>0</td>\n",
       "      <td>0</td>\n",
       "      <td>1</td>\n",
       "    </tr>\n",
       "    <tr>\n",
       "      <th>...</th>\n",
       "      <td>...</td>\n",
       "      <td>...</td>\n",
       "      <td>...</td>\n",
       "      <td>...</td>\n",
       "      <td>...</td>\n",
       "      <td>...</td>\n",
       "      <td>...</td>\n",
       "      <td>...</td>\n",
       "      <td>...</td>\n",
       "      <td>...</td>\n",
       "      <td>...</td>\n",
       "      <td>...</td>\n",
       "      <td>...</td>\n",
       "      <td>...</td>\n",
       "      <td>...</td>\n",
       "      <td>...</td>\n",
       "    </tr>\n",
       "    <tr>\n",
       "      <th>4995</th>\n",
       "      <td>736</td>\n",
       "      <td>3</td>\n",
       "      <td>2</td>\n",
       "      <td>118.0</td>\n",
       "      <td>2</td>\n",
       "      <td>5</td>\n",
       "      <td>245.333333</td>\n",
       "      <td>6.237288</td>\n",
       "      <td>39.333333</td>\n",
       "      <td>0.1928</td>\n",
       "      <td>0.1968</td>\n",
       "      <td>0</td>\n",
       "      <td>0</td>\n",
       "      <td>1</td>\n",
       "      <td>0</td>\n",
       "      <td>0</td>\n",
       "    </tr>\n",
       "    <tr>\n",
       "      <th>4996</th>\n",
       "      <td>2546</td>\n",
       "      <td>2</td>\n",
       "      <td>1</td>\n",
       "      <td>24.0</td>\n",
       "      <td>2</td>\n",
       "      <td>3</td>\n",
       "      <td>1273.000000</td>\n",
       "      <td>106.083333</td>\n",
       "      <td>12.000000</td>\n",
       "      <td>0.1970</td>\n",
       "      <td>0.2078</td>\n",
       "      <td>0</td>\n",
       "      <td>0</td>\n",
       "      <td>0</td>\n",
       "      <td>1</td>\n",
       "      <td>0</td>\n",
       "    </tr>\n",
       "    <tr>\n",
       "      <th>4997</th>\n",
       "      <td>2297</td>\n",
       "      <td>1</td>\n",
       "      <td>2</td>\n",
       "      <td>66.0</td>\n",
       "      <td>0</td>\n",
       "      <td>3</td>\n",
       "      <td>2297.000000</td>\n",
       "      <td>34.803030</td>\n",
       "      <td>66.000000</td>\n",
       "      <td>0.2164</td>\n",
       "      <td>0.1970</td>\n",
       "      <td>0</td>\n",
       "      <td>1</td>\n",
       "      <td>0</td>\n",
       "      <td>0</td>\n",
       "      <td>0</td>\n",
       "    </tr>\n",
       "    <tr>\n",
       "      <th>4998</th>\n",
       "      <td>1027</td>\n",
       "      <td>4</td>\n",
       "      <td>3</td>\n",
       "      <td>95.0</td>\n",
       "      <td>2</td>\n",
       "      <td>7</td>\n",
       "      <td>256.750000</td>\n",
       "      <td>10.810526</td>\n",
       "      <td>23.750000</td>\n",
       "      <td>0.1968</td>\n",
       "      <td>0.1968</td>\n",
       "      <td>0</td>\n",
       "      <td>0</td>\n",
       "      <td>0</td>\n",
       "      <td>0</td>\n",
       "      <td>1</td>\n",
       "    </tr>\n",
       "    <tr>\n",
       "      <th>4999</th>\n",
       "      <td>2075</td>\n",
       "      <td>4</td>\n",
       "      <td>2</td>\n",
       "      <td>86.0</td>\n",
       "      <td>1</td>\n",
       "      <td>6</td>\n",
       "      <td>518.750000</td>\n",
       "      <td>24.127907</td>\n",
       "      <td>21.500000</td>\n",
       "      <td>0.2164</td>\n",
       "      <td>0.1968</td>\n",
       "      <td>0</td>\n",
       "      <td>1</td>\n",
       "      <td>0</td>\n",
       "      <td>0</td>\n",
       "      <td>0</td>\n",
       "    </tr>\n",
       "  </tbody>\n",
       "</table>\n",
       "<p>5000 rows × 16 columns</p>\n",
       "</div>"
      ],
      "text/plain": [
       "      area  bedrooms  bathrooms    age  garage  rooms  average_room_area  \\\n",
       "0     3774         4          2   23.0       0      6         943.500000   \n",
       "1     4107         2          2   46.0       0      4        2053.500000   \n",
       "2     1460         3          3  113.0       1      6         486.666667   \n",
       "3     1894         5          2   30.0       0      7         378.800000   \n",
       "4     1730         3          2   67.0       0      5         576.666667   \n",
       "...    ...       ...        ...    ...     ...    ...                ...   \n",
       "4995   736         3          2  118.0       2      5         245.333333   \n",
       "4996  2546         2          1   24.0       2      3        1273.000000   \n",
       "4997  2297         1          2   66.0       0      3        2297.000000   \n",
       "4998  1027         4          3   95.0       2      7         256.750000   \n",
       "4999  2075         4          2   86.0       1      6         518.750000   \n",
       "\n",
       "        area_age    age_bed  locationenc  bedroomsenc  Location1  Location2  \\\n",
       "0     164.086957   5.750000       0.1928       0.1968          0          0   \n",
       "1      89.282609  23.000000       0.1928       0.2078          0          0   \n",
       "2      12.920354  37.666667       0.2164       0.1968          0          1   \n",
       "3      63.133333   6.000000       0.2164       0.2016          0          1   \n",
       "4      25.820896  22.333333       0.1968       0.1968          0          0   \n",
       "...          ...        ...          ...          ...        ...        ...   \n",
       "4995    6.237288  39.333333       0.1928       0.1968          0          0   \n",
       "4996  106.083333  12.000000       0.1970       0.2078          0          0   \n",
       "4997   34.803030  66.000000       0.2164       0.1970          0          1   \n",
       "4998   10.810526  23.750000       0.1968       0.1968          0          0   \n",
       "4999   24.127907  21.500000       0.2164       0.1968          0          1   \n",
       "\n",
       "      Location3  Location4  Location5  \n",
       "0             1          0          0  \n",
       "1             1          0          0  \n",
       "2             0          0          0  \n",
       "3             0          0          0  \n",
       "4             0          0          1  \n",
       "...         ...        ...        ...  \n",
       "4995          1          0          0  \n",
       "4996          0          1          0  \n",
       "4997          0          0          0  \n",
       "4998          0          0          1  \n",
       "4999          0          0          0  \n",
       "\n",
       "[5000 rows x 16 columns]"
      ]
     },
     "execution_count": 65,
     "metadata": {},
     "output_type": "execute_result"
    }
   ],
   "source": [
    "X"
   ]
  },
  {
   "cell_type": "code",
   "execution_count": 66,
   "id": "88acaa57",
   "metadata": {},
   "outputs": [],
   "source": [
    "# y"
   ]
  },
  {
   "cell_type": "code",
   "execution_count": 67,
   "id": "491ae907",
   "metadata": {},
   "outputs": [],
   "source": [
    "# model reproducibility you need yo ensure you always set a random seed/state"
   ]
  },
  {
   "cell_type": "code",
   "execution_count": 68,
   "id": "3fb1f18d",
   "metadata": {},
   "outputs": [],
   "source": [
    "#we are splitting X into 80% for training and 20% for testing\n",
    "X_train, X_test, y_train, y_test = train_test_split(X, y, test_size=.2, random_state=42)"
   ]
  },
  {
   "cell_type": "code",
   "execution_count": 69,
   "id": "cde73bfa",
   "metadata": {},
   "outputs": [
    {
     "data": {
      "text/html": [
       "<div>\n",
       "<style scoped>\n",
       "    .dataframe tbody tr th:only-of-type {\n",
       "        vertical-align: middle;\n",
       "    }\n",
       "\n",
       "    .dataframe tbody tr th {\n",
       "        vertical-align: top;\n",
       "    }\n",
       "\n",
       "    .dataframe thead th {\n",
       "        text-align: right;\n",
       "    }\n",
       "</style>\n",
       "<table border=\"1\" class=\"dataframe\">\n",
       "  <thead>\n",
       "    <tr style=\"text-align: right;\">\n",
       "      <th></th>\n",
       "      <th>area</th>\n",
       "      <th>bedrooms</th>\n",
       "      <th>bathrooms</th>\n",
       "      <th>age</th>\n",
       "      <th>garage</th>\n",
       "      <th>rooms</th>\n",
       "      <th>average_room_area</th>\n",
       "      <th>area_age</th>\n",
       "      <th>age_bed</th>\n",
       "      <th>locationenc</th>\n",
       "      <th>bedroomsenc</th>\n",
       "      <th>Location1</th>\n",
       "      <th>Location2</th>\n",
       "      <th>Location3</th>\n",
       "      <th>Location4</th>\n",
       "      <th>Location5</th>\n",
       "    </tr>\n",
       "  </thead>\n",
       "  <tbody>\n",
       "    <tr>\n",
       "      <th>4227</th>\n",
       "      <td>1232</td>\n",
       "      <td>4</td>\n",
       "      <td>1</td>\n",
       "      <td>99.0</td>\n",
       "      <td>0</td>\n",
       "      <td>5</td>\n",
       "      <td>308.00</td>\n",
       "      <td>12.444444</td>\n",
       "      <td>24.750000</td>\n",
       "      <td>0.1970</td>\n",
       "      <td>0.1968</td>\n",
       "      <td>0</td>\n",
       "      <td>0</td>\n",
       "      <td>0</td>\n",
       "      <td>1</td>\n",
       "      <td>0</td>\n",
       "    </tr>\n",
       "    <tr>\n",
       "      <th>4676</th>\n",
       "      <td>899</td>\n",
       "      <td>1</td>\n",
       "      <td>2</td>\n",
       "      <td>60.0</td>\n",
       "      <td>1</td>\n",
       "      <td>3</td>\n",
       "      <td>899.00</td>\n",
       "      <td>14.983333</td>\n",
       "      <td>60.000000</td>\n",
       "      <td>0.2164</td>\n",
       "      <td>0.1970</td>\n",
       "      <td>0</td>\n",
       "      <td>1</td>\n",
       "      <td>0</td>\n",
       "      <td>0</td>\n",
       "      <td>0</td>\n",
       "    </tr>\n",
       "    <tr>\n",
       "      <th>800</th>\n",
       "      <td>3045</td>\n",
       "      <td>3</td>\n",
       "      <td>2</td>\n",
       "      <td>110.0</td>\n",
       "      <td>2</td>\n",
       "      <td>5</td>\n",
       "      <td>1015.00</td>\n",
       "      <td>27.681818</td>\n",
       "      <td>36.666667</td>\n",
       "      <td>0.1970</td>\n",
       "      <td>0.1968</td>\n",
       "      <td>0</td>\n",
       "      <td>0</td>\n",
       "      <td>0</td>\n",
       "      <td>1</td>\n",
       "      <td>0</td>\n",
       "    </tr>\n",
       "    <tr>\n",
       "      <th>3671</th>\n",
       "      <td>2395</td>\n",
       "      <td>5</td>\n",
       "      <td>3</td>\n",
       "      <td>22.0</td>\n",
       "      <td>1</td>\n",
       "      <td>8</td>\n",
       "      <td>479.00</td>\n",
       "      <td>108.863636</td>\n",
       "      <td>4.400000</td>\n",
       "      <td>0.1970</td>\n",
       "      <td>0.2016</td>\n",
       "      <td>0</td>\n",
       "      <td>0</td>\n",
       "      <td>0</td>\n",
       "      <td>1</td>\n",
       "      <td>0</td>\n",
       "    </tr>\n",
       "    <tr>\n",
       "      <th>4193</th>\n",
       "      <td>3349</td>\n",
       "      <td>4</td>\n",
       "      <td>1</td>\n",
       "      <td>17.0</td>\n",
       "      <td>0</td>\n",
       "      <td>5</td>\n",
       "      <td>837.25</td>\n",
       "      <td>197.000000</td>\n",
       "      <td>4.250000</td>\n",
       "      <td>0.2164</td>\n",
       "      <td>0.1968</td>\n",
       "      <td>0</td>\n",
       "      <td>1</td>\n",
       "      <td>0</td>\n",
       "      <td>0</td>\n",
       "      <td>0</td>\n",
       "    </tr>\n",
       "    <tr>\n",
       "      <th>...</th>\n",
       "      <td>...</td>\n",
       "      <td>...</td>\n",
       "      <td>...</td>\n",
       "      <td>...</td>\n",
       "      <td>...</td>\n",
       "      <td>...</td>\n",
       "      <td>...</td>\n",
       "      <td>...</td>\n",
       "      <td>...</td>\n",
       "      <td>...</td>\n",
       "      <td>...</td>\n",
       "      <td>...</td>\n",
       "      <td>...</td>\n",
       "      <td>...</td>\n",
       "      <td>...</td>\n",
       "      <td>...</td>\n",
       "    </tr>\n",
       "    <tr>\n",
       "      <th>4426</th>\n",
       "      <td>3604</td>\n",
       "      <td>4</td>\n",
       "      <td>2</td>\n",
       "      <td>91.0</td>\n",
       "      <td>0</td>\n",
       "      <td>6</td>\n",
       "      <td>901.00</td>\n",
       "      <td>39.604396</td>\n",
       "      <td>22.750000</td>\n",
       "      <td>0.1968</td>\n",
       "      <td>0.1968</td>\n",
       "      <td>0</td>\n",
       "      <td>0</td>\n",
       "      <td>0</td>\n",
       "      <td>0</td>\n",
       "      <td>1</td>\n",
       "    </tr>\n",
       "    <tr>\n",
       "      <th>466</th>\n",
       "      <td>3144</td>\n",
       "      <td>4</td>\n",
       "      <td>3</td>\n",
       "      <td>68.0</td>\n",
       "      <td>0</td>\n",
       "      <td>7</td>\n",
       "      <td>786.00</td>\n",
       "      <td>46.235294</td>\n",
       "      <td>17.000000</td>\n",
       "      <td>0.2164</td>\n",
       "      <td>0.1968</td>\n",
       "      <td>0</td>\n",
       "      <td>1</td>\n",
       "      <td>0</td>\n",
       "      <td>0</td>\n",
       "      <td>0</td>\n",
       "    </tr>\n",
       "    <tr>\n",
       "      <th>3092</th>\n",
       "      <td>4219</td>\n",
       "      <td>1</td>\n",
       "      <td>3</td>\n",
       "      <td>8.0</td>\n",
       "      <td>0</td>\n",
       "      <td>4</td>\n",
       "      <td>4219.00</td>\n",
       "      <td>527.375000</td>\n",
       "      <td>8.000000</td>\n",
       "      <td>0.1928</td>\n",
       "      <td>0.1970</td>\n",
       "      <td>0</td>\n",
       "      <td>0</td>\n",
       "      <td>1</td>\n",
       "      <td>0</td>\n",
       "      <td>0</td>\n",
       "    </tr>\n",
       "    <tr>\n",
       "      <th>3772</th>\n",
       "      <td>2049</td>\n",
       "      <td>1</td>\n",
       "      <td>3</td>\n",
       "      <td>92.0</td>\n",
       "      <td>2</td>\n",
       "      <td>4</td>\n",
       "      <td>2049.00</td>\n",
       "      <td>22.271739</td>\n",
       "      <td>92.000000</td>\n",
       "      <td>0.1970</td>\n",
       "      <td>0.1970</td>\n",
       "      <td>0</td>\n",
       "      <td>0</td>\n",
       "      <td>0</td>\n",
       "      <td>1</td>\n",
       "      <td>0</td>\n",
       "    </tr>\n",
       "    <tr>\n",
       "      <th>860</th>\n",
       "      <td>4122</td>\n",
       "      <td>2</td>\n",
       "      <td>2</td>\n",
       "      <td>85.0</td>\n",
       "      <td>2</td>\n",
       "      <td>4</td>\n",
       "      <td>2061.00</td>\n",
       "      <td>48.494118</td>\n",
       "      <td>42.500000</td>\n",
       "      <td>0.1968</td>\n",
       "      <td>0.2078</td>\n",
       "      <td>0</td>\n",
       "      <td>0</td>\n",
       "      <td>0</td>\n",
       "      <td>0</td>\n",
       "      <td>1</td>\n",
       "    </tr>\n",
       "  </tbody>\n",
       "</table>\n",
       "<p>4000 rows × 16 columns</p>\n",
       "</div>"
      ],
      "text/plain": [
       "      area  bedrooms  bathrooms    age  garage  rooms  average_room_area  \\\n",
       "4227  1232         4          1   99.0       0      5             308.00   \n",
       "4676   899         1          2   60.0       1      3             899.00   \n",
       "800   3045         3          2  110.0       2      5            1015.00   \n",
       "3671  2395         5          3   22.0       1      8             479.00   \n",
       "4193  3349         4          1   17.0       0      5             837.25   \n",
       "...    ...       ...        ...    ...     ...    ...                ...   \n",
       "4426  3604         4          2   91.0       0      6             901.00   \n",
       "466   3144         4          3   68.0       0      7             786.00   \n",
       "3092  4219         1          3    8.0       0      4            4219.00   \n",
       "3772  2049         1          3   92.0       2      4            2049.00   \n",
       "860   4122         2          2   85.0       2      4            2061.00   \n",
       "\n",
       "        area_age    age_bed  locationenc  bedroomsenc  Location1  Location2  \\\n",
       "4227   12.444444  24.750000       0.1970       0.1968          0          0   \n",
       "4676   14.983333  60.000000       0.2164       0.1970          0          1   \n",
       "800    27.681818  36.666667       0.1970       0.1968          0          0   \n",
       "3671  108.863636   4.400000       0.1970       0.2016          0          0   \n",
       "4193  197.000000   4.250000       0.2164       0.1968          0          1   \n",
       "...          ...        ...          ...          ...        ...        ...   \n",
       "4426   39.604396  22.750000       0.1968       0.1968          0          0   \n",
       "466    46.235294  17.000000       0.2164       0.1968          0          1   \n",
       "3092  527.375000   8.000000       0.1928       0.1970          0          0   \n",
       "3772   22.271739  92.000000       0.1970       0.1970          0          0   \n",
       "860    48.494118  42.500000       0.1968       0.2078          0          0   \n",
       "\n",
       "      Location3  Location4  Location5  \n",
       "4227          0          1          0  \n",
       "4676          0          0          0  \n",
       "800           0          1          0  \n",
       "3671          0          1          0  \n",
       "4193          0          0          0  \n",
       "...         ...        ...        ...  \n",
       "4426          0          0          1  \n",
       "466           0          0          0  \n",
       "3092          1          0          0  \n",
       "3772          0          1          0  \n",
       "860           0          0          1  \n",
       "\n",
       "[4000 rows x 16 columns]"
      ]
     },
     "execution_count": 69,
     "metadata": {},
     "output_type": "execute_result"
    }
   ],
   "source": [
    "X_train"
   ]
  },
  {
   "cell_type": "code",
   "execution_count": 70,
   "id": "ca6e3cb8",
   "metadata": {},
   "outputs": [
    {
     "data": {
      "text/plain": [
       "(1000, 16)"
      ]
     },
     "execution_count": 70,
     "metadata": {},
     "output_type": "execute_result"
    }
   ],
   "source": [
    "X_test.shape"
   ]
  },
  {
   "cell_type": "code",
   "execution_count": 71,
   "id": "e3cf72e0",
   "metadata": {},
   "outputs": [
    {
     "data": {
      "text/plain": [
       "(4000, 16)"
      ]
     },
     "execution_count": 71,
     "metadata": {},
     "output_type": "execute_result"
    }
   ],
   "source": [
    "X_train.shape"
   ]
  },
  {
   "cell_type": "code",
   "execution_count": 72,
   "id": "df68ddaf",
   "metadata": {
    "scrolled": true
   },
   "outputs": [],
   "source": [
    "# y_train"
   ]
  },
  {
   "cell_type": "code",
   "execution_count": null,
   "id": "9e2655e7",
   "metadata": {},
   "outputs": [],
   "source": []
  },
  {
   "cell_type": "markdown",
   "id": "d69cd34f",
   "metadata": {},
   "source": [
    "### Linear Regression"
   ]
  },
  {
   "cell_type": "code",
   "execution_count": 73,
   "id": "c3dd52a2",
   "metadata": {},
   "outputs": [],
   "source": [
    "linear_model = LinearRegression()"
   ]
  },
  {
   "cell_type": "code",
   "execution_count": 74,
   "id": "68ac9cc3",
   "metadata": {},
   "outputs": [
    {
     "data": {
      "text/plain": [
       "LinearRegression()"
      ]
     },
     "execution_count": 74,
     "metadata": {},
     "output_type": "execute_result"
    }
   ],
   "source": [
    "#this is where the whole train happens\n",
    "linear_model.fit(X_train, y_train)"
   ]
  },
  {
   "cell_type": "code",
   "execution_count": 75,
   "id": "5d60478e",
   "metadata": {},
   "outputs": [],
   "source": [
    "#we now a model that can predict prices\n",
    "prediction = linear_model.predict(X_test)\n",
    "# prediction"
   ]
  },
  {
   "cell_type": "code",
   "execution_count": 76,
   "id": "437e0b4f",
   "metadata": {
    "scrolled": true
   },
   "outputs": [],
   "source": [
    "# y_test"
   ]
  },
  {
   "cell_type": "code",
   "execution_count": 77,
   "id": "256c31e6",
   "metadata": {},
   "outputs": [],
   "source": [
    "#we need to evaluate our model\n",
    "from sklearn.metrics import mean_absolute_error"
   ]
  },
  {
   "cell_type": "code",
   "execution_count": 78,
   "id": "cf2d197f",
   "metadata": {},
   "outputs": [
    {
     "data": {
      "text/plain": [
       "43170.77961657532"
      ]
     },
     "execution_count": 78,
     "metadata": {},
     "output_type": "execute_result"
    }
   ],
   "source": [
    "#we use mae as the evaluation metrics\n",
    "mean_absolute_error(y_test, prediction)\n",
    "\n",
    "#what this error means is that our model is + or - 70166 correct"
   ]
  },
  {
   "cell_type": "code",
   "execution_count": 79,
   "id": "b6abb326",
   "metadata": {},
   "outputs": [],
   "source": [
    "# #how to quickly use the model\n",
    "# test1 = pd.DataFrame(data = {'area':[3401], 'bedrooms':[4], 'bathrooms':[2], 'age':[50], 'garage':[0],\n",
    "#        'rooms':[6],'average_room_area':[850.25],'location_new':[5]})"
   ]
  },
  {
   "cell_type": "code",
   "execution_count": 80,
   "id": "95503dcc",
   "metadata": {},
   "outputs": [],
   "source": [
    "# test1"
   ]
  },
  {
   "cell_type": "code",
   "execution_count": 81,
   "id": "7bdf5371",
   "metadata": {},
   "outputs": [],
   "source": [
    "# linear_model.predict(test1)"
   ]
  },
  {
   "cell_type": "code",
   "execution_count": 82,
   "id": "a6a21a2c",
   "metadata": {},
   "outputs": [
    {
     "data": {
      "text/plain": [
       "array([ 1.79074839e+02,  4.98589662e+02,  4.92742643e+03, -1.15714168e+02,\n",
       "        1.03644952e+04,  5.42601609e+03,  1.61952058e+00,  4.39531324e+00,\n",
       "       -1.57538211e+01, -9.08604970e+02,  3.40984320e+05, -9.12243081e+04,\n",
       "       -4.63199125e+04, -2.08146436e+03,  4.59215942e+04,  9.37040907e+04])"
      ]
     },
     "execution_count": 82,
     "metadata": {},
     "output_type": "execute_result"
    }
   ],
   "source": [
    "linear_model.coef_"
   ]
  },
  {
   "cell_type": "code",
   "execution_count": null,
   "id": "ae5ddbcb",
   "metadata": {},
   "outputs": [],
   "source": []
  },
  {
   "cell_type": "markdown",
   "id": "ec74f2df",
   "metadata": {},
   "source": [
    "### Decision Tree"
   ]
  },
  {
   "cell_type": "code",
   "execution_count": 83,
   "id": "222a89b8",
   "metadata": {},
   "outputs": [],
   "source": [
    "# max_depth = [1,3, 6, 7, 8]\n",
    "# random_state = [42, 2024]\n",
    "# # min_split_leaf = [2,4,1]"
   ]
  },
  {
   "cell_type": "code",
   "execution_count": 84,
   "id": "20e1cb6f",
   "metadata": {},
   "outputs": [
    {
     "data": {
      "text/plain": [
       "DecisionTreeRegressor(max_depth=7, random_state=42)"
      ]
     },
     "execution_count": 84,
     "metadata": {},
     "output_type": "execute_result"
    }
   ],
   "source": [
    "decision_model = DecisionTreeRegressor(max_depth=7, random_state=42) #hyperparameter tuning to change values and see if the model perform better\n",
    "decision_model.fit(X_train, y_train)"
   ]
  },
  {
   "cell_type": "code",
   "execution_count": 85,
   "id": "b81a260c",
   "metadata": {},
   "outputs": [],
   "source": [
    "prediction2 = decision_model.predict(X_test)\n",
    "# prediction2"
   ]
  },
  {
   "cell_type": "code",
   "execution_count": 86,
   "id": "d0a1809c",
   "metadata": {},
   "outputs": [],
   "source": [
    "# y_test"
   ]
  },
  {
   "cell_type": "code",
   "execution_count": 87,
   "id": "acf4b8c5",
   "metadata": {},
   "outputs": [
    {
     "data": {
      "text/plain": [
       "43259.13345690516"
      ]
     },
     "execution_count": 87,
     "metadata": {},
     "output_type": "execute_result"
    }
   ],
   "source": [
    "mean_absolute_error(y_test, prediction2)"
   ]
  },
  {
   "cell_type": "code",
   "execution_count": 88,
   "id": "537e6816",
   "metadata": {},
   "outputs": [],
   "source": [
    "#what this error means is that our model is + or - 57471 correct"
   ]
  },
  {
   "cell_type": "code",
   "execution_count": 89,
   "id": "ea342d7f",
   "metadata": {},
   "outputs": [],
   "source": [
    "# Decision Tree is performing better than Linear Regression"
   ]
  },
  {
   "cell_type": "markdown",
   "id": "04558c09",
   "metadata": {},
   "source": [
    "### Random Forest"
   ]
  },
  {
   "cell_type": "code",
   "execution_count": 90,
   "id": "b5643046",
   "metadata": {},
   "outputs": [],
   "source": [
    "from sklearn.ensemble import RandomForestRegressor"
   ]
  },
  {
   "cell_type": "code",
   "execution_count": 91,
   "id": "d7cff45d",
   "metadata": {},
   "outputs": [
    {
     "data": {
      "text/plain": [
       "41060.664360832954"
      ]
     },
     "execution_count": 91,
     "metadata": {},
     "output_type": "execute_result"
    }
   ],
   "source": [
    "random_f = RandomForestRegressor(n_estimators=1000, max_depth=8, random_state=42) #hyperparameter tuning to change values and see if the model perform better\n",
    "random_f.fit(X_train, y_train)\n",
    "\n",
    "prediction3 = random_f.predict(X_test)\n",
    "# prediction2\n",
    "\n",
    "mean_absolute_error(y_test, prediction3)\n",
    "\n",
    "#41060"
   ]
  },
  {
   "cell_type": "markdown",
   "id": "369bbd82",
   "metadata": {},
   "source": [
    "### Catboost"
   ]
  },
  {
   "cell_type": "code",
   "execution_count": 92,
   "id": "b9357c49",
   "metadata": {},
   "outputs": [],
   "source": [
    "from catboost import CatBoostRegressor"
   ]
  },
  {
   "cell_type": "code",
   "execution_count": 93,
   "id": "6ca7e9bf",
   "metadata": {},
   "outputs": [
    {
     "data": {
      "text/plain": [
       "39725.63807344179"
      ]
     },
     "execution_count": 93,
     "metadata": {},
     "output_type": "execute_result"
    }
   ],
   "source": [
    "catboost = CatBoostRegressor(learning_rate=0.01,iterations=1500, random_state=42, verbose=0) #hyperparameter tuning to change values and see if the model perform better\n",
    "catboost.fit(X_train, y_train)\n",
    "\n",
    "prediction4 = catboost.predict(X_test)\n",
    "# prediction2\n",
    "\n",
    "mean_absolute_error(y_test, prediction4)"
   ]
  },
  {
   "cell_type": "markdown",
   "id": "c34db809",
   "metadata": {},
   "source": [
    "### LGBM"
   ]
  },
  {
   "cell_type": "code",
   "execution_count": 94,
   "id": "59354ba8",
   "metadata": {},
   "outputs": [],
   "source": [
    "from lightgbm import LGBMRegressor"
   ]
  },
  {
   "cell_type": "code",
   "execution_count": 95,
   "id": "7784b12f",
   "metadata": {},
   "outputs": [
    {
     "data": {
      "text/plain": [
       "39708.07311530469"
      ]
     },
     "execution_count": 95,
     "metadata": {},
     "output_type": "execute_result"
    }
   ],
   "source": [
    "lightgbm = LGBMRegressor(max_depth=3,n_estimators=1000,learning_rate=0.01, random_state=90) #hyperparameter tuning to change values and see if the model perform better\n",
    "lightgbm.fit(X_train, y_train)\n",
    "\n",
    "prediction5 = lightgbm.predict(X_test)\n",
    "# prediction2\n",
    "\n",
    "mean_absolute_error(y_test, prediction5)"
   ]
  },
  {
   "cell_type": "markdown",
   "id": "b9c04447",
   "metadata": {},
   "source": [
    "### XGBOOST"
   ]
  },
  {
   "cell_type": "code",
   "execution_count": 96,
   "id": "ef1b99c3",
   "metadata": {},
   "outputs": [],
   "source": [
    "from xgboost import XGBRFRegressor"
   ]
  },
  {
   "cell_type": "code",
   "execution_count": 97,
   "id": "39237970",
   "metadata": {},
   "outputs": [
    {
     "data": {
      "text/plain": [
       "42594.96384495873"
      ]
     },
     "execution_count": 97,
     "metadata": {},
     "output_type": "execute_result"
    }
   ],
   "source": [
    "xgb = XGBRFRegressor(random_state=42) #hyperparameter tuning to change values and see if the model perform better\n",
    "xgb.fit(X_train, y_train)\n",
    "\n",
    "prediction6 = xgb.predict(X_test)\n",
    "# prediction2\n",
    "\n",
    "mean_absolute_error(y_test, prediction6)"
   ]
  },
  {
   "cell_type": "markdown",
   "id": "b4eb02cf",
   "metadata": {},
   "source": [
    "### SVM"
   ]
  },
  {
   "cell_type": "code",
   "execution_count": 98,
   "id": "05f6c159",
   "metadata": {},
   "outputs": [],
   "source": [
    "from sklearn.svm import SVR"
   ]
  },
  {
   "cell_type": "code",
   "execution_count": 99,
   "id": "c18b34ed",
   "metadata": {},
   "outputs": [
    {
     "data": {
      "text/plain": [
       "69806.12564348271"
      ]
     },
     "execution_count": 99,
     "metadata": {},
     "output_type": "execute_result"
    }
   ],
   "source": [
    "svr_model = SVR(kernel='linear') #hyperparameter tuning to change values and see if the model perform better\n",
    "svr_model.fit(X_train, y_train)\n",
    "\n",
    "prediction7 = svr_model.predict(X_test)\n",
    "# prediction2\n",
    "\n",
    "mean_absolute_error(y_test, prediction7)"
   ]
  },
  {
   "cell_type": "code",
   "execution_count": 108,
   "id": "48ce36c8",
   "metadata": {},
   "outputs": [
    {
     "data": {
      "text/plain": [
       "42695.756737929034"
      ]
     },
     "execution_count": 108,
     "metadata": {},
     "output_type": "execute_result"
    }
   ],
   "source": [
    "from sklearn.preprocessing import StandardScaler\n",
    "from sklearn.preprocessing import PolynomialFeatures\n",
    "from sklearn.linear_model import LinearRegression\n",
    "from sklearn.pipeline import make_pipeline\n",
    "\n",
    "# Create a Polynomial regression model\n",
    "degree = 3  # You can adjust the degree of the polynomial\n",
    "poly_model = make_pipeline(PolynomialFeatures(degree), RandomForestRegressor(random_state=42, verbose=0))\n",
    "\n",
    "# Train the model\n",
    "poly_model.fit(X_train, y_train)\n",
    "\n",
    "# Make predictions\n",
    "prediction8 = poly_model.predict(X_test)\n",
    "\n",
    "# Evaluate the model\n",
    "mae = mean_absolute_error(y_test, prediction8)\n",
    "mae"
   ]
  },
  {
   "cell_type": "markdown",
   "id": "2b5d4327",
   "metadata": {},
   "source": [
    "### Ensemble"
   ]
  },
  {
   "cell_type": "code",
   "execution_count": null,
   "id": "81911929",
   "metadata": {},
   "outputs": [],
   "source": []
  },
  {
   "cell_type": "code",
   "execution_count": 115,
   "id": "6cce4375",
   "metadata": {},
   "outputs": [],
   "source": [
    "ensemble = (prediction + prediction2 + prediction3 + prediction4 + prediction5 + prediction6) / 6"
   ]
  },
  {
   "cell_type": "code",
   "execution_count": 116,
   "id": "bee2070f",
   "metadata": {},
   "outputs": [
    {
     "data": {
      "text/plain": [
       "39681.3480384472"
      ]
     },
     "execution_count": 116,
     "metadata": {},
     "output_type": "execute_result"
    }
   ],
   "source": [
    "mean_absolute_error(y_test, ensemble)"
   ]
  },
  {
   "cell_type": "code",
   "execution_count": 101,
   "id": "26e6ade8",
   "metadata": {},
   "outputs": [],
   "source": [
    "ensemble2 = (.5*prediction4 + .5*prediction5)"
   ]
  },
  {
   "cell_type": "code",
   "execution_count": 102,
   "id": "1d2f8e69",
   "metadata": {},
   "outputs": [
    {
     "data": {
      "text/plain": [
       "39575.088792508766"
      ]
     },
     "execution_count": 102,
     "metadata": {},
     "output_type": "execute_result"
    }
   ],
   "source": [
    "mean_absolute_error(y_test, ensemble2)\n",
    "\n",
    "#39580"
   ]
  },
  {
   "cell_type": "markdown",
   "id": "325b6588",
   "metadata": {},
   "source": [
    "**Tuning:** Adjust parameters to improve the model.\n",
    "\n",
    "**Deployment:** Deploy the model for real-world use."
   ]
  },
  {
   "cell_type": "code",
   "execution_count": null,
   "id": "36ff085d",
   "metadata": {},
   "outputs": [],
   "source": [
    "# Gridsearch\n",
    "# Randomsearch"
   ]
  },
  {
   "cell_type": "code",
   "execution_count": null,
   "id": "85ae170f",
   "metadata": {},
   "outputs": [],
   "source": [
    "Try to improve the model performance to about 10 or 20k error"
   ]
  }
 ],
 "metadata": {
  "kernelspec": {
   "display_name": "Python 3 (ipykernel)",
   "language": "python",
   "name": "python3"
  },
  "language_info": {
   "codemirror_mode": {
    "name": "ipython",
    "version": 3
   },
   "file_extension": ".py",
   "mimetype": "text/x-python",
   "name": "python",
   "nbconvert_exporter": "python",
   "pygments_lexer": "ipython3",
   "version": "3.9.12"
  }
 },
 "nbformat": 4,
 "nbformat_minor": 5
}
