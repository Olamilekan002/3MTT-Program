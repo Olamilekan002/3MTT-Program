{
 "cells": [
  {
   "cell_type": "code",
   "execution_count": 2,
   "id": "b14a4b1d",
   "metadata": {},
   "outputs": [],
   "source": [
    "#importing necessary libaries\n",
    "import numpy as np\n",
    "import pandas as pd\n",
    "import seaborn as sns\n",
    "import matplotlib.pyplot as plt\n",
    "import joblib"
   ]
  },
  {
   "cell_type": "code",
   "execution_count": 25,
   "id": "72f002cd",
   "metadata": {},
   "outputs": [],
   "source": [
    "from sklearn.pipeline import Pipeline"
   ]
  },
  {
   "cell_type": "code",
   "execution_count": 5,
   "id": "f58a84d7",
   "metadata": {},
   "outputs": [],
   "source": [
    "# this is a python function\n",
    "def load_data(area, bedrooms, bathrooms, location, age, garage):\n",
    "    \n",
    "    df = pd.DataFrame([{'area':area, 'bedrooms':bedrooms, 'bathrooms':bathrooms,\n",
    "                      'location':location, 'age':age, 'garage':garage}])\n",
    "    \n",
    "    return df"
   ]
  },
  {
   "cell_type": "code",
   "execution_count": 8,
   "id": "8840fa2a",
   "metadata": {},
   "outputs": [],
   "source": [
    "# load_data(3214, 2, 1, 'Location2', 32,1)"
   ]
  },
  {
   "cell_type": "code",
   "execution_count": null,
   "id": "0e753817",
   "metadata": {},
   "outputs": [],
   "source": []
  },
  {
   "cell_type": "code",
   "execution_count": null,
   "id": "bc014f75",
   "metadata": {},
   "outputs": [],
   "source": []
  },
  {
   "cell_type": "code",
   "execution_count": null,
   "id": "ff350762",
   "metadata": {},
   "outputs": [],
   "source": []
  },
  {
   "cell_type": "code",
   "execution_count": null,
   "id": "cc6cfd4d",
   "metadata": {},
   "outputs": [],
   "source": []
  },
  {
   "cell_type": "code",
   "execution_count": null,
   "id": "35eee8f9",
   "metadata": {},
   "outputs": [],
   "source": []
  },
  {
   "cell_type": "code",
   "execution_count": null,
   "id": "e5b0f239",
   "metadata": {},
   "outputs": [],
   "source": []
  },
  {
   "cell_type": "code",
   "execution_count": null,
   "id": "432f4bba",
   "metadata": {},
   "outputs": [],
   "source": []
  },
  {
   "cell_type": "code",
   "execution_count": null,
   "id": "a1774779",
   "metadata": {},
   "outputs": [],
   "source": []
  },
  {
   "cell_type": "code",
   "execution_count": null,
   "id": "26056e96",
   "metadata": {},
   "outputs": [],
   "source": []
  },
  {
   "cell_type": "code",
   "execution_count": null,
   "id": "66c14963",
   "metadata": {},
   "outputs": [],
   "source": []
  },
  {
   "cell_type": "code",
   "execution_count": 17,
   "id": "7a0c0983",
   "metadata": {},
   "outputs": [],
   "source": [
    "def load_data(area, bedrooms, bathrooms, location, age, garage):\n",
    "    '''\n",
    "    \n",
    "    '''\n",
    "    data = pd.DataFrame([{'area':area, 'bedrooms':bedrooms,\n",
    "                       'bathrooms':bathrooms, 'location':location,\n",
    "                       'age':age, 'garage':garage}])\n",
    "    \n",
    "    return data"
   ]
  },
  {
   "cell_type": "code",
   "execution_count": 9,
   "id": "57b91b85",
   "metadata": {},
   "outputs": [],
   "source": [
    "user_data  = load_data(3235, 2, 1, 'Location1', 12, 1)"
   ]
  },
  {
   "cell_type": "code",
   "execution_count": 13,
   "id": "b6718944",
   "metadata": {},
   "outputs": [],
   "source": [
    "location = ['Location3', 'Location2', 'Location5', 'Location4', 'Location1']\n",
    "zero_df = pd.DataFrame([0] * 5, index=location).T"
   ]
  },
  {
   "cell_type": "code",
   "execution_count": 15,
   "id": "2cc64491",
   "metadata": {},
   "outputs": [],
   "source": [
    "zero_df['Location1'] = 1"
   ]
  },
  {
   "cell_type": "code",
   "execution_count": 16,
   "id": "5e19e778",
   "metadata": {},
   "outputs": [
    {
     "data": {
      "text/html": [
       "<div>\n",
       "<style scoped>\n",
       "    .dataframe tbody tr th:only-of-type {\n",
       "        vertical-align: middle;\n",
       "    }\n",
       "\n",
       "    .dataframe tbody tr th {\n",
       "        vertical-align: top;\n",
       "    }\n",
       "\n",
       "    .dataframe thead th {\n",
       "        text-align: right;\n",
       "    }\n",
       "</style>\n",
       "<table border=\"1\" class=\"dataframe\">\n",
       "  <thead>\n",
       "    <tr style=\"text-align: right;\">\n",
       "      <th></th>\n",
       "      <th>Location3</th>\n",
       "      <th>Location2</th>\n",
       "      <th>Location5</th>\n",
       "      <th>Location4</th>\n",
       "      <th>Location1</th>\n",
       "    </tr>\n",
       "  </thead>\n",
       "  <tbody>\n",
       "    <tr>\n",
       "      <th>0</th>\n",
       "      <td>0</td>\n",
       "      <td>0</td>\n",
       "      <td>0</td>\n",
       "      <td>0</td>\n",
       "      <td>1</td>\n",
       "    </tr>\n",
       "  </tbody>\n",
       "</table>\n",
       "</div>"
      ],
      "text/plain": [
       "   Location3  Location2  Location5  Location4  Location1\n",
       "0          0          0          0          0          1"
      ]
     },
     "execution_count": 16,
     "metadata": {},
     "output_type": "execute_result"
    }
   ],
   "source": [
    "zero_df"
   ]
  },
  {
   "cell_type": "code",
   "execution_count": 11,
   "id": "5d0f3668",
   "metadata": {},
   "outputs": [
    {
     "data": {
      "text/html": [
       "<div>\n",
       "<style scoped>\n",
       "    .dataframe tbody tr th:only-of-type {\n",
       "        vertical-align: middle;\n",
       "    }\n",
       "\n",
       "    .dataframe tbody tr th {\n",
       "        vertical-align: top;\n",
       "    }\n",
       "\n",
       "    .dataframe thead th {\n",
       "        text-align: right;\n",
       "    }\n",
       "</style>\n",
       "<table border=\"1\" class=\"dataframe\">\n",
       "  <thead>\n",
       "    <tr style=\"text-align: right;\">\n",
       "      <th></th>\n",
       "      <th>Location1</th>\n",
       "    </tr>\n",
       "  </thead>\n",
       "  <tbody>\n",
       "    <tr>\n",
       "      <th>0</th>\n",
       "      <td>1</td>\n",
       "    </tr>\n",
       "  </tbody>\n",
       "</table>\n",
       "</div>"
      ],
      "text/plain": [
       "   Location1\n",
       "0          1"
      ]
     },
     "execution_count": 11,
     "metadata": {},
     "output_type": "execute_result"
    }
   ],
   "source": [
    "pd.get_dummies(user_data.location)"
   ]
  },
  {
   "cell_type": "code",
   "execution_count": 18,
   "id": "0e92779f",
   "metadata": {},
   "outputs": [],
   "source": [
    "def fill_missing(df):\n",
    "    '''\n",
    "    \n",
    "    '''\n",
    "    \n",
    "    most_location = 'Location2'\n",
    "    age_mean = 60\n",
    "    \n",
    "    df.location = df.location.fillna(most_location)\n",
    "    df.age = df.age.fillna(age_mean)\n",
    "    \n",
    "    return df"
   ]
  },
  {
   "cell_type": "code",
   "execution_count": 19,
   "id": "f3300f5f",
   "metadata": {},
   "outputs": [],
   "source": [
    "def feature_engineering(df):\n",
    "    \n",
    "    '''\n",
    "    '''\n",
    "    # adding the rooms\n",
    "    df['rooms'] = df['bedrooms'] + df['bathrooms']\n",
    "    \n",
    "    #average room per area\n",
    "    df['average_room_area'] = df['area'] / df['bedrooms']\n",
    "    \n",
    "    df['area_age'] = df['area'] / df['age']\n",
    "    df['age_bed'] = df['age'] / df['bedrooms']\n",
    "    \n",
    "    #just storing the dummies to a variable\n",
    "    location = ['Location3', 'Location2', 'Location5', 'Location4', 'Location1']\n",
    "    zero_df = pd.DataFrame([0] * 5, index=location).T\n",
    "    \n",
    "    #making selected location to 1 in dummy\n",
    "    selected_location = df['location'][0]\n",
    "    zero_df[selected_location] = 1\n",
    "    \n",
    "    new_df = pd.concat([df, zero_df], axis=1)\n",
    "    \n",
    "    \n",
    "    # we have to choose just one type of the encoding\n",
    "    # so we have to drop some columns\n",
    "    to_drop = ['location']\n",
    "\n",
    "    new_df = new_df.drop(to_drop, axis=1)\n",
    "    \n",
    "    return new_df"
   ]
  },
  {
   "cell_type": "code",
   "execution_count": 20,
   "id": "8a4d9864",
   "metadata": {},
   "outputs": [],
   "source": [
    "def preprocessing(df):\n",
    "    \n",
    "    df_fill = fill_missing(df)\n",
    "    df_feat = feature_engineering(df_fill)\n",
    "    \n",
    "    return df_feat"
   ]
  },
  {
   "cell_type": "code",
   "execution_count": 21,
   "id": "5c2d7e12",
   "metadata": {},
   "outputs": [],
   "source": [
    "def load_model():\n",
    "    \n",
    "    model = joblib.load('model.joblib')\n",
    "    \n",
    "    return model"
   ]
  },
  {
   "cell_type": "code",
   "execution_count": 22,
   "id": "df297bfa",
   "metadata": {},
   "outputs": [],
   "source": [
    "def predict(area, bedrooms, bathrooms, location, age, garage):\n",
    "    \n",
    "    model = load_model()\n",
    "    df = load_data(area, bedrooms, bathrooms, location, age, garage)\n",
    "    X = preprocessing(df)\n",
    "    \n",
    "    \n",
    "    price = round(model.predict(X)[0])\n",
    "    \n",
    "    return price"
   ]
  },
  {
   "cell_type": "code",
   "execution_count": 13,
   "id": "3daf13af",
   "metadata": {},
   "outputs": [],
   "source": [
    "# joblib.dump(lightgbm, 'model.joblib')"
   ]
  },
  {
   "cell_type": "code",
   "execution_count": 23,
   "id": "40015cae",
   "metadata": {},
   "outputs": [
    {
     "data": {
      "text/plain": [
       "801139"
      ]
     },
     "execution_count": 23,
     "metadata": {},
     "output_type": "execute_result"
    }
   ],
   "source": [
    "predict(3222, 2, 4, 'Location1', 23, 0)"
   ]
  },
  {
   "cell_type": "code",
   "execution_count": 24,
   "id": "1100502b",
   "metadata": {},
   "outputs": [
    {
     "data": {
      "text/plain": [
       "398134"
      ]
     },
     "execution_count": 24,
     "metadata": {},
     "output_type": "execute_result"
    }
   ],
   "source": [
    "predict(2000, 2, 1, 'Location2', 12, 0)"
   ]
  },
  {
   "cell_type": "code",
   "execution_count": null,
   "id": "6b807d85",
   "metadata": {},
   "outputs": [],
   "source": [
    "area = \"\"\n",
    "bedrooms = \"\"\n",
    "bathrooms = \"\"\n",
    "location = \"\"\n",
    "age = \"\"\n",
    "garage = \"\""
   ]
  },
  {
   "cell_type": "code",
   "execution_count": 2,
   "id": "d9000715",
   "metadata": {},
   "outputs": [
    {
     "name": "stdout",
     "output_type": "stream",
     "text": [
      " * Serving Flask app \"__main__\" (lazy loading)\n",
      " * Environment: production\n",
      "\u001b[31m   WARNING: This is a development server. Do not use it in a production deployment.\u001b[0m\n",
      "\u001b[2m   Use a production WSGI server instead.\u001b[0m\n",
      " * Debug mode: on\n"
     ]
    },
    {
     "name": "stderr",
     "output_type": "stream",
     "text": [
      " * Running on http://127.0.0.1:5000/ (Press CTRL+C to quit)\n",
      "127.0.0.1 - - [02/Apr/2024 20:35:30] \"GET / HTTP/1.1\" 500 -\n",
      "Traceback (most recent call last):\n",
      "  File \"C:\\Users\\TiOluwani\\anaconda3\\Lib\\site-packages\\flask\\app.py\", line 2464, in __call__\n",
      "    return self.wsgi_app(environ, start_response)\n",
      "  File \"C:\\Users\\TiOluwani\\anaconda3\\Lib\\site-packages\\flask\\app.py\", line 2450, in wsgi_app\n",
      "    response = self.handle_exception(e)\n",
      "  File \"C:\\Users\\TiOluwani\\anaconda3\\Lib\\site-packages\\flask\\app.py\", line 1867, in handle_exception\n",
      "    reraise(exc_type, exc_value, tb)\n",
      "  File \"C:\\Users\\TiOluwani\\anaconda3\\Lib\\site-packages\\flask\\_compat.py\", line 39, in reraise\n",
      "    raise value\n",
      "  File \"C:\\Users\\TiOluwani\\anaconda3\\Lib\\site-packages\\flask\\app.py\", line 2447, in wsgi_app\n",
      "    response = self.full_dispatch_request()\n",
      "  File \"C:\\Users\\TiOluwani\\anaconda3\\Lib\\site-packages\\flask\\app.py\", line 1952, in full_dispatch_request\n",
      "    rv = self.handle_user_exception(e)\n",
      "  File \"C:\\Users\\TiOluwani\\anaconda3\\Lib\\site-packages\\flask\\app.py\", line 1821, in handle_user_exception\n",
      "    reraise(exc_type, exc_value, tb)\n",
      "  File \"C:\\Users\\TiOluwani\\anaconda3\\Lib\\site-packages\\flask\\_compat.py\", line 39, in reraise\n",
      "    raise value\n",
      "  File \"C:\\Users\\TiOluwani\\anaconda3\\Lib\\site-packages\\flask\\app.py\", line 1950, in full_dispatch_request\n",
      "    rv = self.dispatch_request()\n",
      "  File \"C:\\Users\\TiOluwani\\anaconda3\\Lib\\site-packages\\flask\\app.py\", line 1936, in dispatch_request\n",
      "    return self.view_functions[rule.endpoint](**req.view_args)\n",
      "  File \"C:\\Users\\TiOluwani\\AppData\\Local\\Temp\\ipykernel_3844\\1862376722.py\", line 27, in Home\n",
      "    \n",
      "  File \"C:\\Users\\TiOluwani\\anaconda3\\Lib\\site-packages\\flask\\templating.py\", line 138, in render_template\n",
      "    ctx.app.jinja_env.get_or_select_template(template_name_or_list),\n",
      "  File \"C:\\Users\\TiOluwani\\anaconda3\\Lib\\site-packages\\jinja2\\environment.py\", line 930, in get_or_select_template\n",
      "    return self.get_template(template_name_or_list, parent, globals)\n",
      "  File \"C:\\Users\\TiOluwani\\anaconda3\\Lib\\site-packages\\jinja2\\environment.py\", line 883, in get_template\n",
      "    return self._load_template(name, self.make_globals(globals))\n",
      "  File \"C:\\Users\\TiOluwani\\anaconda3\\Lib\\site-packages\\jinja2\\environment.py\", line 857, in _load_template\n",
      "    template = self.loader.load(self, name, globals)\n",
      "  File \"C:\\Users\\TiOluwani\\anaconda3\\Lib\\site-packages\\jinja2\\loaders.py\", line 115, in load\n",
      "    source, filename, uptodate = self.get_source(environment, name)\n",
      "  File \"C:\\Users\\TiOluwani\\anaconda3\\Lib\\site-packages\\flask\\templating.py\", line 60, in get_source\n",
      "    return self._get_source_fast(environment, template)\n",
      "  File \"C:\\Users\\TiOluwani\\anaconda3\\Lib\\site-packages\\flask\\templating.py\", line 89, in _get_source_fast\n",
      "    raise TemplateNotFound(template)\n",
      "jinja2.exceptions.TemplateNotFound: index.html\n",
      "127.0.0.1 - - [02/Apr/2024 20:35:31] \"GET /?__debugger__=yes&cmd=resource&f=style.css HTTP/1.1\" 200 -\n",
      "127.0.0.1 - - [02/Apr/2024 20:35:31] \"GET /?__debugger__=yes&cmd=resource&f=debugger.js HTTP/1.1\" 200 -\n",
      "127.0.0.1 - - [02/Apr/2024 20:35:31] \"GET /?__debugger__=yes&cmd=resource&f=console.png HTTP/1.1\" 200 -\n",
      "127.0.0.1 - - [02/Apr/2024 20:35:31] \"GET /?__debugger__=yes&cmd=resource&f=ubuntu.ttf HTTP/1.1\" 200 -\n"
     ]
    }
   ],
   "source": [
    "from flask import Flask, request,  render_template\n",
    "import model\n",
    "\n",
    "app = Flask(__name__)\n",
    "\n",
    "@app.route(\"/\", methods =[\"POST\",\"GET\"])\n",
    "def Home():\n",
    "    area = \"\"\n",
    "    bedrooms = \"\"\n",
    "    bathrooms = \"\"\n",
    "    location = \"\"\n",
    "    age = \"\"\n",
    "    garage = \"\"\n",
    "    price = \"\"\n",
    "    \n",
    "    if request.method == \"POST\":\n",
    "        area = request.form[\"area\"]\n",
    "        bedrooms = request.form[\"bedrooms\"]\n",
    "        bathrooms = request.form[\"bathrooms\"]\n",
    "        location = request.form[\"location\"]\n",
    "        age = request.form[\"age\"]\n",
    "        garage = request.form[\"garage\"]\n",
    "        \n",
    "        price = model.predict(area, bedrooms, bathrooms,\n",
    "                             location, age, garage)\n",
    "        \n",
    "    return render_template(\"index.html\",outcome = price, \n",
    "                            area_input =area, \n",
    "                            bedrooms_input = bedrooms,\n",
    "                            bathrooms_input = bathrooms,\n",
    "                            location_input = location,\n",
    "                            age_input = age,\n",
    "                            garage_input = garage\n",
    "                    )\n",
    "        \n",
    "\n",
    "if __name__ == \"__main__\":\n",
    "    app.run(debug = True,use_reloader=False)\n"
   ]
  },
  {
   "cell_type": "code",
   "execution_count": null,
   "id": "24d81200",
   "metadata": {},
   "outputs": [],
   "source": []
  }
 ],
 "metadata": {
  "kernelspec": {
   "display_name": "Python 3 (ipykernel)",
   "language": "python",
   "name": "python3"
  },
  "language_info": {
   "codemirror_mode": {
    "name": "ipython",
    "version": 3
   },
   "file_extension": ".py",
   "mimetype": "text/x-python",
   "name": "python",
   "nbconvert_exporter": "python",
   "pygments_lexer": "ipython3",
   "version": "3.9.12"
  }
 },
 "nbformat": 4,
 "nbformat_minor": 5
}
