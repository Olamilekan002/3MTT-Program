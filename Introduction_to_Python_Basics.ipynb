{
 "cells": [
  {
   "cell_type": "markdown",
   "id": "739364f1",
   "metadata": {},
   "source": [
    "\n",
    "# Introduction to Python\n",
    "\n",
    "Python is a high-level, interpreted programming language known for its ease of learning and efficiency. This section will cover a brief overview of Python and the basics of setting up your Python environment.\n",
    "\n",
    "Python's simple syntax and dynamic typing make it an ideal language for scripting and rapid application development. Python supports modules and packages, encouraging program modularity and code reuse."
   ]
  },
  {
   "cell_type": "markdown",
   "id": "ccc3742a",
   "metadata": {},
   "source": [
    "### Setting Up Python Environment with Anaconda\n",
    "To start working with Python, you need to have Python installed on your computer.\n",
    "\n",
    "1. **Download and Install Anaconda:** Download from the [Anaconda website](https://www.anaconda.com/products/individual) and install it. Ensure to add Anaconda to your PATH environment variable or set it as your default Python.\n",
    "\n",
    "2. **Verify Installation:** Open your command line and type `conda list` to see a list of installed packages.\n",
    "\n",
    "3. **Launch Jupyter Notebook:** Type `jupyter notebook` in your command line or launch from your `Windows Start up`\n",
    "\n",
    "\n",
    "This setup is ideal for managing Python packages and environments, particularly for data science projects."
   ]
  },
  {
   "cell_type": "markdown",
   "id": "1d644398",
   "metadata": {},
   "source": [
    "#### Shortcut \n",
    "A - for new cell above\n",
    "\n",
    "B - for new cell below\n",
    "\n",
    "X - cut a cell\n",
    "\n",
    "Z - undo\n",
    "\n",
    "Shift + Enter"
   ]
  },
  {
   "cell_type": "code",
   "execution_count": null,
   "id": "0d564b14",
   "metadata": {},
   "outputs": [],
   "source": []
  },
  {
   "cell_type": "code",
   "execution_count": null,
   "id": "2ca46ad3",
   "metadata": {},
   "outputs": [],
   "source": []
  },
  {
   "cell_type": "code",
   "execution_count": null,
   "id": "daa52d6e",
   "metadata": {},
   "outputs": [],
   "source": []
  },
  {
   "cell_type": "markdown",
   "id": "ad2ff458",
   "metadata": {},
   "source": [
    "# Python Basics\n",
    "\n",
    "In Python, you don't need to declare the type of variable explicitly. The variable type is determined based on the value assigned to it."
   ]
  },
  {
   "cell_type": "markdown",
   "id": "fb1ad44e",
   "metadata": {},
   "source": [
    "### Variables\n",
    "```python\n",
    "# Example of variable assignment\n",
    "a = 10      # Integer\n",
    "b = 3.14    # Float\n",
    "c = \"Python\" # String\n",
    "```\n"
   ]
  },
  {
   "cell_type": "code",
   "execution_count": 2,
   "id": "757a98aa",
   "metadata": {},
   "outputs": [],
   "source": [
    "name = \"Suleman\""
   ]
  },
  {
   "cell_type": "code",
   "execution_count": 7,
   "id": "bae70c5f",
   "metadata": {},
   "outputs": [],
   "source": [
    "age = 56"
   ]
  },
  {
   "cell_type": "code",
   "execution_count": 46,
   "id": "49477071",
   "metadata": {},
   "outputs": [
    {
     "name": "stdout",
     "output_type": "stream",
     "text": [
      "Suleman\n"
     ]
    }
   ],
   "source": [
    "print(name)"
   ]
  },
  {
   "cell_type": "code",
   "execution_count": 9,
   "id": "3121148e",
   "metadata": {},
   "outputs": [
    {
     "data": {
      "text/plain": [
       "56"
      ]
     },
     "execution_count": 9,
     "metadata": {},
     "output_type": "execute_result"
    }
   ],
   "source": [
    "age"
   ]
  },
  {
   "cell_type": "code",
   "execution_count": 10,
   "id": "6d8f67c7",
   "metadata": {},
   "outputs": [],
   "source": [
    "cash = 45.8"
   ]
  },
  {
   "cell_type": "code",
   "execution_count": 11,
   "id": "90efb6db",
   "metadata": {},
   "outputs": [
    {
     "data": {
      "text/plain": [
       "45.8"
      ]
     },
     "execution_count": 11,
     "metadata": {},
     "output_type": "execute_result"
    }
   ],
   "source": [
    "cash"
   ]
  },
  {
   "cell_type": "code",
   "execution_count": 15,
   "id": "f4eedb52",
   "metadata": {},
   "outputs": [
    {
     "data": {
      "text/plain": [
       "True"
      ]
     },
     "execution_count": 15,
     "metadata": {},
     "output_type": "execute_result"
    }
   ],
   "source": [
    "True"
   ]
  },
  {
   "cell_type": "code",
   "execution_count": 13,
   "id": "a23950b3",
   "metadata": {
    "scrolled": true
   },
   "outputs": [
    {
     "data": {
      "text/plain": [
       "False"
      ]
     },
     "execution_count": 13,
     "metadata": {},
     "output_type": "execute_result"
    }
   ],
   "source": [
    "False"
   ]
  },
  {
   "cell_type": "code",
   "execution_count": 18,
   "id": "6e9dadef",
   "metadata": {},
   "outputs": [],
   "source": [
    "cash_at_hand = 40000"
   ]
  },
  {
   "cell_type": "code",
   "execution_count": 48,
   "id": "56f90ec4",
   "metadata": {},
   "outputs": [
    {
     "data": {
      "text/plain": [
       "int"
      ]
     },
     "execution_count": 48,
     "metadata": {},
     "output_type": "execute_result"
    }
   ],
   "source": [
    "type(age)"
   ]
  },
  {
   "cell_type": "code",
   "execution_count": 49,
   "id": "7f06eaec",
   "metadata": {},
   "outputs": [
    {
     "data": {
      "text/plain": [
       "str"
      ]
     },
     "execution_count": 49,
     "metadata": {},
     "output_type": "execute_result"
    }
   ],
   "source": [
    "type(name)"
   ]
  },
  {
   "cell_type": "code",
   "execution_count": 50,
   "id": "8af03d66",
   "metadata": {},
   "outputs": [
    {
     "data": {
      "text/plain": [
       "float"
      ]
     },
     "execution_count": 50,
     "metadata": {},
     "output_type": "execute_result"
    }
   ],
   "source": [
    "type(cash)"
   ]
  },
  {
   "cell_type": "markdown",
   "id": "5dbccb67",
   "metadata": {},
   "source": [
    "### Data Types\n",
    "- **Integers:** Whole numbers without a fractional part.\n",
    "- **Floats:** Numbers that contain a decimal point.\n",
    "- **Strings:** Sequence of characters.\n",
    "- **Booleans:** True or False values."
   ]
  },
  {
   "cell_type": "code",
   "execution_count": null,
   "id": "a1b3a254",
   "metadata": {},
   "outputs": [],
   "source": []
  },
  {
   "cell_type": "code",
   "execution_count": null,
   "id": "7d29999f",
   "metadata": {},
   "outputs": [],
   "source": []
  },
  {
   "cell_type": "code",
   "execution_count": null,
   "id": "71b6875c",
   "metadata": {},
   "outputs": [],
   "source": []
  },
  {
   "cell_type": "markdown",
   "id": "a18d97a3",
   "metadata": {},
   "source": [
    "### Basic Operations\n",
    "Python supports various arithmetic, comparison, and logical operations."
   ]
  },
  {
   "cell_type": "markdown",
   "id": "ecfd854c",
   "metadata": {},
   "source": [
    "#### Arithmetic Operations\n",
    "```python\n",
    "# Examples of Arithmetic Operations\n",
    "x = 10\n",
    "y = 3\n",
    "print(x + y)  # Addition\n",
    "print(x - y)  # Subtraction\n",
    "print(x * y)  # Multiplication\n",
    "print(x / y)  # Division\n",
    "print(x % y)  # Modulus\n",
    "```\n"
   ]
  },
  {
   "cell_type": "code",
   "execution_count": 1,
   "id": "d789cab7",
   "metadata": {},
   "outputs": [],
   "source": [
    "#PEDMAS"
   ]
  },
  {
   "cell_type": "code",
   "execution_count": 2,
   "id": "38e3a88a",
   "metadata": {},
   "outputs": [
    {
     "data": {
      "text/plain": [
       "15.5"
      ]
     },
     "execution_count": 2,
     "metadata": {},
     "output_type": "execute_result"
    }
   ],
   "source": [
    "(3*5) + 4/2**3"
   ]
  },
  {
   "cell_type": "code",
   "execution_count": 5,
   "id": "9f23d8ed",
   "metadata": {},
   "outputs": [],
   "source": [
    "# (15) + 4/8\n",
    "\n",
    "# 15 + 4/8\n",
    "\n",
    "# 15 + 0.5"
   ]
  },
  {
   "cell_type": "code",
   "execution_count": 21,
   "id": "cbb37e80",
   "metadata": {},
   "outputs": [],
   "source": [
    "age2 = 40"
   ]
  },
  {
   "cell_type": "code",
   "execution_count": 22,
   "id": "2cde5661",
   "metadata": {},
   "outputs": [
    {
     "data": {
      "text/plain": [
       "96"
      ]
     },
     "execution_count": 22,
     "metadata": {},
     "output_type": "execute_result"
    }
   ],
   "source": [
    "age + age2"
   ]
  },
  {
   "cell_type": "code",
   "execution_count": 31,
   "id": "5004c6da",
   "metadata": {},
   "outputs": [],
   "source": [
    "expenses = 20000"
   ]
  },
  {
   "cell_type": "code",
   "execution_count": 32,
   "id": "bac8f3c3",
   "metadata": {},
   "outputs": [],
   "source": [
    "new_cash_at_hand = cash_at_hand - expenses"
   ]
  },
  {
   "cell_type": "code",
   "execution_count": 33,
   "id": "a0a47f27",
   "metadata": {},
   "outputs": [
    {
     "data": {
      "text/plain": [
       "20000"
      ]
     },
     "execution_count": 33,
     "metadata": {},
     "output_type": "execute_result"
    }
   ],
   "source": [
    "new_cash_at_hand"
   ]
  },
  {
   "cell_type": "code",
   "execution_count": 34,
   "id": "4c2d746c",
   "metadata": {},
   "outputs": [],
   "source": [
    "cash_at_hand = cash_at_hand - expenses"
   ]
  },
  {
   "cell_type": "code",
   "execution_count": 35,
   "id": "31f79956",
   "metadata": {
    "scrolled": true
   },
   "outputs": [
    {
     "data": {
      "text/plain": [
       "20000"
      ]
     },
     "execution_count": 35,
     "metadata": {},
     "output_type": "execute_result"
    }
   ],
   "source": [
    "cash_at_hand"
   ]
  },
  {
   "cell_type": "code",
   "execution_count": 40,
   "id": "2a42cc79",
   "metadata": {},
   "outputs": [
    {
     "data": {
      "text/plain": [
       "4000.0"
      ]
     },
     "execution_count": 40,
     "metadata": {},
     "output_type": "execute_result"
    }
   ],
   "source": [
    "cash_at_hand / 5\n",
    "\n",
    "#casting"
   ]
  },
  {
   "cell_type": "code",
   "execution_count": 41,
   "id": "c33ebbf2",
   "metadata": {},
   "outputs": [],
   "source": [
    "num1 = 15\n",
    "num2 = 3"
   ]
  },
  {
   "cell_type": "code",
   "execution_count": 45,
   "id": "e0adce7c",
   "metadata": {},
   "outputs": [
    {
     "data": {
      "text/plain": [
       "1"
      ]
     },
     "execution_count": 45,
     "metadata": {},
     "output_type": "execute_result"
    }
   ],
   "source": [
    "9 % 2"
   ]
  },
  {
   "cell_type": "code",
   "execution_count": 44,
   "id": "881b705c",
   "metadata": {},
   "outputs": [
    {
     "data": {
      "text/plain": [
       "32"
      ]
     },
     "execution_count": 44,
     "metadata": {},
     "output_type": "execute_result"
    }
   ],
   "source": [
    "2 ** 5"
   ]
  },
  {
   "cell_type": "code",
   "execution_count": 7,
   "id": "8fa13489",
   "metadata": {},
   "outputs": [
    {
     "data": {
      "text/plain": [
       "14"
      ]
     },
     "execution_count": 7,
     "metadata": {},
     "output_type": "execute_result"
    }
   ],
   "source": [
    "# Floor division: you use double division sign //\n",
    "100 // 7"
   ]
  },
  {
   "cell_type": "code",
   "execution_count": 9,
   "id": "a7e3a72f",
   "metadata": {},
   "outputs": [
    {
     "data": {
      "text/plain": [
       "2"
      ]
     },
     "execution_count": 9,
     "metadata": {},
     "output_type": "execute_result"
    }
   ],
   "source": [
    "100 % 7"
   ]
  },
  {
   "cell_type": "code",
   "execution_count": 10,
   "id": "44bf1e50",
   "metadata": {},
   "outputs": [],
   "source": [
    "# 14 * 7"
   ]
  },
  {
   "cell_type": "code",
   "execution_count": 4,
   "id": "bf0dc7ea",
   "metadata": {},
   "outputs": [],
   "source": [
    "#COMMENTS"
   ]
  },
  {
   "cell_type": "markdown",
   "id": "12338af5",
   "metadata": {},
   "source": [
    "\n",
    "# Strings in Python\n",
    "\n",
    "Strings in Python are created by enclosing characters in either single quotes or double quotes. Python treats single quotes and double quotes the same.\n",
    "\n",
    "### String Manipulation\n",
    "- **Concatenation:** Combining strings together.\n",
    "- **Slicing:** Extracting a part of a string.\n",
    "- **Common Methods:** `upper()`, `lower()`, `strip()`, `replace()`, `split()`.\n",
    "\n",
    "#### Examples\n",
    "```python\n",
    "str1 = \"Hello\"\n",
    "str2 = \"World\"\n",
    "# Concatenation\n",
    "print(str1 + \" \" + str2)  # Output: Hello World\n",
    "\n",
    "# Slicing\n",
    "print(str1[1:4])  # Output: ell\n",
    "\n",
    "# Using String Methods\n",
    "print(str1.lower())  # Output: hello\n",
    "print(str2.upper())  # Output: WORLD\n",
    "```\n"
   ]
  },
  {
   "cell_type": "code",
   "execution_count": 51,
   "id": "6ee7ec7b",
   "metadata": {},
   "outputs": [],
   "source": [
    "firstname = 'Kelechi'\n",
    "lastname =  'Isiolu'"
   ]
  },
  {
   "cell_type": "code",
   "execution_count": 56,
   "id": "19cb0929",
   "metadata": {},
   "outputs": [],
   "source": [
    "#concatenation\n",
    "\n",
    "fullname = firstname + ' ' + lastname"
   ]
  },
  {
   "cell_type": "code",
   "execution_count": 57,
   "id": "77e0e6a5",
   "metadata": {},
   "outputs": [
    {
     "data": {
      "text/plain": [
       "'Kelechi Isiolu'"
      ]
     },
     "execution_count": 57,
     "metadata": {},
     "output_type": "execute_result"
    }
   ],
   "source": [
    "fullname"
   ]
  },
  {
   "cell_type": "code",
   "execution_count": 59,
   "id": "087bc503",
   "metadata": {
    "scrolled": true
   },
   "outputs": [
    {
     "data": {
      "text/plain": [
       "'KELECHI ISIOLU'"
      ]
     },
     "execution_count": 59,
     "metadata": {},
     "output_type": "execute_result"
    }
   ],
   "source": [
    "fullname.upper()"
   ]
  },
  {
   "cell_type": "code",
   "execution_count": 60,
   "id": "74228c8d",
   "metadata": {},
   "outputs": [
    {
     "data": {
      "text/plain": [
       "'kelechi isiolu'"
      ]
     },
     "execution_count": 60,
     "metadata": {},
     "output_type": "execute_result"
    }
   ],
   "source": [
    "fullname.lower()"
   ]
  },
  {
   "cell_type": "code",
   "execution_count": 63,
   "id": "1ab3f773",
   "metadata": {},
   "outputs": [],
   "source": [
    "# Python is case sensitive"
   ]
  },
  {
   "cell_type": "code",
   "execution_count": 66,
   "id": "0710d23e",
   "metadata": {},
   "outputs": [
    {
     "data": {
      "text/plain": [
       "'Kelechi Isiolu'"
      ]
     },
     "execution_count": 66,
     "metadata": {},
     "output_type": "execute_result"
    }
   ],
   "source": [
    "fullname"
   ]
  },
  {
   "cell_type": "code",
   "execution_count": 67,
   "id": "c0d4b7e7",
   "metadata": {
    "scrolled": true
   },
   "outputs": [
    {
     "data": {
      "text/plain": [
       "'Kelechi Isiolu'"
      ]
     },
     "execution_count": 67,
     "metadata": {},
     "output_type": "execute_result"
    }
   ],
   "source": [
    "fullname.replace('isiolu', 'Josiah')"
   ]
  },
  {
   "cell_type": "code",
   "execution_count": 69,
   "id": "364732b2",
   "metadata": {
    "scrolled": true
   },
   "outputs": [],
   "source": [
    "newname = fullname.replace('Isiolu', 'Josiah')"
   ]
  },
  {
   "cell_type": "code",
   "execution_count": 70,
   "id": "c012f055",
   "metadata": {},
   "outputs": [
    {
     "data": {
      "text/plain": [
       "'Kelechi Josiah'"
      ]
     },
     "execution_count": 70,
     "metadata": {},
     "output_type": "execute_result"
    }
   ],
   "source": [
    "newname"
   ]
  },
  {
   "cell_type": "code",
   "execution_count": 68,
   "id": "9fede380",
   "metadata": {},
   "outputs": [
    {
     "data": {
      "text/plain": [
       "['Kelechi', 'Isiolu']"
      ]
     },
     "execution_count": 68,
     "metadata": {},
     "output_type": "execute_result"
    }
   ],
   "source": [
    "fullname.split(' ')"
   ]
  },
  {
   "cell_type": "markdown",
   "id": "36c558f9",
   "metadata": {},
   "source": [
    "\n",
    "# Data Structures in Python\n",
    "\n",
    "Python provides various built-in data structures that are efficient and easy to use."
   ]
  },
  {
   "cell_type": "code",
   "execution_count": null,
   "id": "74dd559b",
   "metadata": {},
   "outputs": [],
   "source": []
  },
  {
   "cell_type": "markdown",
   "id": "4cf536d4",
   "metadata": {},
   "source": [
    "### Lists\n",
    "Lists are mutable sequences, typically used to store collections of homogeneous items.\n",
    "```python\n",
    "my_list = [1, 2, 3, 'Python', 3.14]\n",
    "print(my_list[3])  # Accessing element\n",
    "my_list.append(10) # Adding element\n",
    "```"
   ]
  },
  {
   "cell_type": "code",
   "execution_count": null,
   "id": "1e300b92",
   "metadata": {},
   "outputs": [],
   "source": [
    "index 0 - n-1"
   ]
  },
  {
   "cell_type": "code",
   "execution_count": 20,
   "id": "abe977d4",
   "metadata": {},
   "outputs": [],
   "source": [
    "name = ['Kelechi', 'Peter', 'John', 'Jacob', 'Alexander', 'Salami', 'David', 'Dayo', 'Jacob']"
   ]
  },
  {
   "cell_type": "code",
   "execution_count": 21,
   "id": "2435bcbb",
   "metadata": {},
   "outputs": [
    {
     "data": {
      "text/plain": [
       "['Kelechi',\n",
       " 'Peter',\n",
       " 'John',\n",
       " 'Jacob',\n",
       " 'Alexander',\n",
       " 'Salami',\n",
       " 'David',\n",
       " 'Dayo',\n",
       " 'Jacob']"
      ]
     },
     "execution_count": 21,
     "metadata": {},
     "output_type": "execute_result"
    }
   ],
   "source": [
    "name"
   ]
  },
  {
   "cell_type": "code",
   "execution_count": 22,
   "id": "9c014cc7",
   "metadata": {},
   "outputs": [
    {
     "data": {
      "text/plain": [
       "'Kelechi'"
      ]
     },
     "execution_count": 22,
     "metadata": {},
     "output_type": "execute_result"
    }
   ],
   "source": [
    "name[0]"
   ]
  },
  {
   "cell_type": "code",
   "execution_count": 23,
   "id": "d6f4e788",
   "metadata": {},
   "outputs": [
    {
     "data": {
      "text/plain": [
       "'Alexander'"
      ]
     },
     "execution_count": 23,
     "metadata": {},
     "output_type": "execute_result"
    }
   ],
   "source": [
    "name[4]"
   ]
  },
  {
   "cell_type": "code",
   "execution_count": 24,
   "id": "fabf5a8f",
   "metadata": {},
   "outputs": [
    {
     "data": {
      "text/plain": [
       "'Jacob'"
      ]
     },
     "execution_count": 24,
     "metadata": {},
     "output_type": "execute_result"
    }
   ],
   "source": [
    "name[-1]"
   ]
  },
  {
   "cell_type": "code",
   "execution_count": 25,
   "id": "b2261cef",
   "metadata": {},
   "outputs": [],
   "source": [
    "name.append('Olamilekan')"
   ]
  },
  {
   "cell_type": "code",
   "execution_count": 27,
   "id": "a4e9bdc1",
   "metadata": {},
   "outputs": [
    {
     "data": {
      "text/plain": [
       "3"
      ]
     },
     "execution_count": 27,
     "metadata": {},
     "output_type": "execute_result"
    }
   ],
   "source": [
    "name.index('Jacob')"
   ]
  },
  {
   "cell_type": "code",
   "execution_count": 81,
   "id": "8bb12ccd",
   "metadata": {},
   "outputs": [
    {
     "data": {
      "text/plain": [
       "['Kelechi',\n",
       " 'Peter',\n",
       " 'John',\n",
       " 'Jacob',\n",
       " 'Alexander',\n",
       " 'Salami',\n",
       " 'David',\n",
       " 'Dayo',\n",
       " 'Olamilekan']"
      ]
     },
     "execution_count": 81,
     "metadata": {},
     "output_type": "execute_result"
    }
   ],
   "source": [
    "name"
   ]
  },
  {
   "cell_type": "code",
   "execution_count": 83,
   "id": "41887755",
   "metadata": {},
   "outputs": [],
   "source": [
    "name[4] = 'Halimat'"
   ]
  },
  {
   "cell_type": "code",
   "execution_count": 84,
   "id": "37fb8804",
   "metadata": {},
   "outputs": [
    {
     "data": {
      "text/plain": [
       "['Kelechi',\n",
       " 'Peter',\n",
       " 'John',\n",
       " 'Jacob',\n",
       " 'Halimat',\n",
       " 'Salami',\n",
       " 'David',\n",
       " 'Dayo',\n",
       " 'Olamilekan']"
      ]
     },
     "execution_count": 84,
     "metadata": {},
     "output_type": "execute_result"
    }
   ],
   "source": [
    "name"
   ]
  },
  {
   "cell_type": "code",
   "execution_count": null,
   "id": "dc182e5a",
   "metadata": {},
   "outputs": [],
   "source": [
    "# A list is mutable"
   ]
  },
  {
   "cell_type": "code",
   "execution_count": 87,
   "id": "fb4fca54",
   "metadata": {},
   "outputs": [
    {
     "data": {
      "text/plain": [
       "list"
      ]
     },
     "execution_count": 87,
     "metadata": {},
     "output_type": "execute_result"
    }
   ],
   "source": [
    "type(name)"
   ]
  },
  {
   "cell_type": "markdown",
   "id": "bd23989f",
   "metadata": {},
   "source": [
    "### Tuples\n",
    "Tuples are immutable sequences, used to store multiple items in a single variable.\n",
    "```python\n",
    "my_tuple = (1, 2, 3)\n",
    "print(my_tuple[1])  # Accessing element\n",
    "```"
   ]
  },
  {
   "cell_type": "code",
   "execution_count": 85,
   "id": "5db6b0f1",
   "metadata": {},
   "outputs": [],
   "source": [
    "week_day = ('Mon', 'Tue', 'Wed', 'Thur', 'Fri')"
   ]
  },
  {
   "cell_type": "code",
   "execution_count": 86,
   "id": "7f048815",
   "metadata": {},
   "outputs": [
    {
     "data": {
      "text/plain": [
       "('Mon', 'Tue', 'Wed', 'Thur', 'Fri')"
      ]
     },
     "execution_count": 86,
     "metadata": {},
     "output_type": "execute_result"
    }
   ],
   "source": [
    "week_day"
   ]
  },
  {
   "cell_type": "code",
   "execution_count": 88,
   "id": "15c91c2b",
   "metadata": {},
   "outputs": [
    {
     "data": {
      "text/plain": [
       "tuple"
      ]
     },
     "execution_count": 88,
     "metadata": {},
     "output_type": "execute_result"
    }
   ],
   "source": [
    "type(week_day)"
   ]
  },
  {
   "cell_type": "code",
   "execution_count": 91,
   "id": "d1316840",
   "metadata": {},
   "outputs": [
    {
     "data": {
      "text/plain": [
       "'Mon'"
      ]
     },
     "execution_count": 91,
     "metadata": {},
     "output_type": "execute_result"
    }
   ],
   "source": [
    "week_day[0]"
   ]
  },
  {
   "cell_type": "code",
   "execution_count": 90,
   "id": "711e6220",
   "metadata": {
    "scrolled": true
   },
   "outputs": [
    {
     "data": {
      "text/plain": [
       "'Fri'"
      ]
     },
     "execution_count": 90,
     "metadata": {},
     "output_type": "execute_result"
    }
   ],
   "source": [
    "week_day[-1]"
   ]
  },
  {
   "cell_type": "code",
   "execution_count": 92,
   "id": "43485a3f",
   "metadata": {
    "scrolled": true
   },
   "outputs": [],
   "source": [
    "# Exdday"
   ]
  },
  {
   "cell_type": "code",
   "execution_count": 93,
   "id": "31038213",
   "metadata": {},
   "outputs": [
    {
     "data": {
      "text/plain": [
       "'Wed'"
      ]
     },
     "execution_count": 93,
     "metadata": {},
     "output_type": "execute_result"
    }
   ],
   "source": [
    "week_day[2]"
   ]
  },
  {
   "cell_type": "code",
   "execution_count": 95,
   "id": "1c4d8d21",
   "metadata": {},
   "outputs": [
    {
     "ename": "TypeError",
     "evalue": "'tuple' object does not support item assignment",
     "output_type": "error",
     "traceback": [
      "\u001b[1;31m---------------------------------------------------------------------------\u001b[0m",
      "\u001b[1;31mTypeError\u001b[0m                                 Traceback (most recent call last)",
      "Input \u001b[1;32mIn [95]\u001b[0m, in \u001b[0;36m<cell line: 1>\u001b[1;34m()\u001b[0m\n\u001b[1;32m----> 1\u001b[0m week_day[\u001b[38;5;241m2\u001b[39m] \u001b[38;5;241m=\u001b[39m \u001b[38;5;124m'\u001b[39m\u001b[38;5;124mExd\u001b[39m\u001b[38;5;124m'\u001b[39m\n",
      "\u001b[1;31mTypeError\u001b[0m: 'tuple' object does not support item assignment"
     ]
    }
   ],
   "source": [
    "week_day[2] = 'Exd'\n",
    "\n",
    "#Tuples are immutable"
   ]
  },
  {
   "cell_type": "code",
   "execution_count": 100,
   "id": "7607c887",
   "metadata": {},
   "outputs": [],
   "source": [
    "editable_week = list(week_day)\n",
    "\n",
    "# creating a tuple to a list"
   ]
  },
  {
   "cell_type": "code",
   "execution_count": 101,
   "id": "bfe99388",
   "metadata": {},
   "outputs": [
    {
     "data": {
      "text/plain": [
       "['Mon', 'Tue', 'Wed', 'Thur', 'Fri']"
      ]
     },
     "execution_count": 101,
     "metadata": {},
     "output_type": "execute_result"
    }
   ],
   "source": [
    "editable_week"
   ]
  },
  {
   "cell_type": "code",
   "execution_count": 102,
   "id": "01bba76f",
   "metadata": {},
   "outputs": [
    {
     "data": {
      "text/plain": [
       "('Mon', 'Tue', 'Wed', 'Thur', 'Fri')"
      ]
     },
     "execution_count": 102,
     "metadata": {},
     "output_type": "execute_result"
    }
   ],
   "source": [
    "week_day"
   ]
  },
  {
   "cell_type": "code",
   "execution_count": null,
   "id": "0aa873dc",
   "metadata": {},
   "outputs": [],
   "source": [
    "# [] list and index\n",
    "# () tuple and method or parameters"
   ]
  },
  {
   "cell_type": "code",
   "execution_count": 12,
   "id": "985dd0b0",
   "metadata": {},
   "outputs": [],
   "source": [
    "a = 'Olamilekan'"
   ]
  },
  {
   "cell_type": "code",
   "execution_count": 13,
   "id": "b3b78158",
   "metadata": {},
   "outputs": [
    {
     "data": {
      "text/plain": [
       "'m'"
      ]
     },
     "execution_count": 13,
     "metadata": {},
     "output_type": "execute_result"
    }
   ],
   "source": [
    "a[3]"
   ]
  },
  {
   "cell_type": "code",
   "execution_count": null,
   "id": "4ebf41e4",
   "metadata": {},
   "outputs": [],
   "source": []
  },
  {
   "cell_type": "code",
   "execution_count": 104,
   "id": "c811aaa6",
   "metadata": {},
   "outputs": [],
   "source": [
    "a = 1"
   ]
  },
  {
   "cell_type": "code",
   "execution_count": null,
   "id": "5b8dde9f",
   "metadata": {},
   "outputs": [],
   "source": []
  },
  {
   "cell_type": "markdown",
   "id": "a2b09489",
   "metadata": {},
   "source": [
    "### Sets\n",
    "Sets are unordered collections of unique elements.\n",
    "```python\n",
    "my_set = {1, 2, 3, 3, 2}\n",
    "print(my_set)       # Output: {1, 2, 3}\n",
    "```"
   ]
  },
  {
   "cell_type": "code",
   "execution_count": 29,
   "id": "1a8ec31b",
   "metadata": {},
   "outputs": [],
   "source": [
    "name.append('Peter')"
   ]
  },
  {
   "cell_type": "code",
   "execution_count": 30,
   "id": "82cdf103",
   "metadata": {},
   "outputs": [
    {
     "data": {
      "text/plain": [
       "['Kelechi',\n",
       " 'Peter',\n",
       " 'John',\n",
       " 'Jacob',\n",
       " 'Alexander',\n",
       " 'Salami',\n",
       " 'David',\n",
       " 'Dayo',\n",
       " 'Jacob',\n",
       " 'Olamilekan',\n",
       " 'Peter']"
      ]
     },
     "execution_count": 30,
     "metadata": {},
     "output_type": "execute_result"
    }
   ],
   "source": [
    "name"
   ]
  },
  {
   "cell_type": "code",
   "execution_count": 31,
   "id": "8294a6d3",
   "metadata": {},
   "outputs": [
    {
     "data": {
      "text/plain": [
       "list"
      ]
     },
     "execution_count": 31,
     "metadata": {},
     "output_type": "execute_result"
    }
   ],
   "source": [
    "type(name)"
   ]
  },
  {
   "cell_type": "code",
   "execution_count": 32,
   "id": "0c6a5c28",
   "metadata": {},
   "outputs": [
    {
     "data": {
      "text/plain": [
       "{'Alexander',\n",
       " 'David',\n",
       " 'Dayo',\n",
       " 'Jacob',\n",
       " 'John',\n",
       " 'Kelechi',\n",
       " 'Olamilekan',\n",
       " 'Peter',\n",
       " 'Salami'}"
      ]
     },
     "execution_count": 32,
     "metadata": {},
     "output_type": "execute_result"
    }
   ],
   "source": [
    "#creating a set from a list\n",
    "set(name)"
   ]
  },
  {
   "cell_type": "code",
   "execution_count": 39,
   "id": "46aab374",
   "metadata": {},
   "outputs": [],
   "source": [
    "set_name = {'Kelechi', 'Peter', 'John', 'Jacob','Alexander', 'Jacob',\n",
    "             'Salami', 'David', 'Dayo', 'Jacob', 'Olamilekan', 'Peter'}"
   ]
  },
  {
   "cell_type": "code",
   "execution_count": 40,
   "id": "7acdfc1e",
   "metadata": {},
   "outputs": [
    {
     "data": {
      "text/plain": [
       "{'Alexander',\n",
       " 'David',\n",
       " 'Dayo',\n",
       " 'Jacob',\n",
       " 'John',\n",
       " 'Kelechi',\n",
       " 'Olamilekan',\n",
       " 'Peter',\n",
       " 'Salami'}"
      ]
     },
     "execution_count": 40,
     "metadata": {},
     "output_type": "execute_result"
    }
   ],
   "source": [
    "set_name"
   ]
  },
  {
   "cell_type": "code",
   "execution_count": 43,
   "id": "583cd452",
   "metadata": {},
   "outputs": [],
   "source": [
    "set_name.add('Lekan')"
   ]
  },
  {
   "cell_type": "code",
   "execution_count": 44,
   "id": "40a47907",
   "metadata": {},
   "outputs": [
    {
     "data": {
      "text/plain": [
       "{'Alexander',\n",
       " 'David',\n",
       " 'Dayo',\n",
       " 'Jacob',\n",
       " 'John',\n",
       " 'Kelechi',\n",
       " 'Lekan',\n",
       " 'Olamilekan',\n",
       " 'Peter',\n",
       " 'Salami'}"
      ]
     },
     "execution_count": 44,
     "metadata": {},
     "output_type": "execute_result"
    }
   ],
   "source": [
    "set_name"
   ]
  },
  {
   "cell_type": "code",
   "execution_count": 46,
   "id": "1b06d6ba",
   "metadata": {},
   "outputs": [],
   "source": [
    "#a set is a collection of keys"
   ]
  },
  {
   "cell_type": "markdown",
   "id": "336af0e3",
   "metadata": {},
   "source": [
    "### Dictionaries\n",
    "Dictionaries are used to store data values in key:value pairs.\n",
    "```python\n",
    "my_dict = {'name': 'Alice', 'age': 25}\n",
    "print(my_dict['name'])  # Accessing value\n",
    "my_dict['age'] = 26     # Changing value\n",
    "```\n"
   ]
  },
  {
   "cell_type": "code",
   "execution_count": 57,
   "id": "b739e2a6",
   "metadata": {},
   "outputs": [],
   "source": [
    "user_info = {'id':1, 'name': 'Halimat', 'age': 40, 'gender': 'Female', 'height': 7, 'favorites': ['movies', 'reading']}"
   ]
  },
  {
   "cell_type": "code",
   "execution_count": null,
   "id": "eac7379c",
   "metadata": {},
   "outputs": [],
   "source": [
    "# key1:value, key2:value,"
   ]
  },
  {
   "cell_type": "code",
   "execution_count": 48,
   "id": "f15f5515",
   "metadata": {},
   "outputs": [
    {
     "ename": "KeyError",
     "evalue": "2",
     "output_type": "error",
     "traceback": [
      "\u001b[1;31m---------------------------------------------------------------------------\u001b[0m",
      "\u001b[1;31mKeyError\u001b[0m                                  Traceback (most recent call last)",
      "Input \u001b[1;32mIn [48]\u001b[0m, in \u001b[0;36m<cell line: 1>\u001b[1;34m()\u001b[0m\n\u001b[1;32m----> 1\u001b[0m \u001b[43muser_info\u001b[49m\u001b[43m[\u001b[49m\u001b[38;5;241;43m2\u001b[39;49m\u001b[43m]\u001b[49m\n",
      "\u001b[1;31mKeyError\u001b[0m: 2"
     ]
    }
   ],
   "source": [
    "#dic is not accessed by index but key\n",
    "user_info[2]"
   ]
  },
  {
   "cell_type": "code",
   "execution_count": 49,
   "id": "e6b2e03f",
   "metadata": {},
   "outputs": [
    {
     "data": {
      "text/plain": [
       "1"
      ]
     },
     "execution_count": 49,
     "metadata": {},
     "output_type": "execute_result"
    }
   ],
   "source": [
    "user_info['id']"
   ]
  },
  {
   "cell_type": "code",
   "execution_count": 50,
   "id": "0e4cf8f5",
   "metadata": {},
   "outputs": [
    {
     "data": {
      "text/plain": [
       "'Halimat'"
      ]
     },
     "execution_count": 50,
     "metadata": {},
     "output_type": "execute_result"
    }
   ],
   "source": [
    "user_info['name']"
   ]
  },
  {
   "cell_type": "code",
   "execution_count": 51,
   "id": "cff16c65",
   "metadata": {},
   "outputs": [
    {
     "data": {
      "text/plain": [
       "40"
      ]
     },
     "execution_count": 51,
     "metadata": {},
     "output_type": "execute_result"
    }
   ],
   "source": [
    "user_info['age']"
   ]
  },
  {
   "cell_type": "code",
   "execution_count": 52,
   "id": "c547ba98",
   "metadata": {},
   "outputs": [
    {
     "data": {
      "text/plain": [
       "['movies', 'reading']"
      ]
     },
     "execution_count": 52,
     "metadata": {},
     "output_type": "execute_result"
    }
   ],
   "source": [
    "user_info['favorites']"
   ]
  },
  {
   "cell_type": "code",
   "execution_count": 53,
   "id": "f7795d4e",
   "metadata": {},
   "outputs": [],
   "source": [
    "user_fav = user_info['favorites']"
   ]
  },
  {
   "cell_type": "code",
   "execution_count": 55,
   "id": "e2d3ec97",
   "metadata": {},
   "outputs": [
    {
     "data": {
      "text/plain": [
       "'movies'"
      ]
     },
     "execution_count": 55,
     "metadata": {},
     "output_type": "execute_result"
    }
   ],
   "source": [
    "user_fav[0]"
   ]
  },
  {
   "cell_type": "code",
   "execution_count": 56,
   "id": "3e413b98",
   "metadata": {},
   "outputs": [
    {
     "data": {
      "text/plain": [
       "'movies'"
      ]
     },
     "execution_count": 56,
     "metadata": {},
     "output_type": "execute_result"
    }
   ],
   "source": [
    "user_info['favorites'][0]"
   ]
  },
  {
   "cell_type": "code",
   "execution_count": null,
   "id": "f27090b5",
   "metadata": {},
   "outputs": [],
   "source": [
    "# JSON"
   ]
  },
  {
   "cell_type": "code",
   "execution_count": 58,
   "id": "77dba99f",
   "metadata": {},
   "outputs": [],
   "source": [
    "# A NESTED DICTIONARY~"
   ]
  },
  {
   "cell_type": "code",
   "execution_count": 67,
   "id": "72fb1a73",
   "metadata": {},
   "outputs": [],
   "source": [
    "#remeber keys are unique\n",
    "user_info = {'id':1, 'name': 'Halimat', 'age': 40, 'gender': 'Female', 'height': 7.5, 'favorites': ['movies', 'reading'],\n",
    "            'work_details': {'employer_name':'[AI]', 'address':'Remotely'}}"
   ]
  },
  {
   "cell_type": "code",
   "execution_count": 68,
   "id": "bd1a13c0",
   "metadata": {},
   "outputs": [
    {
     "data": {
      "text/plain": [
       "{'id': 50,\n",
       " 'name': 'Halimat',\n",
       " 'age': 40,\n",
       " 'gender': 'Female',\n",
       " 'height': 7.5,\n",
       " 'favorites': ['movies', 'reading'],\n",
       " 'work_details': {'employer_name': '[AI]', 'address': 'Remotely'}}"
      ]
     },
     "execution_count": 68,
     "metadata": {},
     "output_type": "execute_result"
    }
   ],
   "source": [
    "user_info"
   ]
  },
  {
   "cell_type": "code",
   "execution_count": 61,
   "id": "6d7ab2ac",
   "metadata": {},
   "outputs": [
    {
     "data": {
      "text/plain": [
       "dict"
      ]
     },
     "execution_count": 61,
     "metadata": {},
     "output_type": "execute_result"
    }
   ],
   "source": [
    "type(user_info)"
   ]
  },
  {
   "cell_type": "code",
   "execution_count": 62,
   "id": "4c4758ee",
   "metadata": {},
   "outputs": [
    {
     "data": {
      "text/plain": [
       "{'employer_name': '[AI]', 'address': 'Remotely'}"
      ]
     },
     "execution_count": 62,
     "metadata": {},
     "output_type": "execute_result"
    }
   ],
   "source": [
    "user_info['work_details']"
   ]
  },
  {
   "cell_type": "code",
   "execution_count": 63,
   "id": "aa263ee8",
   "metadata": {},
   "outputs": [
    {
     "data": {
      "text/plain": [
       "'Remotely'"
      ]
     },
     "execution_count": 63,
     "metadata": {},
     "output_type": "execute_result"
    }
   ],
   "source": [
    "user_info['work_details']['address']"
   ]
  },
  {
   "cell_type": "code",
   "execution_count": 64,
   "id": "1fd3f0d2",
   "metadata": {},
   "outputs": [
    {
     "data": {
      "text/plain": [
       "dict_keys(['id', 'name', 'age', 'gender', 'height', 'favorites', 'work_details'])"
      ]
     },
     "execution_count": 64,
     "metadata": {},
     "output_type": "execute_result"
    }
   ],
   "source": [
    "# all the keys\n",
    "user_info.keys()"
   ]
  },
  {
   "cell_type": "code",
   "execution_count": 69,
   "id": "4df50023",
   "metadata": {},
   "outputs": [
    {
     "data": {
      "text/plain": [
       "dict_values([50, 'Halimat', 40, 'Female', 7.5, ['movies', 'reading'], {'employer_name': '[AI]', 'address': 'Remotely'}])"
      ]
     },
     "execution_count": 69,
     "metadata": {},
     "output_type": "execute_result"
    }
   ],
   "source": [
    "# all the values\n",
    "user_info.values()"
   ]
  },
  {
   "cell_type": "code",
   "execution_count": null,
   "id": "9b2fa8d5",
   "metadata": {},
   "outputs": [],
   "source": []
  },
  {
   "cell_type": "code",
   "execution_count": 79,
   "id": "340e030e",
   "metadata": {},
   "outputs": [],
   "source": [
    "# Nesting example\n",
    "users_info = {'user1': {'id':1, 'name': 'Halimat', 'age': 40, 'gender': 'Female', 'height': 7.5, 'favorites': ['movies', 'reading'],\n",
    "            'work_details': {'employer_name':'[AI]', 'address':'Remotely'}},\n",
    "            \n",
    "            'user2':{'id':2, 'name': 'Aliu', 'age': 50, 'gender': 'Male', 'height': 7.95, 'favorites': ['movies', 'reading'],\n",
    "            'work_details': {'employer_name':'[AI]', 'address':'Physical'}}\n",
    "            }"
   ]
  },
  {
   "cell_type": "code",
   "execution_count": 80,
   "id": "db6088f8",
   "metadata": {},
   "outputs": [
    {
     "data": {
      "text/plain": [
       "{'id': 2,\n",
       " 'name': 'Aliu',\n",
       " 'age': 50,\n",
       " 'gender': 'Male',\n",
       " 'height': 7.95,\n",
       " 'favorites': ['movies', 'reading'],\n",
       " 'work_details': {'employer_name': '[AI]', 'address': 'Physical'}}"
      ]
     },
     "execution_count": 80,
     "metadata": {},
     "output_type": "execute_result"
    }
   ],
   "source": [
    "users_info['user2']"
   ]
  },
  {
   "cell_type": "code",
   "execution_count": null,
   "id": "02f82474",
   "metadata": {},
   "outputs": [],
   "source": []
  },
  {
   "cell_type": "code",
   "execution_count": null,
   "id": "51f5dbec",
   "metadata": {},
   "outputs": [],
   "source": []
  },
  {
   "cell_type": "code",
   "execution_count": null,
   "id": "8e193ce6",
   "metadata": {},
   "outputs": [],
   "source": []
  },
  {
   "cell_type": "markdown",
   "id": "d3ff82e9",
   "metadata": {},
   "source": [
    "\n",
    "# Control Structures in Python\n",
    "\n",
    "Understand how to control the flow of your Python programs using conditional statements and loops."
   ]
  },
  {
   "cell_type": "markdown",
   "id": "62b812c7",
   "metadata": {},
   "source": [
    "### Conditional Statements\n",
    "\n",
    "```python\n",
    "x = 10\n",
    "if x > 5:\n",
    "    print('Greater than 5')\n",
    "elif x == 5:\n",
    "    print('Equal to 5')\n",
    "else:\n",
    "    print('Less than 5')\n",
    "```\n"
   ]
  },
  {
   "cell_type": "code",
   "execution_count": null,
   "id": "c7f4edc5",
   "metadata": {},
   "outputs": [],
   "source": [
    "#Python uses indentation to define blocks"
   ]
  },
  {
   "cell_type": "code",
   "execution_count": 81,
   "id": "3259f083",
   "metadata": {},
   "outputs": [],
   "source": [
    "#Logical operators\n",
    "# == equal to\n",
    "# > greater than\n",
    "# >= greater than or equal to\n",
    "# < less than\n",
    "# <= less than or equal to\n",
    "# != not equal to"
   ]
  },
  {
   "cell_type": "code",
   "execution_count": null,
   "id": "755d59e7",
   "metadata": {},
   "outputs": [],
   "source": [
    "# = assignment\n",
    "# == comparision"
   ]
  },
  {
   "cell_type": "code",
   "execution_count": null,
   "id": "0836b99f",
   "metadata": {},
   "outputs": [],
   "source": [
    "# if condition:\n",
    "#     code to run\n",
    "    \n",
    "# elif condition:\n",
    "#     code to run\n",
    "    \n",
    "# else:\n",
    "#     whatever be the case"
   ]
  },
  {
   "cell_type": "code",
   "execution_count": 82,
   "id": "8f6567b7",
   "metadata": {},
   "outputs": [
    {
     "name": "stdout",
     "output_type": "stream",
     "text": [
      "Peter was present in the class today\n"
     ]
    }
   ],
   "source": [
    "present = 'Yes'\n",
    "\n",
    "if present == 'Yes':\n",
    "    print('Peter was present in the class today')"
   ]
  },
  {
   "cell_type": "code",
   "execution_count": 93,
   "id": "b2056dd1",
   "metadata": {},
   "outputs": [],
   "source": [
    "present = 'no'\n",
    "\n",
    "if present == 'yes':\n",
    "    print('Peter was present in the class today')"
   ]
  },
  {
   "cell_type": "code",
   "execution_count": 92,
   "id": "2986302c",
   "metadata": {},
   "outputs": [
    {
     "name": "stdout",
     "output_type": "stream",
     "text": [
      "Peter was present in the class today\n"
     ]
    }
   ],
   "source": [
    "present = 'YES'\n",
    "\n",
    "if present.lower() == 'yes':\n",
    "    print('Peter was present in the class today')"
   ]
  },
  {
   "cell_type": "code",
   "execution_count": 94,
   "id": "cf7bbed7",
   "metadata": {},
   "outputs": [
    {
     "name": "stdout",
     "output_type": "stream",
     "text": [
      "Peter took permission\n"
     ]
    }
   ],
   "source": [
    "present = 'pg'\n",
    "\n",
    "if present == 'yes':\n",
    "    print('Peter was present in the class today')\n",
    "    \n",
    "elif present == 'pg':\n",
    "    print('Peter took permission')"
   ]
  },
  {
   "cell_type": "code",
   "execution_count": 96,
   "id": "3b51485a",
   "metadata": {},
   "outputs": [],
   "source": [
    "# elif is an abbreviation of else if"
   ]
  },
  {
   "cell_type": "code",
   "execution_count": 97,
   "id": "c697aff4",
   "metadata": {},
   "outputs": [
    {
     "name": "stdout",
     "output_type": "stream",
     "text": [
      "Obviously, Peter wasnt in class\n"
     ]
    }
   ],
   "source": [
    "present = 'no'\n",
    "\n",
    "if present == 'yes':\n",
    "    print('Peter was present in the class today')\n",
    "    \n",
    "elif present == 'pg':\n",
    "    print('Peter took permission')\n",
    "    \n",
    "elif present == 'no':\n",
    "    print('Obviously, Peter wasnt in class')\n",
    "    \n",
    "else:\n",
    "    print('I dont know the whereabout of Peter')"
   ]
  },
  {
   "cell_type": "code",
   "execution_count": 99,
   "id": "ab77f9d1",
   "metadata": {},
   "outputs": [
    {
     "name": "stdout",
     "output_type": "stream",
     "text": [
      "I dont know the whereabout of Peter\n"
     ]
    }
   ],
   "source": [
    "present = 345\n",
    "\n",
    "if present == 'yes':\n",
    "    print('Peter was present in the class today')\n",
    "    \n",
    "elif present == 'pg':\n",
    "    print('Peter took permission')\n",
    "    \n",
    "elif present == 'no':\n",
    "    print('Obviously, Peter wasnt in class')\n",
    "    \n",
    "else:\n",
    "    print('I dont know the whereabout of Peter')"
   ]
  },
  {
   "cell_type": "code",
   "execution_count": 84,
   "id": "fb17c08e",
   "metadata": {},
   "outputs": [
    {
     "data": {
      "text/plain": [
       "False"
      ]
     },
     "execution_count": 84,
     "metadata": {},
     "output_type": "execute_result"
    }
   ],
   "source": [
    "present == 'Yes'"
   ]
  },
  {
   "cell_type": "code",
   "execution_count": 89,
   "id": "24d7b90b",
   "metadata": {},
   "outputs": [
    {
     "data": {
      "text/plain": [
       "False"
      ]
     },
     "execution_count": 89,
     "metadata": {},
     "output_type": "execute_result"
    }
   ],
   "source": [
    "56 < 56"
   ]
  },
  {
   "cell_type": "code",
   "execution_count": 90,
   "id": "5652cd45",
   "metadata": {},
   "outputs": [
    {
     "data": {
      "text/plain": [
       "True"
      ]
     },
     "execution_count": 90,
     "metadata": {},
     "output_type": "execute_result"
    }
   ],
   "source": [
    "56 <= 56"
   ]
  },
  {
   "cell_type": "code",
   "execution_count": null,
   "id": "32a4fc2b",
   "metadata": {},
   "outputs": [],
   "source": []
  },
  {
   "cell_type": "code",
   "execution_count": null,
   "id": "e14f4c87",
   "metadata": {},
   "outputs": [],
   "source": []
  },
  {
   "cell_type": "markdown",
   "id": "d945e1ed",
   "metadata": {},
   "source": [
    "\n",
    "### Loops\n",
    "\n",
    "Loops are used to execute a block of code repeatedly.\n",
    "\n",
    "#### For Loop\n",
    "```python\n",
    "for i in range(5):\n",
    "    print(i)\n",
    "```"
   ]
  },
  {
   "cell_type": "code",
   "execution_count": 101,
   "id": "e5895221",
   "metadata": {},
   "outputs": [
    {
     "data": {
      "text/plain": [
       "[0, 1, 2, 3, 4]"
      ]
     },
     "execution_count": 101,
     "metadata": {},
     "output_type": "execute_result"
    }
   ],
   "source": [
    "list(range(5))"
   ]
  },
  {
   "cell_type": "code",
   "execution_count": 104,
   "id": "eb5bbd54",
   "metadata": {},
   "outputs": [
    {
     "name": "stdout",
     "output_type": "stream",
     "text": [
      "0\n",
      "0\n",
      "1\n",
      "50\n",
      "2\n",
      "100\n",
      "3\n",
      "150\n",
      "4\n",
      "200\n"
     ]
    }
   ],
   "source": [
    "for i in range(5):\n",
    "    print(i)\n",
    "    \n",
    "    print(i * 50)"
   ]
  },
  {
   "cell_type": "code",
   "execution_count": 105,
   "id": "df5555bd",
   "metadata": {},
   "outputs": [
    {
     "data": {
      "text/plain": [
       "['Kelechi',\n",
       " 'Peter',\n",
       " 'John',\n",
       " 'Jacob',\n",
       " 'Alexander',\n",
       " 'Salami',\n",
       " 'David',\n",
       " 'Dayo',\n",
       " 'Jacob',\n",
       " 'Olamilekan',\n",
       " 'Peter']"
      ]
     },
     "execution_count": 105,
     "metadata": {},
     "output_type": "execute_result"
    }
   ],
   "source": [
    "name"
   ]
  },
  {
   "cell_type": "code",
   "execution_count": 107,
   "id": "e5f160ae",
   "metadata": {},
   "outputs": [
    {
     "name": "stdout",
     "output_type": "stream",
     "text": [
      "KELECHI was present in class today\n",
      "PETER was present in class today\n",
      "JOHN was present in class today\n",
      "JACOB was present in class today\n",
      "ALEXANDER was present in class today\n",
      "SALAMI was present in class today\n",
      "DAVID was present in class today\n",
      "DAYO was present in class today\n",
      "JACOB was present in class today\n",
      "OLAMILEKAN was present in class today\n",
      "PETER was present in class today\n"
     ]
    }
   ],
   "source": [
    "for student in name:\n",
    "    print(student.upper(), 'was present in class today')"
   ]
  },
  {
   "cell_type": "markdown",
   "id": "561e74c7",
   "metadata": {},
   "source": [
    "#### While Loop\n",
    "```python\n",
    "count = 0\n",
    "while count < 5:\n",
    "    print(count)\n",
    "    count += 1\n",
    "```\n",
    "\n"
   ]
  },
  {
   "cell_type": "code",
   "execution_count": 112,
   "id": "2f2329ab",
   "metadata": {},
   "outputs": [
    {
     "name": "stdout",
     "output_type": "stream",
     "text": [
      "There is still a student in class\n",
      "There is still a student in class\n",
      "There is still a student in class\n",
      "There is still a student in class\n",
      "There is still a student in class\n",
      "There is still a student in class\n",
      "There is still a student in class\n",
      "There is still a student in class\n",
      "There is still a student in class\n",
      "There is still a student in class\n"
     ]
    }
   ],
   "source": [
    "number_students = 10\n",
    "\n",
    "while number_students > 0:\n",
    "    print('There is still a student in class')\n",
    "#     number_students = number_students - 1\n",
    "    number_students -= 1"
   ]
  },
  {
   "cell_type": "code",
   "execution_count": null,
   "id": "cb0eeb77",
   "metadata": {},
   "outputs": [],
   "source": []
  },
  {
   "cell_type": "code",
   "execution_count": null,
   "id": "9d08e79a",
   "metadata": {},
   "outputs": [],
   "source": []
  },
  {
   "cell_type": "code",
   "execution_count": null,
   "id": "f7717bf8",
   "metadata": {},
   "outputs": [],
   "source": []
  },
  {
   "cell_type": "code",
   "execution_count": 6,
   "id": "fd522846",
   "metadata": {},
   "outputs": [
    {
     "name": "stdout",
     "output_type": "stream",
     "text": [
      "The number is positive\n"
     ]
    }
   ],
   "source": [
    "number = 67\n",
    "\n",
    "if number > 0:\n",
    "    print('The number is positive')\n",
    "    \n",
    "elif number == 0:\n",
    "    print('The number is zero')\n",
    "    \n",
    "else:\n",
    "    print('The number is Negative')"
   ]
  },
  {
   "cell_type": "code",
   "execution_count": 12,
   "id": "b963971d",
   "metadata": {},
   "outputs": [
    {
     "name": "stdout",
     "output_type": "stream",
     "text": [
      "The number 1 is positive\n",
      "The number -1 is Negative\n",
      "The number 10 is positive\n",
      "The number 30 is positive\n",
      "The number 0 is zero\n",
      "The number 50 is positive\n",
      "The number -3 is Negative\n"
     ]
    }
   ],
   "source": [
    "numbers = [1, -1, 10, 30, 0, 50, -3]\n",
    "\n",
    "for number in  numbers:\n",
    "    if number > 0:\n",
    "        print('The number {} is positive'.format(number))\n",
    "\n",
    "    elif number == 0:\n",
    "        print('The number {} is zero'.format(number))\n",
    "\n",
    "    else:\n",
    "        print('The number {} is Negative'.format(number))"
   ]
  },
  {
   "cell_type": "code",
   "execution_count": 23,
   "id": "f9fba126",
   "metadata": {},
   "outputs": [],
   "source": [
    "#this is a function\n",
    "def number_checker(num):\n",
    "    if num > 0:\n",
    "        print('The number {} is be positive'.format(num))\n",
    "\n",
    "    elif num == 0:\n",
    "        print('The number {} is be zero'.format(num))\n",
    "\n",
    "    else:\n",
    "        print('The number {} is Negative'.format(num))"
   ]
  },
  {
   "cell_type": "code",
   "execution_count": 21,
   "id": "0723fed7",
   "metadata": {},
   "outputs": [
    {
     "name": "stdout",
     "output_type": "stream",
     "text": [
      "The number 0 is be zero\n"
     ]
    }
   ],
   "source": [
    "number_checker(0)"
   ]
  },
  {
   "cell_type": "code",
   "execution_count": 22,
   "id": "b310988f",
   "metadata": {},
   "outputs": [
    {
     "name": "stdout",
     "output_type": "stream",
     "text": [
      "The number 90 is be positive\n"
     ]
    }
   ],
   "source": [
    "number_checker(90)"
   ]
  },
  {
   "cell_type": "code",
   "execution_count": 24,
   "id": "3b13a2ef",
   "metadata": {},
   "outputs": [
    {
     "name": "stdout",
     "output_type": "stream",
     "text": [
      "The number 1 is be positive\n",
      "The number -1 is Negative\n",
      "The number 10 is be positive\n",
      "The number 30 is be positive\n",
      "The number 0 is be zero\n",
      "The number 50 is be positive\n",
      "The number -3 is Negative\n"
     ]
    }
   ],
   "source": [
    "numbers = [1, -1, 10, 30, 0, 50, -3]\n",
    "\n",
    "for number in  numbers:\n",
    "    number_checker(number)"
   ]
  },
  {
   "cell_type": "code",
   "execution_count": 8,
   "id": "81de4e30",
   "metadata": {
    "scrolled": true
   },
   "outputs": [
    {
     "name": "stdout",
     "output_type": "stream",
     "text": [
      "The car name is Camry\n",
      "The car name is Lexus\n",
      "The car name is Benz\n",
      "The car name is Hilux\n",
      "The car name is Honda\n"
     ]
    }
   ],
   "source": [
    "cars = ['Camry', 'Lexus', 'Benz', 'Hilux', 'Honda']\n",
    "\n",
    "for car in cars:\n",
    "    print('The car name is', car)"
   ]
  },
  {
   "cell_type": "code",
   "execution_count": 25,
   "id": "327c0678",
   "metadata": {},
   "outputs": [],
   "source": [
    "tup = (1, 'name', 80, [1,3,5])"
   ]
  },
  {
   "cell_type": "code",
   "execution_count": 26,
   "id": "f95ee4ea",
   "metadata": {},
   "outputs": [
    {
     "data": {
      "text/plain": [
       "(1, 'name', 80, [1, 3, 5])"
      ]
     },
     "execution_count": 26,
     "metadata": {},
     "output_type": "execute_result"
    }
   ],
   "source": [
    "tup"
   ]
  },
  {
   "cell_type": "code",
   "execution_count": 28,
   "id": "d1516bde",
   "metadata": {},
   "outputs": [
    {
     "name": "stdout",
     "output_type": "stream",
     "text": [
      "The car name is Camry\n",
      "The car name is Benz\n",
      "The car name is Lexus\n",
      "The car name is Hilux\n",
      "The car name is Honda\n"
     ]
    }
   ],
   "source": [
    "cars = {'Camry', 'Lexus', 'Benz', 'Hilux', 'Honda', 'Camry', 'Benz'}\n",
    "\n",
    "for car in cars:\n",
    "    print('The car name is', car)"
   ]
  },
  {
   "cell_type": "code",
   "execution_count": 31,
   "id": "b4807b48",
   "metadata": {},
   "outputs": [
    {
     "name": "stdout",
     "output_type": "stream",
     "text": [
      "Male\n"
     ]
    }
   ],
   "source": [
    "info = {'name':'Olamilekan', 'gender': 'Male'}\n",
    "\n",
    "print(info['gender'])"
   ]
  },
  {
   "cell_type": "markdown",
   "id": "f9f2582b",
   "metadata": {},
   "source": [
    "### Exercises\n",
    "1. Write a Python program to check if a number is positive, negative or zero.\n",
    "2. Create a list of five elements and use a 'for' loop to print each element.\n",
    "3. Write a Python program to create a tuple with different data types.\n",
    "4. Make a set with five numbers and use a 'for' loop to display the set elements.\n",
    "5. Create a dictionary with two keys and values, then print one of the values.\n",
    "\n",
    "#### Scenario: \n",
    "- You have a Python program that stores the names and scores of players in a game. Initially, you used two separate lists to store this information. How could you refactor this program to use a more appropriate data structure for easier access and manipulation of this data?\n",
    "\n",
    "- You need to store a sequence of email addresses entered by users on a website form. The order in which the email addresses are entered should be preserved.\n",
    "\n",
    "\n",
    "- An online store requires a way to keep track of each product's name and its corresponding price.\n",
    "\n",
    "- In an application, you want to ensure that all usernames are unique and you frequently check if a username has already been taken.\n",
    "\n",
    "\n",
    "- You're developing a mapping application and need to store the latitude and longitude of various points of interest. Once set, these coordinates should not be altered.\n",
    "\n",
    "\n",
    "- A library system needs to store information about each book, such as the title, author, ISBN, and publication year.\n",
    "\n",
    "\n",
    "- For a classroom management system, you need to store a list of students along with each student's list of grades over the semester.\n",
    "\n",
    "\n",
    "- You are analyzing email data and need to keep a collection of unique email domains (the part after \"@\") encountered in a dataset.\n",
    "\n",
    "- An airport management system needs to store direct flight routes between cities, ensuring quick checks for the existence of a route and easy updates as new routes are added.\n",
    "\n",
    "- In a coding challenge platform, you need to track the progress of participants. For each participant, you want to store their username, the total number of challenges they've attempted, the number of challenges they've completed, and their overall score."
   ]
  },
  {
   "cell_type": "markdown",
   "id": "9ad9c81b",
   "metadata": {},
   "source": [
    "##### Scenario 1\n",
    "\n",
    "Dictionary"
   ]
  },
  {
   "cell_type": "code",
   "execution_count": null,
   "id": "a711aa18",
   "metadata": {},
   "outputs": [],
   "source": [
    "player = {'Tunde':[3, 1, 90], 'John':[2, 4, 89]}"
   ]
  },
  {
   "cell_type": "code",
   "execution_count": 32,
   "id": "78cc858f",
   "metadata": {},
   "outputs": [],
   "source": [
    "game = {'player_name':['Lekan', 'Tunde', 'Jacob', 'SQ'], 'scores':[80, 79, 90, 100]}"
   ]
  },
  {
   "cell_type": "code",
   "execution_count": 33,
   "id": "59eb7a30",
   "metadata": {},
   "outputs": [],
   "source": [
    "email = ['.gmail.com', 'yahoo.com']"
   ]
  },
  {
   "cell_type": "code",
   "execution_count": 37,
   "id": "7cdf520d",
   "metadata": {},
   "outputs": [],
   "source": [
    "products = {'name':['bread', 'rice', 'garri', 'butter'], 'price':[800, 709, 9000, 10000]}\n",
    "\n",
    "#enumerate"
   ]
  },
  {
   "cell_type": "code",
   "execution_count": 36,
   "id": "708ba493",
   "metadata": {},
   "outputs": [],
   "source": [
    "products = {'bread':800, 'rice':709, 'garri':80, 'butter':1000}"
   ]
  },
  {
   "cell_type": "code",
   "execution_count": null,
   "id": "15e59d30",
   "metadata": {},
   "outputs": [],
   "source": [
    "location = ((10.8, 90.4), (14.7, 809.8))"
   ]
  },
  {
   "cell_type": "code",
   "execution_count": 1,
   "id": "3daaa49d",
   "metadata": {},
   "outputs": [
    {
     "ename": "SyntaxError",
     "evalue": "invalid syntax (1622636963.py, line 1)",
     "output_type": "error",
     "traceback": [
      "\u001b[1;36m  Input \u001b[1;32mIn [1]\u001b[1;36m\u001b[0m\n\u001b[1;33m    Google colab\u001b[0m\n\u001b[1;37m           ^\u001b[0m\n\u001b[1;31mSyntaxError\u001b[0m\u001b[1;31m:\u001b[0m invalid syntax\n"
     ]
    }
   ],
   "source": [
    "Google colab\n",
    "Markdown"
   ]
  },
  {
   "cell_type": "code",
   "execution_count": null,
   "id": "83219cf6",
   "metadata": {},
   "outputs": [],
   "source": []
  }
 ],
 "metadata": {
  "kernelspec": {
   "display_name": "Python 3 (ipykernel)",
   "language": "python",
   "name": "python3"
  },
  "language_info": {
   "codemirror_mode": {
    "name": "ipython",
    "version": 3
   },
   "file_extension": ".py",
   "mimetype": "text/x-python",
   "name": "python",
   "nbconvert_exporter": "python",
   "pygments_lexer": "ipython3",
   "version": "3.9.12"
  }
 },
 "nbformat": 4,
 "nbformat_minor": 5
}
