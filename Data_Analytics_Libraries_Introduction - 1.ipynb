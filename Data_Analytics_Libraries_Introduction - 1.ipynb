{
 "cells": [
  {
   "cell_type": "markdown",
   "id": "337c07a1",
   "metadata": {},
   "source": [
    "\n",
    "# Introduction to Data Analytics Libraries\n",
    "\n",
    "Data analytics involves analyzing raw data to find trends and answer questions. The Python ecosystem has robust libraries for data analytics; Numpy, Pandas, and Seaborn are foundational tools that enable efficient data analysis and visualization.\n",
    "\n",
    "## Numpy\n",
    "Numpy is a library for the Python programming language, adding support for large, multi-dimensional arrays and matrices, along with a large collection of high-level mathematical functions to operate on these arrays.\n",
    "\n",
    "## Pandas\n",
    "Pandas is an open-source, BSD-licensed library providing high-performance, easy-to-use data structures and data analysis tools for the Python programming language.\n",
    "\n",
    "## Seaborn\n",
    "Seaborn is a Python visualization library based on matplotlib. It provides a high-level interface for drawing attractive and informative statistical graphics.\n"
   ]
  },
  {
   "cell_type": "markdown",
   "id": "bba4a296",
   "metadata": {},
   "source": [
    "\n",
    "## Getting Started with Numpy\n",
    "\n",
    "Numpy is the core library for numerical computations in Python. It provides a high-performance multidimensional array object and tools for working with these arrays."
   ]
  },
  {
   "cell_type": "markdown",
   "id": "307fb6c1",
   "metadata": {},
   "source": [
    "\n",
    "### Basic Numpy Arrays\n",
    "```python\n",
    "import numpy as np\n",
    "\n",
    "a = np.array([1, 2, 3])\n",
    "print(a)\n",
    "```"
   ]
  },
  {
   "cell_type": "code",
   "execution_count": null,
   "id": "4fa07666",
   "metadata": {},
   "outputs": [],
   "source": [
    "#import statement"
   ]
  },
  {
   "cell_type": "code",
   "execution_count": null,
   "id": "a1679135",
   "metadata": {},
   "outputs": [],
   "source": [
    "# for new installation you us\n",
    "#pip install numpy"
   ]
  },
  {
   "cell_type": "code",
   "execution_count": 55,
   "id": "5b49caf4",
   "metadata": {},
   "outputs": [],
   "source": [
    "import numpy"
   ]
  },
  {
   "cell_type": "code",
   "execution_count": 24,
   "id": "a0aa7996",
   "metadata": {},
   "outputs": [],
   "source": [
    "#np as the alias because of convention\n",
    "import numpy as np"
   ]
  },
  {
   "cell_type": "code",
   "execution_count": 19,
   "id": "557b7b56",
   "metadata": {},
   "outputs": [],
   "source": [
    "# single dimension array\n",
    "arr1 = np.array([1,3,5,7,4,6])"
   ]
  },
  {
   "cell_type": "code",
   "execution_count": 20,
   "id": "dae092a3",
   "metadata": {},
   "outputs": [
    {
     "data": {
      "text/plain": [
       "numpy.ndarray"
      ]
     },
     "execution_count": 20,
     "metadata": {},
     "output_type": "execute_result"
    }
   ],
   "source": [
    "type(arr1)"
   ]
  },
  {
   "cell_type": "code",
   "execution_count": 21,
   "id": "ea975c49",
   "metadata": {},
   "outputs": [
    {
     "data": {
      "text/plain": [
       "array([1, 3, 5, 7, 4, 6])"
      ]
     },
     "execution_count": 21,
     "metadata": {},
     "output_type": "execute_result"
    }
   ],
   "source": [
    "arr1"
   ]
  },
  {
   "cell_type": "code",
   "execution_count": 22,
   "id": "c37abcf5",
   "metadata": {},
   "outputs": [
    {
     "data": {
      "text/plain": [
       "array([[1, 3, 5, 7],\n",
       "       [2, 5, 7, 8]])"
      ]
     },
     "execution_count": 22,
     "metadata": {},
     "output_type": "execute_result"
    }
   ],
   "source": [
    "#2d array\n",
    "np.array([[1,3,5,7],[2,5,7,8]])"
   ]
  },
  {
   "cell_type": "code",
   "execution_count": 23,
   "id": "509fd39b",
   "metadata": {},
   "outputs": [
    {
     "data": {
      "text/plain": [
       "array([[1., 3., 5., 7.],\n",
       "       [2., 5., 7., 8.]])"
      ]
     },
     "execution_count": 23,
     "metadata": {},
     "output_type": "execute_result"
    }
   ],
   "source": [
    "#2d array\n",
    "np.array([[1,3,5,7],[2,5,7,8]], dtype=float)"
   ]
  },
  {
   "cell_type": "code",
   "execution_count": 32,
   "id": "3a2766cd",
   "metadata": {},
   "outputs": [],
   "source": [
    "dim = np.array([[1,3,5,7],[2,5,7,8]], dtype=float)"
   ]
  },
  {
   "cell_type": "code",
   "execution_count": 34,
   "id": "071029c3",
   "metadata": {},
   "outputs": [
    {
     "data": {
      "text/plain": [
       "(2, 4)"
      ]
     },
     "execution_count": 34,
     "metadata": {},
     "output_type": "execute_result"
    }
   ],
   "source": [
    "# shape or dimension\n",
    "dim.shape\n",
    "\n",
    "# 2 rows, 4 columns"
   ]
  },
  {
   "cell_type": "code",
   "execution_count": null,
   "id": "434d12a5",
   "metadata": {},
   "outputs": [],
   "source": []
  },
  {
   "cell_type": "markdown",
   "id": "4871ca9b",
   "metadata": {},
   "source": [
    "### Operations with Numpy Arrays\n",
    "Numpy arrays support various operations, which are performed element-wise.\n",
    "```python\n",
    "b = np.array([4, 5, 6])\n",
    "\n",
    "# Element-wise addition\n",
    "print(a + b)\n",
    "\n",
    "# Element-wise multiplication\n",
    "print(a * b)\n",
    "```"
   ]
  },
  {
   "cell_type": "code",
   "execution_count": 25,
   "id": "35439c66",
   "metadata": {},
   "outputs": [
    {
     "data": {
      "text/plain": [
       "array([1, 3, 5, 7, 4, 6])"
      ]
     },
     "execution_count": 25,
     "metadata": {},
     "output_type": "execute_result"
    }
   ],
   "source": [
    "arr1"
   ]
  },
  {
   "cell_type": "code",
   "execution_count": 26,
   "id": "404badb0",
   "metadata": {},
   "outputs": [],
   "source": [
    "list2 = [3, 5, 6, 8, 10, 15]"
   ]
  },
  {
   "cell_type": "code",
   "execution_count": 27,
   "id": "65f3f9d7",
   "metadata": {},
   "outputs": [],
   "source": [
    "arr2 = np.array(list2)"
   ]
  },
  {
   "cell_type": "code",
   "execution_count": 28,
   "id": "0d94fecb",
   "metadata": {},
   "outputs": [
    {
     "data": {
      "text/plain": [
       "array([ 3,  5,  6,  8, 10, 15])"
      ]
     },
     "execution_count": 28,
     "metadata": {},
     "output_type": "execute_result"
    }
   ],
   "source": [
    "arr2"
   ]
  },
  {
   "cell_type": "code",
   "execution_count": 29,
   "id": "682a443b",
   "metadata": {},
   "outputs": [
    {
     "data": {
      "text/plain": [
       "array([ 4,  8, 11, 15, 14, 21])"
      ]
     },
     "execution_count": 29,
     "metadata": {},
     "output_type": "execute_result"
    }
   ],
   "source": [
    "arr1 + arr2"
   ]
  },
  {
   "cell_type": "code",
   "execution_count": 30,
   "id": "3cd33649",
   "metadata": {},
   "outputs": [],
   "source": [
    "# no element-wise with different shape\n",
    "\n",
    "arr3 = np.array([2,4,6])"
   ]
  },
  {
   "cell_type": "code",
   "execution_count": 31,
   "id": "a8dd8913",
   "metadata": {},
   "outputs": [
    {
     "ename": "ValueError",
     "evalue": "operands could not be broadcast together with shapes (6,) (3,) ",
     "output_type": "error",
     "traceback": [
      "\u001b[1;31m---------------------------------------------------------------------------\u001b[0m",
      "\u001b[1;31mValueError\u001b[0m                                Traceback (most recent call last)",
      "Input \u001b[1;32mIn [31]\u001b[0m, in \u001b[0;36m<cell line: 1>\u001b[1;34m()\u001b[0m\n\u001b[1;32m----> 1\u001b[0m \u001b[43marr1\u001b[49m\u001b[43m \u001b[49m\u001b[38;5;241;43m+\u001b[39;49m\u001b[43m \u001b[49m\u001b[43marr3\u001b[49m\n",
      "\u001b[1;31mValueError\u001b[0m: operands could not be broadcast together with shapes (6,) (3,) "
     ]
    }
   ],
   "source": [
    "arr1 + arr3"
   ]
  },
  {
   "cell_type": "code",
   "execution_count": 35,
   "id": "727a31f0",
   "metadata": {},
   "outputs": [],
   "source": [
    "#broadcasting"
   ]
  },
  {
   "cell_type": "code",
   "execution_count": 36,
   "id": "456570d9",
   "metadata": {},
   "outputs": [
    {
     "data": {
      "text/plain": [
       "[3, 5, 6, 8, 10, 15]"
      ]
     },
     "execution_count": 36,
     "metadata": {},
     "output_type": "execute_result"
    }
   ],
   "source": [
    "list2"
   ]
  },
  {
   "cell_type": "code",
   "execution_count": 39,
   "id": "10ce2e78",
   "metadata": {},
   "outputs": [
    {
     "name": "stdout",
     "output_type": "stream",
     "text": [
      "8\n",
      "10\n",
      "11\n",
      "13\n",
      "15\n",
      "20\n"
     ]
    }
   ],
   "source": [
    "for i in list2:\n",
    "    print(i + 5)"
   ]
  },
  {
   "cell_type": "code",
   "execution_count": 40,
   "id": "d2776db0",
   "metadata": {},
   "outputs": [
    {
     "data": {
      "text/plain": [
       "array([1, 3, 5, 7, 4, 6])"
      ]
     },
     "execution_count": 40,
     "metadata": {},
     "output_type": "execute_result"
    }
   ],
   "source": [
    "arr1"
   ]
  },
  {
   "cell_type": "code",
   "execution_count": 44,
   "id": "95777bfa",
   "metadata": {},
   "outputs": [
    {
     "data": {
      "text/plain": [
       "array([ 5, 15, 25, 35, 20, 30])"
      ]
     },
     "execution_count": 44,
     "metadata": {},
     "output_type": "execute_result"
    }
   ],
   "source": [
    "#broadcasting\n",
    "arr1 * 5"
   ]
  },
  {
   "cell_type": "code",
   "execution_count": null,
   "id": "4be7684d",
   "metadata": {},
   "outputs": [],
   "source": []
  },
  {
   "cell_type": "code",
   "execution_count": null,
   "id": "6f83ee70",
   "metadata": {},
   "outputs": [],
   "source": []
  },
  {
   "cell_type": "code",
   "execution_count": null,
   "id": "40c9a9f0",
   "metadata": {},
   "outputs": [],
   "source": []
  },
  {
   "cell_type": "markdown",
   "id": "b8e1fc5c",
   "metadata": {},
   "source": [
    "### Working with Mathematical Functions\n",
    "Numpy provides a vast array of mathematical functions to perform operations on arrays."
   ]
  },
  {
   "cell_type": "code",
   "execution_count": null,
   "id": "4a504c7e",
   "metadata": {},
   "outputs": [],
   "source": [
    "square root\n",
    "mean\n",
    "max\n",
    "min\n",
    "avg\n",
    "ceil\n",
    "log\n"
   ]
  },
  {
   "cell_type": "code",
   "execution_count": 46,
   "id": "cddbb8f1",
   "metadata": {},
   "outputs": [
    {
     "data": {
      "text/plain": [
       "array([1, 3, 5, 7, 4, 6])"
      ]
     },
     "execution_count": 46,
     "metadata": {},
     "output_type": "execute_result"
    }
   ],
   "source": [
    "arr1"
   ]
  },
  {
   "cell_type": "code",
   "execution_count": 45,
   "id": "5684df8a",
   "metadata": {},
   "outputs": [
    {
     "data": {
      "text/plain": [
       "7"
      ]
     },
     "execution_count": 45,
     "metadata": {},
     "output_type": "execute_result"
    }
   ],
   "source": [
    "np.max(arr1)"
   ]
  },
  {
   "cell_type": "code",
   "execution_count": 47,
   "id": "3e539650",
   "metadata": {},
   "outputs": [
    {
     "data": {
      "text/plain": [
       "1"
      ]
     },
     "execution_count": 47,
     "metadata": {},
     "output_type": "execute_result"
    }
   ],
   "source": [
    "np.min(arr1)"
   ]
  },
  {
   "cell_type": "code",
   "execution_count": 48,
   "id": "e257b62c",
   "metadata": {},
   "outputs": [
    {
     "data": {
      "text/plain": [
       "4.333333333333333"
      ]
     },
     "execution_count": 48,
     "metadata": {},
     "output_type": "execute_result"
    }
   ],
   "source": [
    "np.average(arr1)"
   ]
  },
  {
   "cell_type": "code",
   "execution_count": 49,
   "id": "f23a5aed",
   "metadata": {},
   "outputs": [
    {
     "data": {
      "text/plain": [
       "26"
      ]
     },
     "execution_count": 49,
     "metadata": {},
     "output_type": "execute_result"
    }
   ],
   "source": [
    "np.sum(arr1)"
   ]
  },
  {
   "cell_type": "code",
   "execution_count": 50,
   "id": "9455c74d",
   "metadata": {},
   "outputs": [
    {
     "data": {
      "text/plain": [
       "array([1.        , 1.73205081, 2.23606798, 2.64575131, 2.        ,\n",
       "       2.44948974])"
      ]
     },
     "execution_count": 50,
     "metadata": {},
     "output_type": "execute_result"
    }
   ],
   "source": [
    "#this is done element-wise\n",
    "np.sqrt(arr1)"
   ]
  },
  {
   "cell_type": "code",
   "execution_count": 51,
   "id": "c6c15ceb",
   "metadata": {},
   "outputs": [
    {
     "data": {
      "text/plain": [
       "array([ 1,  9, 25, 49, 16, 36], dtype=int32)"
      ]
     },
     "execution_count": 51,
     "metadata": {},
     "output_type": "execute_result"
    }
   ],
   "source": [
    "np.square(arr1)"
   ]
  },
  {
   "cell_type": "code",
   "execution_count": 53,
   "id": "ef533ecb",
   "metadata": {},
   "outputs": [
    {
     "data": {
      "text/plain": [
       "array([   2.71828183,   20.08553692,  148.4131591 , 1096.63315843,\n",
       "         54.59815003,  403.42879349])"
      ]
     },
     "execution_count": 53,
     "metadata": {},
     "output_type": "execute_result"
    }
   ],
   "source": [
    "np.exp(arr1)"
   ]
  },
  {
   "cell_type": "code",
   "execution_count": 54,
   "id": "5a301af9",
   "metadata": {},
   "outputs": [
    {
     "data": {
      "text/plain": [
       "array([1.09861229, 1.60943791, 1.79175947, 2.07944154, 2.30258509,\n",
       "       2.7080502 ])"
      ]
     },
     "execution_count": 54,
     "metadata": {},
     "output_type": "execute_result"
    }
   ],
   "source": [
    "np.log(arr2)"
   ]
  },
  {
   "cell_type": "code",
   "execution_count": null,
   "id": "ca9a0a87",
   "metadata": {},
   "outputs": [],
   "source": [
    "# Mathematical functions\n",
    "np.sqrt(arr)\n",
    "np.log(arr)"
   ]
  },
  {
   "cell_type": "code",
   "execution_count": null,
   "id": "18c831cb",
   "metadata": {},
   "outputs": [],
   "source": []
  },
  {
   "cell_type": "code",
   "execution_count": null,
   "id": "2fe9955c",
   "metadata": {},
   "outputs": [],
   "source": []
  },
  {
   "cell_type": "markdown",
   "id": "5b5c8ff3",
   "metadata": {},
   "source": [
    "\n",
    "## Exploring Data with Pandas\n",
    "\n",
    "Pandas is a library offering high-performance, easy-to-use data structures, and data analysis tools. The DataFrame is one of Pandas' most important classes.\n"
   ]
  },
  {
   "cell_type": "markdown",
   "id": "b200d1a4",
   "metadata": {},
   "source": [
    "### Creating a DataFrame\n",
    "```python\n",
    "import pandas as pd\n",
    "\n",
    "data = {'Name': ['John', 'Anna', 'Peter', 'Linda'],\n",
    "        'Age': [28, 34, 29, 32]}\n",
    "df = pd.DataFrame(data)\n",
    "print(df)\n",
    "```"
   ]
  },
  {
   "cell_type": "code",
   "execution_count": 59,
   "id": "0ef1e72c",
   "metadata": {},
   "outputs": [],
   "source": [
    "import pandas as pd"
   ]
  },
  {
   "cell_type": "code",
   "execution_count": null,
   "id": "e1e2c485",
   "metadata": {},
   "outputs": [],
   "source": [
    "#you create a dataframe using a dictionary"
   ]
  },
  {
   "cell_type": "code",
   "execution_count": 62,
   "id": "44def9a2",
   "metadata": {},
   "outputs": [],
   "source": [
    "data = {'Name': ['Lekan', 'Olaoluwa', 'Peter', 'Suliman'], 'Age': [20,35, 70, 90], 'Income':[5000, 7000, 8000, 6500]}"
   ]
  },
  {
   "cell_type": "code",
   "execution_count": 70,
   "id": "5521af56",
   "metadata": {},
   "outputs": [
    {
     "data": {
      "text/plain": [
       "{'Name': ['Lekan', 'Olaoluwa', 'Peter', 'Suliman'],\n",
       " 'Age': [20, 35, 70, 90],\n",
       " 'Income': [5000, 7000, 8000, 6500]}"
      ]
     },
     "execution_count": 70,
     "metadata": {},
     "output_type": "execute_result"
    }
   ],
   "source": [
    "data"
   ]
  },
  {
   "cell_type": "code",
   "execution_count": 63,
   "id": "1437fd72",
   "metadata": {},
   "outputs": [
    {
     "data": {
      "text/plain": [
       "dict"
      ]
     },
     "execution_count": 63,
     "metadata": {},
     "output_type": "execute_result"
    }
   ],
   "source": [
    "type(data)"
   ]
  },
  {
   "cell_type": "code",
   "execution_count": 64,
   "id": "ad0b5456",
   "metadata": {},
   "outputs": [
    {
     "data": {
      "text/html": [
       "<div>\n",
       "<style scoped>\n",
       "    .dataframe tbody tr th:only-of-type {\n",
       "        vertical-align: middle;\n",
       "    }\n",
       "\n",
       "    .dataframe tbody tr th {\n",
       "        vertical-align: top;\n",
       "    }\n",
       "\n",
       "    .dataframe thead th {\n",
       "        text-align: right;\n",
       "    }\n",
       "</style>\n",
       "<table border=\"1\" class=\"dataframe\">\n",
       "  <thead>\n",
       "    <tr style=\"text-align: right;\">\n",
       "      <th></th>\n",
       "      <th>Name</th>\n",
       "      <th>Age</th>\n",
       "      <th>Income</th>\n",
       "    </tr>\n",
       "  </thead>\n",
       "  <tbody>\n",
       "    <tr>\n",
       "      <th>0</th>\n",
       "      <td>Lekan</td>\n",
       "      <td>20</td>\n",
       "      <td>5000</td>\n",
       "    </tr>\n",
       "    <tr>\n",
       "      <th>1</th>\n",
       "      <td>Olaoluwa</td>\n",
       "      <td>35</td>\n",
       "      <td>7000</td>\n",
       "    </tr>\n",
       "    <tr>\n",
       "      <th>2</th>\n",
       "      <td>Peter</td>\n",
       "      <td>70</td>\n",
       "      <td>8000</td>\n",
       "    </tr>\n",
       "    <tr>\n",
       "      <th>3</th>\n",
       "      <td>Suliman</td>\n",
       "      <td>90</td>\n",
       "      <td>6500</td>\n",
       "    </tr>\n",
       "  </tbody>\n",
       "</table>\n",
       "</div>"
      ],
      "text/plain": [
       "       Name  Age  Income\n",
       "0     Lekan   20    5000\n",
       "1  Olaoluwa   35    7000\n",
       "2     Peter   70    8000\n",
       "3   Suliman   90    6500"
      ]
     },
     "execution_count": 64,
     "metadata": {},
     "output_type": "execute_result"
    }
   ],
   "source": [
    "pd.DataFrame(data)"
   ]
  },
  {
   "cell_type": "code",
   "execution_count": 65,
   "id": "a3a30d7a",
   "metadata": {},
   "outputs": [],
   "source": [
    "#storing to a variable\n",
    "df = pd.DataFrame(data)"
   ]
  },
  {
   "cell_type": "code",
   "execution_count": 66,
   "id": "731b2933",
   "metadata": {},
   "outputs": [
    {
     "data": {
      "text/html": [
       "<div>\n",
       "<style scoped>\n",
       "    .dataframe tbody tr th:only-of-type {\n",
       "        vertical-align: middle;\n",
       "    }\n",
       "\n",
       "    .dataframe tbody tr th {\n",
       "        vertical-align: top;\n",
       "    }\n",
       "\n",
       "    .dataframe thead th {\n",
       "        text-align: right;\n",
       "    }\n",
       "</style>\n",
       "<table border=\"1\" class=\"dataframe\">\n",
       "  <thead>\n",
       "    <tr style=\"text-align: right;\">\n",
       "      <th></th>\n",
       "      <th>Name</th>\n",
       "      <th>Age</th>\n",
       "      <th>Income</th>\n",
       "    </tr>\n",
       "  </thead>\n",
       "  <tbody>\n",
       "    <tr>\n",
       "      <th>0</th>\n",
       "      <td>Lekan</td>\n",
       "      <td>20</td>\n",
       "      <td>5000</td>\n",
       "    </tr>\n",
       "    <tr>\n",
       "      <th>1</th>\n",
       "      <td>Olaoluwa</td>\n",
       "      <td>35</td>\n",
       "      <td>7000</td>\n",
       "    </tr>\n",
       "    <tr>\n",
       "      <th>2</th>\n",
       "      <td>Peter</td>\n",
       "      <td>70</td>\n",
       "      <td>8000</td>\n",
       "    </tr>\n",
       "    <tr>\n",
       "      <th>3</th>\n",
       "      <td>Suliman</td>\n",
       "      <td>90</td>\n",
       "      <td>6500</td>\n",
       "    </tr>\n",
       "  </tbody>\n",
       "</table>\n",
       "</div>"
      ],
      "text/plain": [
       "       Name  Age  Income\n",
       "0     Lekan   20    5000\n",
       "1  Olaoluwa   35    7000\n",
       "2     Peter   70    8000\n",
       "3   Suliman   90    6500"
      ]
     },
     "execution_count": 66,
     "metadata": {},
     "output_type": "execute_result"
    }
   ],
   "source": [
    "df"
   ]
  },
  {
   "cell_type": "code",
   "execution_count": null,
   "id": "ee3ff61b",
   "metadata": {},
   "outputs": [],
   "source": []
  },
  {
   "cell_type": "markdown",
   "id": "2663ec69",
   "metadata": {},
   "source": [
    "\n",
    "### Reading Data from Files\n",
    "Pandas can easily read data stored in different file formats like CSV, Excel, or JSON.\n",
    "```python\n",
    "df = pd.read_csv('filename.csv')\n",
    "```"
   ]
  },
  {
   "cell_type": "code",
   "execution_count": null,
   "id": "79e338ba",
   "metadata": {},
   "outputs": [],
   "source": [
    "pd.read"
   ]
  },
  {
   "cell_type": "code",
   "execution_count": 71,
   "id": "2bdca38d",
   "metadata": {},
   "outputs": [],
   "source": [
    "df = pd.read_csv('Supermarket.csv')"
   ]
  },
  {
   "cell_type": "code",
   "execution_count": 77,
   "id": "6f9876d9",
   "metadata": {},
   "outputs": [
    {
     "data": {
      "text/html": [
       "<div>\n",
       "<style scoped>\n",
       "    .dataframe tbody tr th:only-of-type {\n",
       "        vertical-align: middle;\n",
       "    }\n",
       "\n",
       "    .dataframe tbody tr th {\n",
       "        vertical-align: top;\n",
       "    }\n",
       "\n",
       "    .dataframe thead th {\n",
       "        text-align: right;\n",
       "    }\n",
       "</style>\n",
       "<table border=\"1\" class=\"dataframe\">\n",
       "  <thead>\n",
       "    <tr style=\"text-align: right;\">\n",
       "      <th></th>\n",
       "      <th>Product Identifier</th>\n",
       "      <th>Supermarket Identifier</th>\n",
       "      <th>Product Supermarket Identifer</th>\n",
       "      <th>Product Weight</th>\n",
       "      <th>Product Fat Content</th>\n",
       "      <th>Product Shelf Visibility</th>\n",
       "      <th>Product Type</th>\n",
       "      <th>Product Price</th>\n",
       "      <th>Supermarket Opening Year</th>\n",
       "      <th>Supermarket  Size</th>\n",
       "      <th>Supermarket Location Type</th>\n",
       "      <th>Supermarket Type</th>\n",
       "      <th>Average Price per ProductType</th>\n",
       "      <th>Product Supermarket Sales</th>\n",
       "    </tr>\n",
       "  </thead>\n",
       "  <tbody>\n",
       "    <tr>\n",
       "      <th>0</th>\n",
       "      <td>NCA29</td>\n",
       "      <td>CHUKWUDI046</td>\n",
       "      <td>NCA29_CHUKWUDI046</td>\n",
       "      <td>10.500</td>\n",
       "      <td>Lo Fat</td>\n",
       "      <td>0.027276</td>\n",
       "      <td>Household</td>\n",
       "      <td>428.28</td>\n",
       "      <td>2004</td>\n",
       "      <td>Small</td>\n",
       "      <td>Cluster 1</td>\n",
       "      <td>Supermarket Type1</td>\n",
       "      <td>399.999418</td>\n",
       "      <td>8983.31</td>\n",
       "    </tr>\n",
       "    <tr>\n",
       "      <th>1</th>\n",
       "      <td>FDG53</td>\n",
       "      <td>CHUKWUDI049</td>\n",
       "      <td>FDG53_CHUKWUDI049</td>\n",
       "      <td>10.000</td>\n",
       "      <td>Low Fat</td>\n",
       "      <td>0.045928</td>\n",
       "      <td>Frozen Foods</td>\n",
       "      <td>345.30</td>\n",
       "      <td>2006</td>\n",
       "      <td>Medium</td>\n",
       "      <td>Cluster 1</td>\n",
       "      <td>Supermarket Type1</td>\n",
       "      <td>388.0710941</td>\n",
       "      <td>4893.63</td>\n",
       "    </tr>\n",
       "    <tr>\n",
       "      <th>2</th>\n",
       "      <td>NCN05</td>\n",
       "      <td>CHUKWUDI045</td>\n",
       "      <td>NCN05_CHUKWUDI045</td>\n",
       "      <td>8.235</td>\n",
       "      <td>Lo Fat</td>\n",
       "      <td>0.014489</td>\n",
       "      <td>Health and Hygiene</td>\n",
       "      <td>459.49</td>\n",
       "      <td>2009</td>\n",
       "      <td>NaN</td>\n",
       "      <td>Cluster 2</td>\n",
       "      <td>Supermarket Type1</td>\n",
       "      <td>367.1430293</td>\n",
       "      <td>7323.80</td>\n",
       "    </tr>\n",
       "    <tr>\n",
       "      <th>3</th>\n",
       "      <td>NCV17</td>\n",
       "      <td>CHUKWUDI046</td>\n",
       "      <td>NCV17_CHUKWUDI046</td>\n",
       "      <td>18.850</td>\n",
       "      <td>Low Fat</td>\n",
       "      <td>0.016108</td>\n",
       "      <td>Health and Hygiene</td>\n",
       "      <td>324.41</td>\n",
       "      <td>2004</td>\n",
       "      <td>Small</td>\n",
       "      <td>Cluster 1</td>\n",
       "      <td>Supermarket Type1</td>\n",
       "      <td>367.1430293</td>\n",
       "      <td>7541.85</td>\n",
       "    </tr>\n",
       "    <tr>\n",
       "      <th>4</th>\n",
       "      <td>FDK03</td>\n",
       "      <td>CHUKWUDI045</td>\n",
       "      <td>FDK03_CHUKWUDI045</td>\n",
       "      <td>12.600</td>\n",
       "      <td>Normal Fat</td>\n",
       "      <td>0.074070</td>\n",
       "      <td>Dairy</td>\n",
       "      <td>635.59</td>\n",
       "      <td>2009</td>\n",
       "      <td>NaN</td>\n",
       "      <td>Cluster 2</td>\n",
       "      <td>Supermarket Type1</td>\n",
       "      <td>409.5043429</td>\n",
       "      <td>11445.10</td>\n",
       "    </tr>\n",
       "  </tbody>\n",
       "</table>\n",
       "</div>"
      ],
      "text/plain": [
       "  Product Identifier Supermarket Identifier Product Supermarket Identifer  \\\n",
       "0              NCA29            CHUKWUDI046             NCA29_CHUKWUDI046   \n",
       "1              FDG53            CHUKWUDI049             FDG53_CHUKWUDI049   \n",
       "2              NCN05            CHUKWUDI045             NCN05_CHUKWUDI045   \n",
       "3              NCV17            CHUKWUDI046             NCV17_CHUKWUDI046   \n",
       "4              FDK03            CHUKWUDI045             FDK03_CHUKWUDI045   \n",
       "\n",
       "   Product Weight Product Fat Content  Product Shelf Visibility  \\\n",
       "0          10.500              Lo Fat                  0.027276   \n",
       "1          10.000             Low Fat                  0.045928   \n",
       "2           8.235              Lo Fat                  0.014489   \n",
       "3          18.850             Low Fat                  0.016108   \n",
       "4          12.600          Normal Fat                  0.074070   \n",
       "\n",
       "         Product Type  Product Price Supermarket Opening Year  \\\n",
       "0           Household         428.28                     2004   \n",
       "1        Frozen Foods         345.30                     2006   \n",
       "2  Health and Hygiene         459.49                     2009   \n",
       "3  Health and Hygiene         324.41                     2004   \n",
       "4               Dairy         635.59                     2009   \n",
       "\n",
       "  Supermarket  Size Supermarket Location Type   Supermarket Type  \\\n",
       "0             Small                 Cluster 1  Supermarket Type1   \n",
       "1            Medium                 Cluster 1  Supermarket Type1   \n",
       "2               NaN                 Cluster 2  Supermarket Type1   \n",
       "3             Small                 Cluster 1  Supermarket Type1   \n",
       "4               NaN                 Cluster 2  Supermarket Type1   \n",
       "\n",
       "  Average Price per ProductType  Product Supermarket Sales  \n",
       "0                    399.999418                    8983.31  \n",
       "1                   388.0710941                    4893.63  \n",
       "2                   367.1430293                    7323.80  \n",
       "3                   367.1430293                    7541.85  \n",
       "4                   409.5043429                   11445.10  "
      ]
     },
     "execution_count": 77,
     "metadata": {},
     "output_type": "execute_result"
    }
   ],
   "source": [
    "df.head()"
   ]
  },
  {
   "cell_type": "code",
   "execution_count": 78,
   "id": "7919f65a",
   "metadata": {},
   "outputs": [
    {
     "data": {
      "text/html": [
       "<div>\n",
       "<style scoped>\n",
       "    .dataframe tbody tr th:only-of-type {\n",
       "        vertical-align: middle;\n",
       "    }\n",
       "\n",
       "    .dataframe tbody tr th {\n",
       "        vertical-align: top;\n",
       "    }\n",
       "\n",
       "    .dataframe thead th {\n",
       "        text-align: right;\n",
       "    }\n",
       "</style>\n",
       "<table border=\"1\" class=\"dataframe\">\n",
       "  <thead>\n",
       "    <tr style=\"text-align: right;\">\n",
       "      <th></th>\n",
       "      <th>Product Identifier</th>\n",
       "      <th>Supermarket Identifier</th>\n",
       "      <th>Product Supermarket Identifer</th>\n",
       "      <th>Product Weight</th>\n",
       "      <th>Product Fat Content</th>\n",
       "      <th>Product Shelf Visibility</th>\n",
       "      <th>Product Type</th>\n",
       "      <th>Product Price</th>\n",
       "      <th>Supermarket Opening Year</th>\n",
       "      <th>Supermarket  Size</th>\n",
       "      <th>Supermarket Location Type</th>\n",
       "      <th>Supermarket Type</th>\n",
       "      <th>Average Price per ProductType</th>\n",
       "      <th>Product Supermarket Sales</th>\n",
       "    </tr>\n",
       "  </thead>\n",
       "  <tbody>\n",
       "    <tr>\n",
       "      <th>2989</th>\n",
       "      <td>FDK21</td>\n",
       "      <td>CHUKWUDI045</td>\n",
       "      <td>FDK21_CHUKWUDI045</td>\n",
       "      <td>7.905</td>\n",
       "      <td>Low Fat</td>\n",
       "      <td>0.010033</td>\n",
       "      <td>Snack Foods</td>\n",
       "      <td>620.85</td>\n",
       "      <td>2009</td>\n",
       "      <td>NaN</td>\n",
       "      <td>Cluster 2</td>\n",
       "      <td>Supermarket Type1</td>\n",
       "      <td>395.35219</td>\n",
       "      <td>1877.56</td>\n",
       "    </tr>\n",
       "    <tr>\n",
       "      <th>2990</th>\n",
       "      <td>NCJ05</td>\n",
       "      <td>CHUKWUDI049</td>\n",
       "      <td>NCJ05_CHUKWUDI049</td>\n",
       "      <td>18.700</td>\n",
       "      <td>Low Fat</td>\n",
       "      <td>0.046160</td>\n",
       "      <td>Health and Hygiene</td>\n",
       "      <td>380.92</td>\n",
       "      <td>2006</td>\n",
       "      <td>Medium</td>\n",
       "      <td>Cluster 1</td>\n",
       "      <td>Supermarket Type1</td>\n",
       "      <td>367.1430293</td>\n",
       "      <td>4192.88</td>\n",
       "    </tr>\n",
       "    <tr>\n",
       "      <th>2991</th>\n",
       "      <td>FDI04</td>\n",
       "      <td>CHUKWUDI019</td>\n",
       "      <td>FDI04_CHUKWUDI019</td>\n",
       "      <td>NaN</td>\n",
       "      <td>Normal Fat</td>\n",
       "      <td>0.127660</td>\n",
       "      <td>Frozen Foods</td>\n",
       "      <td>496.36</td>\n",
       "      <td>1992</td>\n",
       "      <td>small</td>\n",
       "      <td>Cluster 1</td>\n",
       "      <td>Grocery Store</td>\n",
       "      <td>388.0710941</td>\n",
       "      <td>1977.43</td>\n",
       "    </tr>\n",
       "    <tr>\n",
       "      <th>2992</th>\n",
       "      <td>DRG37</td>\n",
       "      <td>CHUKWUDI013</td>\n",
       "      <td>DRG37_CHUKWUDI013</td>\n",
       "      <td>16.200</td>\n",
       "      <td>Low Fat</td>\n",
       "      <td>0.019362</td>\n",
       "      <td>Soft Drinks</td>\n",
       "      <td>386.74</td>\n",
       "      <td>1994</td>\n",
       "      <td>High</td>\n",
       "      <td>Cluster 3</td>\n",
       "      <td>Supermarket Type1</td>\n",
       "      <td>386.9982375</td>\n",
       "      <td>4284.42</td>\n",
       "    </tr>\n",
       "    <tr>\n",
       "      <th>2993</th>\n",
       "      <td>FDE51</td>\n",
       "      <td>CHUKWUDI013</td>\n",
       "      <td>FDE51_CHUKWUDI013</td>\n",
       "      <td>5.925</td>\n",
       "      <td>Normal Fat</td>\n",
       "      <td>0.096387</td>\n",
       "      <td>Dairy</td>\n",
       "      <td>114.02</td>\n",
       "      <td>1994</td>\n",
       "      <td>High</td>\n",
       "      <td>Cluster 3</td>\n",
       "      <td>Supermarket Type1</td>\n",
       "      <td>409.5043429</td>\n",
       "      <td>892.17</td>\n",
       "    </tr>\n",
       "  </tbody>\n",
       "</table>\n",
       "</div>"
      ],
      "text/plain": [
       "     Product Identifier Supermarket Identifier Product Supermarket Identifer  \\\n",
       "2989              FDK21            CHUKWUDI045             FDK21_CHUKWUDI045   \n",
       "2990              NCJ05            CHUKWUDI049             NCJ05_CHUKWUDI049   \n",
       "2991              FDI04            CHUKWUDI019             FDI04_CHUKWUDI019   \n",
       "2992              DRG37            CHUKWUDI013             DRG37_CHUKWUDI013   \n",
       "2993              FDE51            CHUKWUDI013             FDE51_CHUKWUDI013   \n",
       "\n",
       "      Product Weight Product Fat Content  Product Shelf Visibility  \\\n",
       "2989           7.905             Low Fat                  0.010033   \n",
       "2990          18.700             Low Fat                  0.046160   \n",
       "2991             NaN          Normal Fat                  0.127660   \n",
       "2992          16.200             Low Fat                  0.019362   \n",
       "2993           5.925          Normal Fat                  0.096387   \n",
       "\n",
       "            Product Type  Product Price Supermarket Opening Year  \\\n",
       "2989         Snack Foods         620.85                     2009   \n",
       "2990  Health and Hygiene         380.92                     2006   \n",
       "2991        Frozen Foods         496.36                     1992   \n",
       "2992         Soft Drinks         386.74                     1994   \n",
       "2993               Dairy         114.02                     1994   \n",
       "\n",
       "     Supermarket  Size Supermarket Location Type   Supermarket Type  \\\n",
       "2989               NaN                 Cluster 2  Supermarket Type1   \n",
       "2990            Medium                 Cluster 1  Supermarket Type1   \n",
       "2991             small                 Cluster 1      Grocery Store   \n",
       "2992              High                 Cluster 3  Supermarket Type1   \n",
       "2993              High                 Cluster 3  Supermarket Type1   \n",
       "\n",
       "     Average Price per ProductType  Product Supermarket Sales  \n",
       "2989                     395.35219                    1877.56  \n",
       "2990                   367.1430293                    4192.88  \n",
       "2991                   388.0710941                    1977.43  \n",
       "2992                   386.9982375                    4284.42  \n",
       "2993                   409.5043429                     892.17  "
      ]
     },
     "execution_count": 78,
     "metadata": {},
     "output_type": "execute_result"
    }
   ],
   "source": [
    "df.tail()"
   ]
  },
  {
   "cell_type": "code",
   "execution_count": 79,
   "id": "732f33fd",
   "metadata": {},
   "outputs": [
    {
     "data": {
      "text/plain": [
       "(2994, 14)"
      ]
     },
     "execution_count": 79,
     "metadata": {},
     "output_type": "execute_result"
    }
   ],
   "source": [
    "df.shape"
   ]
  },
  {
   "cell_type": "code",
   "execution_count": 87,
   "id": "08487c0f",
   "metadata": {},
   "outputs": [
    {
     "data": {
      "text/html": [
       "<div>\n",
       "<style scoped>\n",
       "    .dataframe tbody tr th:only-of-type {\n",
       "        vertical-align: middle;\n",
       "    }\n",
       "\n",
       "    .dataframe tbody tr th {\n",
       "        vertical-align: top;\n",
       "    }\n",
       "\n",
       "    .dataframe thead th {\n",
       "        text-align: right;\n",
       "    }\n",
       "</style>\n",
       "<table border=\"1\" class=\"dataframe\">\n",
       "  <thead>\n",
       "    <tr style=\"text-align: right;\">\n",
       "      <th></th>\n",
       "      <th>Product Identifier</th>\n",
       "      <th>Supermarket Identifier</th>\n",
       "      <th>Product Supermarket Identifer</th>\n",
       "      <th>Product Weight</th>\n",
       "      <th>Product Fat Content</th>\n",
       "      <th>Product Shelf Visibility</th>\n",
       "      <th>Product Type</th>\n",
       "      <th>Product Price</th>\n",
       "      <th>Supermarket Opening Year</th>\n",
       "      <th>Supermarket  Size</th>\n",
       "      <th>Supermarket Location Type</th>\n",
       "      <th>Supermarket Type</th>\n",
       "      <th>Average Price per ProductType</th>\n",
       "      <th>Product Supermarket Sales</th>\n",
       "    </tr>\n",
       "  </thead>\n",
       "  <tbody>\n",
       "    <tr>\n",
       "      <th>2</th>\n",
       "      <td>NCN05</td>\n",
       "      <td>CHUKWUDI045</td>\n",
       "      <td>NCN05_CHUKWUDI045</td>\n",
       "      <td>8.235</td>\n",
       "      <td>Lo Fat</td>\n",
       "      <td>0.014489</td>\n",
       "      <td>Health and Hygiene</td>\n",
       "      <td>459.49</td>\n",
       "      <td>2009</td>\n",
       "      <td>NaN</td>\n",
       "      <td>Cluster 2</td>\n",
       "      <td>Supermarket Type1</td>\n",
       "      <td>367.1430293</td>\n",
       "      <td>7323.80</td>\n",
       "    </tr>\n",
       "    <tr>\n",
       "      <th>3</th>\n",
       "      <td>NCV17</td>\n",
       "      <td>CHUKWUDI046</td>\n",
       "      <td>NCV17_CHUKWUDI046</td>\n",
       "      <td>18.850</td>\n",
       "      <td>Low Fat</td>\n",
       "      <td>0.016108</td>\n",
       "      <td>Health and Hygiene</td>\n",
       "      <td>324.41</td>\n",
       "      <td>2004</td>\n",
       "      <td>Small</td>\n",
       "      <td>Cluster 1</td>\n",
       "      <td>Supermarket Type1</td>\n",
       "      <td>367.1430293</td>\n",
       "      <td>7541.85</td>\n",
       "    </tr>\n",
       "    <tr>\n",
       "      <th>4</th>\n",
       "      <td>FDK03</td>\n",
       "      <td>CHUKWUDI045</td>\n",
       "      <td>FDK03_CHUKWUDI045</td>\n",
       "      <td>12.600</td>\n",
       "      <td>Normal Fat</td>\n",
       "      <td>0.074070</td>\n",
       "      <td>Dairy</td>\n",
       "      <td>635.59</td>\n",
       "      <td>2009</td>\n",
       "      <td>NaN</td>\n",
       "      <td>Cluster 2</td>\n",
       "      <td>Supermarket Type1</td>\n",
       "      <td>409.5043429</td>\n",
       "      <td>11445.10</td>\n",
       "    </tr>\n",
       "    <tr>\n",
       "      <th>5</th>\n",
       "      <td>FDV02</td>\n",
       "      <td>CHUKWUDI027</td>\n",
       "      <td>FDV02_CHUKWUDI027</td>\n",
       "      <td>NaN</td>\n",
       "      <td>Low Fat</td>\n",
       "      <td>0.060252</td>\n",
       "      <td>Dairy</td>\n",
       "      <td>426.78</td>\n",
       "      <td>1992</td>\n",
       "      <td>Medium</td>\n",
       "      <td>Cluster 3</td>\n",
       "      <td>Supermarket Type3</td>\n",
       "      <td>409.5043429</td>\n",
       "      <td>7699.98</td>\n",
       "    </tr>\n",
       "    <tr>\n",
       "      <th>6</th>\n",
       "      <td>FDF17</td>\n",
       "      <td>CHUKWUDI017</td>\n",
       "      <td>FDF17_CHUKWUDI017</td>\n",
       "      <td>5.190</td>\n",
       "      <td>Low Fat</td>\n",
       "      <td>0.042862</td>\n",
       "      <td>Frozen Foods</td>\n",
       "      <td>492.03</td>\n",
       "      <td>2014</td>\n",
       "      <td>NaN</td>\n",
       "      <td>Cluster 2</td>\n",
       "      <td>Supermarket Type1</td>\n",
       "      <td>388.0710941</td>\n",
       "      <td>9329.52</td>\n",
       "    </tr>\n",
       "    <tr>\n",
       "      <th>7</th>\n",
       "      <td>FDA26</td>\n",
       "      <td>CHUKWUDI019</td>\n",
       "      <td>FDA26_CHUKWUDI019</td>\n",
       "      <td>NaN</td>\n",
       "      <td>Norml Fat</td>\n",
       "      <td>0.129425</td>\n",
       "      <td>Dairy</td>\n",
       "      <td>548.37</td>\n",
       "      <td>1992</td>\n",
       "      <td>Small</td>\n",
       "      <td>Cluster 1</td>\n",
       "      <td>Grocery Store</td>\n",
       "      <td>409.5043429</td>\n",
       "      <td>547.62</td>\n",
       "    </tr>\n",
       "    <tr>\n",
       "      <th>8</th>\n",
       "      <td>FDZ09</td>\n",
       "      <td>CHUKWUDI049</td>\n",
       "      <td>FDZ09_CHUKWUDI049</td>\n",
       "      <td>17.600</td>\n",
       "      <td>Low Fat</td>\n",
       "      <td>0.105042</td>\n",
       "      <td>Snack Foods</td>\n",
       "      <td>409.72</td>\n",
       "      <td>s006</td>\n",
       "      <td>Medium</td>\n",
       "      <td>Cluster 1</td>\n",
       "      <td>Supermarket Type1</td>\n",
       "      <td>395.35219</td>\n",
       "      <td>7779.87</td>\n",
       "    </tr>\n",
       "    <tr>\n",
       "      <th>9</th>\n",
       "      <td>FDL08</td>\n",
       "      <td>CHUKWUDI027</td>\n",
       "      <td>FDL08_CHUKWUDI027</td>\n",
       "      <td>NaN</td>\n",
       "      <td>Lo Fat</td>\n",
       "      <td>0.049478</td>\n",
       "      <td>Fruits and Veg</td>\n",
       "      <td>613.54</td>\n",
       "      <td>1992</td>\n",
       "      <td>Medium</td>\n",
       "      <td>Cluster 3</td>\n",
       "      <td>Supermarket Type3</td>\n",
       "      <td>398.2481124</td>\n",
       "      <td>9188.04</td>\n",
       "    </tr>\n",
       "    <tr>\n",
       "      <th>10</th>\n",
       "      <td>FDW20</td>\n",
       "      <td>CHUKWUDI010</td>\n",
       "      <td>FDW20_CHUKWUDI010</td>\n",
       "      <td>20.750</td>\n",
       "      <td>Low Fat</td>\n",
       "      <td>0.040421</td>\n",
       "      <td>Fruits and Vegetables</td>\n",
       "      <td>305.43</td>\n",
       "      <td>2005</td>\n",
       "      <td>NaN</td>\n",
       "      <td>Cluster 3</td>\n",
       "      <td>Grocery Store</td>\n",
       "      <td>398.2481124</td>\n",
       "      <td>923.80</td>\n",
       "    </tr>\n",
       "    <tr>\n",
       "      <th>11</th>\n",
       "      <td>FDX44</td>\n",
       "      <td>CHUKWUDI013</td>\n",
       "      <td>FDX44_CHUKWUDI013</td>\n",
       "      <td>9.300</td>\n",
       "      <td>Low Fat</td>\n",
       "      <td>0.042931</td>\n",
       "      <td>Fruits and Vegetables</td>\n",
       "      <td>221.29</td>\n",
       "      <td>1994</td>\n",
       "      <td>High</td>\n",
       "      <td>Cluster 3</td>\n",
       "      <td>Supermarket Type1</td>\n",
       "      <td>398.2481124</td>\n",
       "      <td>3568.69</td>\n",
       "    </tr>\n",
       "    <tr>\n",
       "      <th>12</th>\n",
       "      <td>NCI29</td>\n",
       "      <td>CHUKWUDI017</td>\n",
       "      <td>NCI29_CHUKWUDI017</td>\n",
       "      <td>8.600</td>\n",
       "      <td>Low Fat</td>\n",
       "      <td>0.032806</td>\n",
       "      <td>Health and Hygiene</td>\n",
       "      <td>359.04</td>\n",
       "      <td>2014</td>\n",
       "      <td>NaN</td>\n",
       "      <td>Cluster 2</td>\n",
       "      <td>Supermarket Type1</td>\n",
       "      <td>367.1430293</td>\n",
       "      <td>5318.08</td>\n",
       "    </tr>\n",
       "    <tr>\n",
       "      <th>13</th>\n",
       "      <td>FDZ10</td>\n",
       "      <td>CHUKWUDI013</td>\n",
       "      <td>FDZ10_CHUKWUDI013</td>\n",
       "      <td>17.850</td>\n",
       "      <td>Low Fat</td>\n",
       "      <td>0.044426</td>\n",
       "      <td>Snack Foods</td>\n",
       "      <td>312.26</td>\n",
       "      <td>1994</td>\n",
       "      <td>High</td>\n",
       "      <td>Cluster 3</td>\n",
       "      <td>Supermarket Type1</td>\n",
       "      <td>395.35219</td>\n",
       "      <td>4743.83</td>\n",
       "    </tr>\n",
       "    <tr>\n",
       "      <th>14</th>\n",
       "      <td>FDN44</td>\n",
       "      <td>CHUKWUDI017</td>\n",
       "      <td>FDN44_CHUKWUDI017</td>\n",
       "      <td>13.150</td>\n",
       "      <td>Ultra Low fat</td>\n",
       "      <td>0.022925</td>\n",
       "      <td>Fruits and Veg</td>\n",
       "      <td>394.73</td>\n",
       "      <td>2014</td>\n",
       "      <td>NaN</td>\n",
       "      <td>Cluster 2</td>\n",
       "      <td>Supermarket Type1</td>\n",
       "      <td>398.2481124</td>\n",
       "      <td>4793.76</td>\n",
       "    </tr>\n",
       "  </tbody>\n",
       "</table>\n",
       "</div>"
      ],
      "text/plain": [
       "   Product Identifier Supermarket Identifier Product Supermarket Identifer  \\\n",
       "2               NCN05            CHUKWUDI045             NCN05_CHUKWUDI045   \n",
       "3               NCV17            CHUKWUDI046             NCV17_CHUKWUDI046   \n",
       "4               FDK03            CHUKWUDI045             FDK03_CHUKWUDI045   \n",
       "5               FDV02            CHUKWUDI027             FDV02_CHUKWUDI027   \n",
       "6               FDF17            CHUKWUDI017             FDF17_CHUKWUDI017   \n",
       "7               FDA26            CHUKWUDI019             FDA26_CHUKWUDI019   \n",
       "8               FDZ09            CHUKWUDI049             FDZ09_CHUKWUDI049   \n",
       "9               FDL08            CHUKWUDI027             FDL08_CHUKWUDI027   \n",
       "10              FDW20            CHUKWUDI010             FDW20_CHUKWUDI010   \n",
       "11              FDX44            CHUKWUDI013             FDX44_CHUKWUDI013   \n",
       "12              NCI29            CHUKWUDI017             NCI29_CHUKWUDI017   \n",
       "13              FDZ10            CHUKWUDI013             FDZ10_CHUKWUDI013   \n",
       "14              FDN44            CHUKWUDI017             FDN44_CHUKWUDI017   \n",
       "\n",
       "    Product Weight Product Fat Content  Product Shelf Visibility  \\\n",
       "2            8.235              Lo Fat                  0.014489   \n",
       "3           18.850             Low Fat                  0.016108   \n",
       "4           12.600          Normal Fat                  0.074070   \n",
       "5              NaN             Low Fat                  0.060252   \n",
       "6            5.190             Low Fat                  0.042862   \n",
       "7              NaN           Norml Fat                  0.129425   \n",
       "8           17.600             Low Fat                  0.105042   \n",
       "9              NaN              Lo Fat                  0.049478   \n",
       "10          20.750             Low Fat                  0.040421   \n",
       "11           9.300             Low Fat                  0.042931   \n",
       "12           8.600             Low Fat                  0.032806   \n",
       "13          17.850             Low Fat                  0.044426   \n",
       "14          13.150       Ultra Low fat                  0.022925   \n",
       "\n",
       "             Product Type  Product Price Supermarket Opening Year  \\\n",
       "2      Health and Hygiene         459.49                     2009   \n",
       "3      Health and Hygiene         324.41                     2004   \n",
       "4                   Dairy         635.59                     2009   \n",
       "5                   Dairy         426.78                     1992   \n",
       "6            Frozen Foods         492.03                     2014   \n",
       "7                   Dairy         548.37                     1992   \n",
       "8             Snack Foods         409.72                     s006   \n",
       "9          Fruits and Veg         613.54                     1992   \n",
       "10  Fruits and Vegetables         305.43                     2005   \n",
       "11  Fruits and Vegetables         221.29                     1994   \n",
       "12     Health and Hygiene         359.04                     2014   \n",
       "13            Snack Foods         312.26                     1994   \n",
       "14         Fruits and Veg         394.73                     2014   \n",
       "\n",
       "   Supermarket  Size Supermarket Location Type   Supermarket Type  \\\n",
       "2                NaN                 Cluster 2  Supermarket Type1   \n",
       "3              Small                 Cluster 1  Supermarket Type1   \n",
       "4                NaN                 Cluster 2  Supermarket Type1   \n",
       "5             Medium                 Cluster 3  Supermarket Type3   \n",
       "6                NaN                 Cluster 2  Supermarket Type1   \n",
       "7              Small                 Cluster 1      Grocery Store   \n",
       "8             Medium                 Cluster 1  Supermarket Type1   \n",
       "9             Medium                 Cluster 3  Supermarket Type3   \n",
       "10               NaN                 Cluster 3      Grocery Store   \n",
       "11              High                 Cluster 3  Supermarket Type1   \n",
       "12               NaN                 Cluster 2  Supermarket Type1   \n",
       "13              High                 Cluster 3  Supermarket Type1   \n",
       "14               NaN                 Cluster 2  Supermarket Type1   \n",
       "\n",
       "   Average Price per ProductType  Product Supermarket Sales  \n",
       "2                    367.1430293                    7323.80  \n",
       "3                    367.1430293                    7541.85  \n",
       "4                    409.5043429                   11445.10  \n",
       "5                    409.5043429                    7699.98  \n",
       "6                    388.0710941                    9329.52  \n",
       "7                    409.5043429                     547.62  \n",
       "8                      395.35219                    7779.87  \n",
       "9                    398.2481124                    9188.04  \n",
       "10                   398.2481124                     923.80  \n",
       "11                   398.2481124                    3568.69  \n",
       "12                   367.1430293                    5318.08  \n",
       "13                     395.35219                    4743.83  \n",
       "14                   398.2481124                    4793.76  "
      ]
     },
     "execution_count": 87,
     "metadata": {},
     "output_type": "execute_result"
    }
   ],
   "source": [
    "#slicing\n",
    "df[2:15]"
   ]
  },
  {
   "cell_type": "code",
   "execution_count": null,
   "id": "8532bcba",
   "metadata": {},
   "outputs": [],
   "source": []
  },
  {
   "cell_type": "code",
   "execution_count": null,
   "id": "09b7d109",
   "metadata": {},
   "outputs": [],
   "source": []
  },
  {
   "cell_type": "code",
   "execution_count": null,
   "id": "43d249db",
   "metadata": {},
   "outputs": [],
   "source": []
  }
 ],
 "metadata": {
  "kernelspec": {
   "display_name": "Python 3 (ipykernel)",
   "language": "python",
   "name": "python3"
  },
  "language_info": {
   "codemirror_mode": {
    "name": "ipython",
    "version": 3
   },
   "file_extension": ".py",
   "mimetype": "text/x-python",
   "name": "python",
   "nbconvert_exporter": "python",
   "pygments_lexer": "ipython3",
   "version": "3.9.12"
  }
 },
 "nbformat": 4,
 "nbformat_minor": 5
}
